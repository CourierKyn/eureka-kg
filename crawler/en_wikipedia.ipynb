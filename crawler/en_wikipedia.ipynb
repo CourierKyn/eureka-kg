{
 "cells": [
  {
   "cell_type": "code",
   "execution_count": 2,
   "metadata": {
    "ExecuteTime": {
     "end_time": "2019-03-21T11:17:50.501322Z",
     "start_time": "2019-03-21T11:17:49.631649Z"
    }
   },
   "outputs": [],
   "source": [
    "import requests\n",
    "from bs4 import BeautifulSoup\n",
    "import pandas as pd\n",
    "import re\n",
    "import json\n",
    "from util import get\n",
    "\n"
   ]
  },
  {
   "cell_type": "code",
   "execution_count": 3,
   "metadata": {
    "ExecuteTime": {
     "end_time": "2019-03-21T11:18:35.562858Z",
     "start_time": "2019-03-21T11:17:50.503317Z"
    }
   },
   "outputs": [
    {
     "name": "stdout",
     "output_type": "stream",
     "text": [
      "HTTPSConnectionPool(host='en.wikipedia.org', port=443): Max retries exceeded with url: /wiki/Ant_Financial (Caused by NewConnectionError('<urllib3.connection.VerifiedHTTPSConnection object at 0x7fef951044e0>: Failed to establish a new connection: [Errno -2] Name or service not known',)) from https://en.wikipedia.org/wiki/Ant_Financial\n",
      "None\n"
     ]
    }
   ],
   "source": [
    "def parse(r):\n",
    "    if r is None:\n",
    "        return\n",
    "    soup = BeautifulSoup(r.text, 'lxml')\n",
    "    name = soup.select('#firstHeading')\n",
    "    description = soup.select('div.mw-parser-output > p')\n",
    "    metadata = soup.select('div.mw-parser-output > table')[0]\n",
    "    data = {'url': url,\n",
    "    'name': name[0].get_text(),\n",
    "    'description': description[0].get_text(),\n",
    "    'metadata': pd.read_html(url)[0].dropna(axis=0).to_dict()\n",
    "    }\n",
    "    return data\n",
    "\n",
    "url='https://en.wikipedia.org/wiki/Ant_Financial'\n",
    "output=parse(get(url))\n",
    "print(output)\n",
    "# with open(url.split('/')[-1]+'.json', 'w') as f:\n",
    "#     json.dump(output, f, indent=4)"
   ]
  },
  {
   "cell_type": "code",
   "execution_count": null,
   "metadata": {},
   "outputs": [],
   "source": []
  }
 ],
 "metadata": {
  "kernelspec": {
   "display_name": "Python 3",
   "language": "python",
   "name": "python3"
  },
  "language_info": {
   "codemirror_mode": {
    "name": "ipython",
    "version": 3
   },
   "file_extension": ".py",
   "mimetype": "text/x-python",
   "name": "python",
   "nbconvert_exporter": "python",
   "pygments_lexer": "ipython3",
   "version": "3.6.7"
  },
  "toc": {
   "base_numbering": 1,
   "nav_menu": {},
   "number_sections": true,
   "sideBar": true,
   "skip_h1_title": false,
   "title_cell": "Table of Contents",
   "title_sidebar": "Contents",
   "toc_cell": false,
   "toc_position": {},
   "toc_section_display": true,
   "toc_window_display": false
  }
 },
 "nbformat": 4,
 "nbformat_minor": 2
}
