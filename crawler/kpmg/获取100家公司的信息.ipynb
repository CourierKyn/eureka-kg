{
 "cells": [
  {
   "cell_type": "code",
   "execution_count": 1,
   "metadata": {},
   "outputs": [],
   "source": [
    "import importlib\n",
    "import sys\n",
    "import re\n",
    "import random\n",
    "from urllib.request import urlopen\n",
    "from urllib.request import Request\n",
    "\n",
    "from pdfminer.converter import PDFPageAggregator\n",
    "from pdfminer.layout import LTTextBoxHorizontal, LAParams\n",
    "from pdfminer.pdfinterp import PDFResourceManager, PDFPageInterpreter\n",
    "from pdfminer.pdfinterp import PDFTextExtractionNotAllowed\n",
    "from pdfminer.pdfparser import PDFParser, PDFDocument\n",
    "from PyPDF2 import PdfFileWriter, PdfFileReader"
   ]
  },
  {
   "cell_type": "markdown",
   "metadata": {},
   "source": [
    "## 两个之前的函数"
   ]
  },
  {
   "cell_type": "code",
   "execution_count": 2,
   "metadata": {},
   "outputs": [],
   "source": [
    "def  pdfCrap(path,start_page,i,save_path):\n",
    "    \"\"\"\n",
    "    从pdf文件中截取几页，并保存在对应pdf文件中\n",
    "    \n",
    "    path:源文件的地址\n",
    "    start_page:要开始的截取的页\n",
    "    i:要截取的页数\n",
    "    save_path:保存文件的地址\n",
    "    \"\"\"\n",
    "    # 开始页\n",
    "    start_page = start_page - 1\n",
    "    # 截止页\n",
    "    end_page = start_page +  i  # 这里设定截取几页\n",
    "    output = PdfFileWriter()\n",
    "    pdf_file = PdfFileReader(open(path, \"rb\"), strict=False)\n",
    "    pdf_pages_len = pdf_file.getNumPages()\n",
    "    for i  in  range(start_page, end_page):\n",
    "        output.addPage(pdf_file.getPage(i)) # 在输出流中添加页\n",
    "    outputStream =  open(save_path, \"wb\")\n",
    "    output.write(outputStream)"
   ]
  },
  {
   "cell_type": "code",
   "execution_count": 25,
   "metadata": {},
   "outputs": [],
   "source": [
    "def parse(path,text):\n",
    "    '''\n",
    "    将对应的pdf页转换成txt\n",
    "    \n",
    "    path：文件的地址\n",
    "    text：保存的地址\n",
    "    '''\n",
    "    with open(path,'rb')as fp:# rb以二进制读模式打开本地pdf文件\n",
    "\n",
    "        # 用文件对象来创建一个pdf文档分析器\n",
    "        praser_pdf = PDFParser(fp)\n",
    "        # 创建一个PDF文档\n",
    "        doc = PDFDocument()\n",
    "\n",
    "        # 连接分析器 与文档对象\n",
    "        praser_pdf.set_document(doc)\n",
    "        doc.set_parser(praser_pdf)\n",
    "\n",
    "        # 提供初始化密码doc.initialize(\"123456\")\n",
    "        # 如果没有密码 就创建一个空的字符串\n",
    "        doc.initialize()\n",
    "\n",
    "        # 检测文档是否提供txt转换，不提供就忽略\n",
    "        if not doc.is_extractable:\n",
    "            raise PDFTextExtractionNotAllowed\n",
    "        else:\n",
    "            # 创建PDf资源管理器 来管理共享资源\n",
    "            rsrcmgr = PDFResourceManager()\n",
    "\n",
    "            # 创建一个PDF参数分析器  创建一个PDF设备对象\n",
    "            laparams = LAParams()\n",
    "\n",
    "            # 创建聚合器\n",
    "            device = PDFPageAggregator(rsrcmgr, laparams=laparams)\n",
    "\n",
    "            # 创建一个PDF页面解释器对象\n",
    "            interpreter = PDFPageInterpreter(rsrcmgr, device)\n",
    "\n",
    "            # 循环遍历列表，每次处理一页的内容\n",
    "            # doc.get_pages() 获取page列表\n",
    "            for page in doc.get_pages():\n",
    "                # 使用页面解释器来读取\n",
    "                interpreter.process_page(page)\n",
    "\n",
    "                # 使用聚合器获取内容\n",
    "                layout = device.get_result()\n",
    "\n",
    "                # 这里layout是一个LTPage对象 里面存放着 这个page解析出的各种对象 一般包括LTTextBox, LTFigure, LTImage, LTTextBoxHorizontal 等等 想要获取文本就获得对象的text属性，\n",
    "                for out in layout:\n",
    "                    # 判断是否含有get_text()方法，图片之类的就没有\n",
    "                    # if hasattr(out,\"get_text\"):\n",
    "                    if isinstance(out, LTTextBoxHorizontal):\n",
    "                        results = out.get_text()\n",
    "                        text.write(results)\n"
   ]
  },
  {
   "cell_type": "code",
   "execution_count": 9,
   "metadata": {},
   "outputs": [],
   "source": [
    "pdfCrap(r\"F:\\project\\ML_project\\Fintech100-2018-Report_Final_22-11-18sm.pdf\",12,100,r\"F:\\project\\ML_project\\Fintech100-12-111.pdf\")"
   ]
  },
  {
   "cell_type": "markdown",
   "metadata": {
    "heading_collapsed": true
   },
   "source": [
    "## 把每一页pdf转成txt存储起来"
   ]
  },
  {
   "cell_type": "code",
   "execution_count": 2,
   "metadata": {
    "hidden": true
   },
   "outputs": [],
   "source": [
    "text = []\n",
    "with open(r\"F:\\project\\ML_project\\Fintech100-12-111.pdf\",'rb')as fp:# rb以二进制读模式打开本地pdf文件\n",
    "\n",
    "    # 用文件对象来创建一个pdf文档分析器\n",
    "    praser_pdf = PDFParser(fp)\n",
    "    # 创建一个PDF文档\n",
    "    doc = PDFDocument()\n",
    "\n",
    "    # 连接分析器 与文档对象\n",
    "    praser_pdf.set_document(doc)\n",
    "    doc.set_parser(praser_pdf)\n",
    "\n",
    "    # 提供初始化密码doc.initialize(\"123456\")\n",
    "    # 如果没有密码 就创建一个空的字符串\n",
    "    doc.initialize()\n",
    "\n",
    "    # 检测文档是否提供txt转换，不提供就忽略\n",
    "    if not doc.is_extractable:\n",
    "        raise PDFTextExtractionNotAllowed\n",
    "    else:\n",
    "        # 创建PDf资源管理器 来管理共享资源\n",
    "        rsrcmgr = PDFResourceManager()\n",
    "\n",
    "        # 创建一个PDF参数分析器  创建一个PDF设备对象\n",
    "        laparams = LAParams()\n",
    "\n",
    "        # 创建聚合器\n",
    "        device = PDFPageAggregator(rsrcmgr, laparams=laparams)\n",
    "\n",
    "        # 创建一个PDF页面解释器对象\n",
    "        interpreter = PDFPageInterpreter(rsrcmgr, device)\n",
    "\n",
    "        # 循环遍历列表，每次处理一页的内容\n",
    "        # doc.get_pages() 获取page列表\n",
    "        for page in doc.get_pages():\n",
    "            # 使用页面解释器来读取\n",
    "            interpreter.process_page(page)\n",
    "\n",
    "            # 使用聚合器获取内容\n",
    "            layout = device.get_result()    \n",
    "            results1 = ''\n",
    "            for out in layout:\n",
    "                if isinstance(out, LTTextBoxHorizontal):\n",
    "                    results = out.get_text()\n",
    "                    results1 = results1 + results\n",
    "            text.append(results1)"
   ]
  },
  {
   "cell_type": "code",
   "execution_count": 3,
   "metadata": {
    "hidden": true
   },
   "outputs": [
    {
     "data": {
      "text/plain": [
       "['01\\nAnt Financial\\n“[Eric, CEO] has shown a unique combination of idealism, optimism and professionalism. He dreams big, \\nyet is down-to-earth. He keeps his eye on the future while making every day count,” Jack Ma\\nCompany Description\\nAt a Glance\\nAnt Financial Services Group is dedicated to using \\ntechnology to bring the world equal opportunities. Their \\ntechnologies, including blockchain, artificial intelligence, \\nsercurity, Internet of Things and computing, has helped \\nAnt Financial and their ecosystem partners to serve the \\nunbanked and underbanked. \\nBy the end of March 2018, together with their JV \\npartners, Ant Financial served 870 million users \\nworldwide. Brands under Ant Financial include Alipay, \\nAnt Fortune, Yu’e Bao, Zhima Credit, MYbank and Ant \\nFinancial Cloud.\\nNotable Investors\\nTemasek Holdings, GIC, China Investment Corp (CIC), CCB \\nTrust, China Life, China Post Group, China Development \\nBank Capital, Primavera Capital Group, National Social \\nSecurity Fund (NSSF)\\nCategory  \\nMulti\\nOwnership  \\nPrivate\\nRank Last Year  \\n01\\nStaff\\n👤  👤  👤  👤  👤 \\nTagline \\nBring small and beautiful \\nchanges to the world\\nLocated  \\nChina\\nYear Founded  \\n2004\\nKey People  \\nEric Jing\\nWebsite  \\nantgroup.com\\n12\\n',\n",
       " '02\\nJD Finance\\n“We will not do anything harmful to our users, never and ever, though it can make money rapidly, which is \\nour bottom line.” – Shengqiang Chen\\nCompany Description\\nAt a Glance\\nJD Finance began operating as an independent company \\nin October 2013. Positioned as a digital technology \\ncompany serving financial institutions, JD Finance is \\ndedicated to providing digital, online and offline all-\\nscenario servicesaround three key points - data, user and \\nconnectivity, by means of such emerging technologies \\nas big data, AI, cloud computing, blockchain and IoT. By \\nso doing, it is aimed to empower financial institutions to \\nimprove efficiency, reduce costs and increase income in \\nthe core value sections like scenario expansion, customer \\nacquisition, operation, risk control, and R&D, and propel \\nthe industry to comprehensively stride into the digital \\nfinance era.  \\nNotable investors:\\nCICC, BOCGI ,China Securities, CITIC Capital, Sequoia \\nCapital China, China Harvest Investments and China \\nTaiping Insurance.\\nCategory  \\nMulti\\nOwnership  \\nPrivate\\nRank Last Year  \\n09\\nStaff\\n👤  👤  👤  👤  👤 \\nTagline \\nCreating a Better Future with \\nTechnology\\nLocated  \\nChina\\nYear Founded  \\n2013\\nKey People  \\nShengqiang Chen\\nWebsite  \\njr.jd.com\\n13\\n',\n",
       " '03\\nGrab\\n“Southeast Asia’s digital economy is beginning to rapidly develop, and Grab is well positioned to be a \\npartner and enabler in this transformation.” - Anthony Tan\\nCompany Description\\nAt a Glance\\nGrab is one of the most frequently used offline-to-online \\n(O2O) mobile platforms in Southeast Asia, evolving from \\na ride-hailing platform to an everyday super app that \\nprovides essential services to consumers in this region. \\ncommute.  \\nGrab launched its proprietary digital payments platform, \\nGrabPay, in 2016 to facilitate ride-hailing payments \\nand has since expanded to enable peer-to-peer fund \\ntransfers, merchant transactions, insurance and micro-\\nlending services.  \\nNotable Investors\\nToyota Motor Corporation, Vulcan Capital, Ping An \\nCapital, Oppenheimer Funds, Macquarie Capital, \\nLightspeed Ventures Partners, All-Stars Investment, \\nSoftBank\\nTagline \\nGo cashless. Pay seamlessly.\\nCategory  \\nMulti\\nLocated  \\nSingapore\\nYear Founded  \\n2012\\nKey People  \\nAnthony Tan\\nWebsite  \\ngrab.com\\nOwnership  \\nPrivate\\nRank Last Year  \\nNew to the list\\nStaff\\n👤  👤  👤  👤  👤 \\n14\\n',\n",
       " '04\\nDu Xiaoman Financial\\n“We believe that the application of AI technology in the financial sphere has already left the laboratory \\nphase, and officially entered the standardised application phase.” - Zhu Guang\\nCompany Description\\nDu Xiaoman Financial, which earlier this year split off \\nfrom it’s parent Baidu, provides short-term loans and \\ninvestment services. \\nAs a financial technology company, Xiaoman Finance \\ngives full play to Baidu’s AI advantages and technical \\nstrength in the era of intelligent finance, and works with \\nfinancial institution partners to provide more reliable \\nfinancial services to more people.\\nNotable Investors\\nTPG, Carlyle Group\\nAt a Glance\\nTagline \\nXiaoxiao Finance \\nLocated  \\nChina\\nYear Founded  \\n2015\\nKey People  \\nZhu Guang  \\nWebsite  \\njinrong.baidu.com\\nCategory  \\nMulti\\nOwnership  \\nPrivate\\nRank Last Year  \\nNew to the list\\nStaff\\n👤  👤  👤  👤  👤 \\n15\\n',\n",
       " '05\\nSoFi\\n“The growth has been incredibly strong, the demand has been really positive, and I want to make sure that \\nwe are allocating our resources for the next wave of growth beyond 2018.” - Anthony Noto\\nCompany Description\\nAt a Glance\\nSocial Finance Inc. SoFi is an online finance company \\nthat provides lending products including student loan \\nrefinancing, mortgages, and personal loans. SoFi’s \\nunconventional approach to underwriting considers \\naccount merit, employment records and a series of other \\nkey factors, creating a more holistic way of serving their \\ncustomers. Individual and institutional investors are also \\nable to positively impact social groups and the broader \\ncommunity while also gaining attractive rates of return. \\nIn June 2018, the company began offering customers \\na checking account and debit card under a new offering \\ncalled SoFi Money.\\xa0\\nNotable Investors\\nRPM Ventures, RSC Capital, SoftBank, Third Point \\nVentures, Silver Lake Partners, DCM Ventures\\nCategory  \\nLending\\nOwnership  \\nPrivate\\nRank Last Year  \\n11\\nStaff\\n👤  👤  👤  👤  👤 \\nTagline \\nA finance company that can \\nhelp you get ahead \\nLocated  \\nUnited States\\nYear Founded  \\n2011\\nKey People  \\nAnthony Noto\\nWebsite  \\nsofi.com\\n16\\n',\n",
       " '06\\nOscar Health\\n“Trying to change how the health care system in the US operates by starting an insurance company \\nwasn’t an idea that really anybody else had at that point.” - Mario Schlosser\\nCompany Description\\nAt a Glance\\nOscar, brainchild of US technology and healthcare \\nexperts, is transforming the current state of the US \\nhealthcare system. The company is applying big data \\nand machine learning to reinvent preventative health \\ncare management and claims processing in an effort to \\nincrease transparency and reduce the cost of healthcare.\\xa0\\nKnown for offering individual cover under the Affordable \\nCare Act, Oscar plans on getting into Medicare \\nAdvantage in 2020, a deviation from the current offerings \\nin individual and employer insurance markets.\\nNotable Investors\\nAlphabet (Google Holding Company), Thrive Capital, \\nGeneral Catalyst Partners, Khosla Ventures, CapitalG, \\nand Fidelity Investments, Founders Fund \\nCategory  \\nInsurance\\nOwnership  \\nPrivate\\nRank Last Year  \\n04\\nStaff\\n👤  👤  👤  👤  👤 \\nTagline \\nEasy health insurance for you \\nand your business.\\nLocated  \\nUnited States\\nYear Founded  \\n2013\\nKey People  \\nMario Schlosser\\nJoshua Kushner\\nWebsite  \\nhioscar.com\\n17\\n',\n",
       " '07\\nNubank\\n“Over 20 million people have applied for the card, there are active, engaged, customers that want to get \\neverything from us.” - David Vélez\\nCompany Description\\nAt a Glance\\nTagline \\nYou control your finances.\\nLocated  \\nBrazil\\nYear Founded  \\n2013\\nKey People  \\nDavid Vélez\\nWebsite  \\nwww.nubank.com.br\\nCategory  \\nNeo-Bank\\nOwnership  \\nPrivate\\nRank Last Year  \\n12\\nStaff\\n👤  👤  👤  👤  👤 \\nNubank offers a mobile phone application that controls \\nits own platinum Mastercard credit card, providing a \\nseamless and simple spending experience. With 100% \\ndigital channels and reduced paperwork frictions, Nubank \\ndoes not charge fees for it’s card usage and can be used \\nin more than 30 million channels across the world. \\nOver the last five years, Nubank has built a portfolio of \\n5 million customers for its no-fee credit card, while 2.5 \\nmillion people have signed up for the company’s digital \\nbank account, launched a year ago. The company is \\npositioned as one of the top 5 credit card issuers in Brazil \\nand the largest challenger bank in the world outside Asia. \\nNotable Investors\\nTencent Holdings, Fortress Investments, Goldman \\nSachs, Redpoint, Founders Fund, QED Investors, Sequoia \\nCapital, Tiger Global Management, DST Global\\n18\\n',\n",
       " '08\\nRobinhood\\n“We have an ambitious long-term vision to become a full-service financial services company over the \\nnext couple of years.” - Vlad Tenev\\nCompany Description\\nAt a Glance\\nRobinhood is a zero fee stock trading app that also offers \\nETFs, options and, as of February this year, cryptocurrency \\ntrading. They enable users with a zero commission model \\nto transact US stocks and ETFs. \\nBy slimming down the investment process and removing \\nexcessive brokerage costs, their users can easily access \\nthe financial markets.\\xa0In May, Robinhood surpassed its rival \\nE-Trade with 5 million brokerage accounts and $150 billion \\nin transaction volume.\\nNotable Investors\\nDST Global, Sequoia Capital, Iconiq Capital. Index \\nVentures, Tim Draper, Andreessen Horowitz, Snoop Dogg\\nTagline \\nInvest for Free\\nLocated  \\nUnited States\\nYear Founded  \\n2013\\nKey People  \\nBaiju Bhatt\\nVladimir Tenev\\nNate Rodland\\nWebsite  \\nwww.robinhood.com\\nCategory  \\nWealth\\nOwnership  \\nPrivate\\nRank Last Year  \\n50\\nStaff\\n👤  👤  👤  👤  👤 \\n19\\n',\n",
       " '09\\nAtom Bank\\n“Banks are failing to manage the obsolescence of their current IT infrastructure. The adequate move for \\nbanks to reduce their ponderous cost structure is through partnerships with Fintech solutions.” - Mark Mullen\\nCompany Description\\nAt a Glance\\nAtom Bank is the UK’s first bank designed specifically \\nfor digital, offering a range of personal and business \\nbanking products including Digital Mortgages by Atom, \\nfour market-leading Fixed Saver accounts and secured \\nBusiness Lending to SMEs. \\nThe company, which has no physical branches, allows \\nusers to login using face and voice recognition and \\nreceive support from a 24/7 customer service team.\\xa0By \\nMarch of this year, Atom had taken\\xa0US$1.7 billion \\nof deposits and loaned over\\xa0US$1.5 billion to\\xa0SME \\nbusinesses and homeowners in the UK.\\xa0\\nNotable Investors\\nBBVA, Woodford Investment Management, Toscafund \\nAsset Management\\nCategory  \\nNeo-Bank\\nOwnership  \\nPrivate\\nRank Last Year  \\n08\\nStaff\\n👤  👤  👤  👤  👤 \\nTagline \\nThe future of banking, \\navailable today\\nLocated  \\nUnited Kingdom\\nYear Founded  \\n2014\\nKey People  \\nAnthony Thomson\\nMark Mullen\\nWebsite  \\nwww.atombank.co.uk\\n20\\n',\n",
       " '10\\nLufax Holding\\n“The development of big data and AI will lead to the emerging of many new product portfolios for clients \\nto invest in diversified sectors.” - Gregory Gibb\\nCompany Description\\nAt a Glance\\nLufax Holding is an Internet based lending and wealth \\nmanagement platform, originally set up by Ping An \\nGroup. Consumer lending remains a core part of its \\noperations with a key focus on the use of big data and \\nIT technologies to formulate advanced risk assessment \\nmodels and implement risk control systems. \\nIn July of 2017 they launched their first product in \\nSingapore, a wealth management platform. \\nNotable Investors\\nCICC, CDH Investments, Guotai Junan Securities, China \\nMinsheng Bank, BlackPine Private Equity Partners\\nTagline \\nWealth management \\nplatform, investment and \\nfinancing\\nLocated  \\nChina\\nYear Founded  \\n2011\\nKey People  \\nLi Renjie  \\nGregory Gibb\\nJames Zheng\\nWebsite  \\nlu.com\\nCategory  \\nMulti/Wealth\\nOwnership  \\nPrivate\\nRank Last Year  \\n06\\nStaff\\n👤  👤  👤  👤  👤 \\n21\\n',\n",
       " '11\\nOneConnnect (PingAn Yizhangtong)\\n“OneConnect’s ‘Smart Insurance Cloud’ aims to introduce artificial intelligence to the insurance industry, \\nto help in achieving its smart transformation.” -Ye Wangchun\\nCompany Description\\nAt a Glance\\nOneConnect Financial Technology focuses on \\nproviding solutions for small and medium-sized banks, \\nincreasing revenue, reducing cost and risk and boost \\ncompetitiveness. OneConnect has built four service \\nplatforms based on Big Data, Blockchain, Financial Cloud, \\nIntelligent Finance and other new technologies. \\nThe four platforms - namely Direct Bank Cloud, Financial \\nCloud for small and micro enterprises, Interbank Asset \\nTransaction and Personal Credit Investigation - aim \\nto offer small and medium-sized banks one-stop \\ncomprehensive financial technology solutions. In \\nmainland China, the company already serves 441 banks, \\n89 percent of the total.\\nNotable Investors\\nIDG Ventures, SBI Group\\nCategory  \\nOther\\nOwnership  \\nPrivate\\nRank Last Year  \\nNew to the list\\nStaff\\n👤  👤  👤  👤  👤 \\nTagline \\nTechnology Makes Finance \\nEasier\\nLocated  \\nChina\\nYear Founded  \\n2015\\nKey People  \\nYe Wangchun\\nWebsite  \\njryzt.com\\n22\\n',\n",
       " 'OneConnnect (PingAn Yizhangtong)\\n12\\n51 Credit Card\\n“We have transformed ourselves as a mere tool to a closed service loop.” - Sun Haitao\\nCompany Description\\nAt a Glance\\n51 Credit Card operates an app that can intelligently \\nmanage credit card bills with one click helping users to \\nbetter manage their own liabilities. It also provides wealth \\nmanagement products, online loan applications and \\nother personal credit-based services in a holistic manner \\nto better serve their customer base. \\nAs of the end of 2017, it managed approximately 106.3 \\nmillion credit cards, helping users complete a total \\nof\\xa0$15.6 billion in repayment transactions. Registered \\nusers across all apps have reached 81 million.\\nNotable Investors\\nYintai Group, Harvest Capital,\\xa0Xinhu Zhongbao Co Ltd, \\nTiantu Capital, JD.com\\nCategory  \\nWealth\\nOwnership  \\nPublic\\nRank Last Year  \\n27\\nStaff\\n👤  👤  👤  👤  👤 \\nTagline\\nPlatform focused on providing \\nsocial network application \\nservices.\\nLocated  \\nChina\\nYear Founded  \\n2012\\nKey People  \\nSun Haitao\\nWebsite  \\nu51.com\\n23\\n',\n",
       " '13\\nRevolut\\n“The reality is that what we’re trying to achieve is [to] build a 10x better financial services company that is \\n10x cheaper as well.” - Nikolay Storonsky\\nCompany Description\\nAt a Glance\\nRevolut is a digital banking alternative that allows users \\nto transfer and spend money in various currencies \\nwith no fees using prepaid cards and a mobile app. The \\napp also lets users track their spending and invest in \\ncryptocurrencies and other financial products. \\nWith close to 2.8 million users, opening 7,000 new \\naccounts per day, Revolut is processing $3 billion in \\nmonthly volumes.\\xa0Last month the company announced \\nplans to expand into Asia via Japan, partnering with \\nTokyo-based e-commerce group Rakuten.\\nNotable Investors\\nDST Global, Sprints Capital, Ribbit Capital, Greyhound \\nCapital,\\xa0Index Ventures, Balderton Capital\\nTagline \\nYour digital banking alternative\\nLocated  \\nUnited Kingdom\\nYear Founded  \\n2015\\nKey People  \\nNikolay Storonsky\\nWebsite  \\nrevolut.com\\nCategory  \\nPayments\\nOwnership  \\nPrivate\\nRank Last Year  \\n22\\nStaff\\n👤  👤  👤  👤  👤 \\n24\\n',\n",
       " '14\\nCompass\\n“Real estate is the largest asset class in the world, and we are excited to bring Compass technology to \\ninternational markets.” - Ori Allon\\nCompany Description\\nAt a Glance\\nCompass is a real estate technology company with a \\npowerful end-to-end platform that supports the entire \\nbuying and selling workflow. The platform uses Big \\nData and cutting edge algorithms to provide the most \\naccurate pricing for homes and the most efficient route \\nto selling at the highest price. \\nThe company plans to be in each of the top U.S. cities by \\nthe end of the year and earlier this year made a move into \\nthe commercial real estate market.\\nNotable Investors\\nSoftBank Vision Fund, Qatar Investment Authority, IVP \\n(Institutional Venture Partners), Fidelity Investments\\nCategory  \\nPayments\\nOwnership  \\nPrivate\\nRank Last Year  \\nNew to the list\\nStaff\\n👤  👤  👤  👤  👤 \\nTagline \\nLet us guide you home\\nLocated  \\nUnited States\\nYear Founded  \\n2012\\nKey People  \\nOri Allon, Robert Reffkin, Ugo \\nDi Girolamo\\nWebsite  \\ncompass.com\\n25\\n',\n",
       " '15\\nStripe\\n“A number of high-growth technology companies are expanding to the real world, they want to do that on \\nStripe.” - Patrick Collison\\nCompany Description\\nAt a Glance\\nStripe offers a means of accepting payments online and \\nin mobile apps, utilising bank accounts from local and \\ninternational cards. The company processes billions of \\ndollars per annum, serving thousands of companies \\nacross a broad range of sizes. \\nBy facilitating frictionless transactions, Stripe addresses \\na problem rooted in code and design, not finance. \\nIts products have expanded to include credit cards, \\nsubscription-based billing and debit cards. In July this \\nyear, the company partnered with digital payments \\nproviders Alipay and WeChat Pay to enable merchants \\nusing its platform globally to accept payments from \\nhundreds of millions of Chinese customers.\\nNotable Investors\\nTiger Global Management, Thirve Capital, Sequoia \\nCapital, Kleiner Perkins, DST Global\\nCategory  \\nPayments\\nOwnership  \\nPrivate\\nRank Last Year  \\n17\\nStaff\\n👤  👤  👤  👤  👤 \\nTagline \\nThe new standard in online \\npayments\\nLocated  \\nUnited States\\nYear Founded  \\n2011\\nKey People  \\nJohn Collison\\nPatrick Collison\\nWebsite  \\nstripe.com\\n26\\n',\n",
       " '16\\nClover Health\\n“We are already seeing the extremely positive results that our technology is having on the lives of our \\nmembers and are optimistic about how we can begin to impact health on a global scale.” - Vivek Garipalli\\nCompany Description\\nAt a Glance\\nClover Health is a data-driven\\xa0health insurance startup \\nfocused on lowering costs and producing improved health \\noutcomes. The company uses analytics and custom \\nsoftware to direct clinical staff to proactively fill in gaps in \\nthe care of elderly and low-income members.\\xa0\\nIts technology has an 85 percent accuracy rate in \\nidentifying patients at risk of being admitted to hospital \\nin the next 28 days - an unmatched level of precision. \\nCurrently, Clover services members of the U.S. Medicare \\nAdvantage Program, which has 18 million members in total.\\nNotable Investors\\nGreenoaks Capital, Refactor Capital, Nexus Venture \\nPartners, DNA Capital, Wildcat Venture Partners, Sequoia \\nCapital, First Round Capital\\nCategory  \\nInsurance\\nOwnership  \\nPrivate\\nRank Last Year  \\n23\\nStaff\\n👤  👤  👤  👤  👤 \\nTagline \\nMedicare done differently\\nLocated  \\nUnited States\\nYear Founded  \\n2013\\nKey People  \\nVivek Garipalli\\nKris Gale\\nWebsite  \\ncloverhealth.com\\n27\\n',\n",
       " '17\\nAdyen\\n“The one thing that is most important is the ongoing innovation on our platform.” - Sam Halse\\nCompany Description\\nAt a Glance\\nAdyen is an innovative player in the payments industry \\nproviding advanced solutions to both online and \\nphysical stores across the globe. The platform enables \\nstreamlined global payment transactions, improving \\ncustomer experience, processes and ultimately \\nenhancing business performance. \\nMobile and Point-of-Sale avenues are available with over \\n187 transaction currencies and 250 payment methods. \\nIn 2017 alone, the company processed payment volumes \\nof $127 billion.\\nNotable Investors\\nIIndex Ventures, Felicis Ventures, Temasek Holdings, \\nGeneral Atlantic\\nTagline \\nWherever people pay\\nLocated  \\nNetherlands\\nYear Founded  \\n2006\\nKey People  \\nPieter van der Does\\nArnout Schuijff\\nSam Halse\\nWebsite  \\nadyen.com\\nCategory  \\nPayments\\nOwnership  \\nPublic\\nRank Last Year  \\n20\\nStaff\\n👤  👤  👤  👤  👤 \\n28\\n',\n",
       " '18\\nPolicybazaar\\n“Over the years we have acquired a huge customer base with unique needs. This presents a challenge \\nand an opportunity for us because sustaining momentum will be a critical factor for fuelling further \\ngrowth.” - Alok Bansal\\nCompany Description\\nAt a Glance\\nPolicyBazaar, initially founded as an information portal \\nfor learning about insurance, now operates India’s \\nleading digital insurance brand and a marketplace that \\naggregates and selects deals from across the industry. \\nPolicyBazaar now accounts for\\xa025% of all life insurance \\npolicies being taken out in India and processes almost \\n300,000 transactions per month.\\nNotable Investors\\nSoftBank Vision Fund, Info Edge, Temasek Holdings, \\nWellington Management, Tiger Global Management\\nCategory  \\nInsurance\\nOwnership  \\nPrivate\\nRank Last Year  \\nDid not rank in 2017\\nStaff\\n👤  👤  👤  👤  👤 \\nTagline \\nIndia’s Best Insurance \\nDestination\\nLocated  \\nIndia\\nYear Founded  \\n2008\\nKey People  \\nAlok Bansal\\nYashish Dahiya\\nWebsite  \\npolicybazaar.com\\n29\\n',\n",
       " '19\\nKlarna\\n“We are still moving at the speed of a fintech, but provide the trust and security of a bank. That makes us \\na super rare animal.” - Sebastian Siemiatkowski\\nCompany Description\\nAt a Glance\\nKlarna is a leading European provider of e-commerce \\npayment options which distinguishes payers from \\nbuyers. This allows buyers to pay for pre-ordered items \\nupon or post receipt which can create a safer after-\\ndelivery payment solution. Klarna is particularly effective \\nin absorbing all credit and fraud risk for online stores, \\nguaranteeing sellers that they will safely receive their \\ntransaction funds. \\nHaving grown to 60 million users, the company recently \\nannounced that it is gearing up to launch a hybrid \\npayments-credit card around the world, a move poised \\nto transform the payments processor into a fully fledged \\ndigital bank.\\nNotable Investors\\nH&M Clothing Company,\\xa0Permira,\\xa0Creandum,\\xa0VISA\\nCategory  \\nPayments\\nOwnership  \\nPrivate\\nRank Last Year  \\n14\\nStaff\\n👤  👤  👤  👤  👤 \\nTagline \\nMaking buying and selling \\nonline simple.\\nLocated  \\nSweden\\nYear Founded  \\n2005\\nKey People  \\nSebastian Siemiatkowsk\\nVictor Jacobsson \\nNiklas Adalberth\\nWebsite  \\nklarna.com\\n30\\n',\n",
       " '20\\nACORN Oaknorth Holdings\\n“My view is that a highly structured transaction is normally a bad one. If you build lots of bells and whistles \\n– things such as ratchets or options – into an investment, that’s generally bad.” - Rishi Khosla\\nCompany Description\\nAt a Glance\\nOakNorth specializes in small-and-medium-enterprise \\nlending using its data and technology platform, ACORN \\nmachine. The platform leverages process excellence, \\nmachine learning, and technology to drive data-driven \\ndecision making across the loan lifecycle to help \\nautomate banking services. \\nTo date the company has lent over $2.2 billion to UK \\nbusinesses. The ACORN machine has been embedded \\nwith banking partners across multiple countries, enabling \\nthem to replicate OakNorth’s success in the UK, in their \\nown markets.\\nNotable Investors\\nToscafund Asset Management, Coltrane Asset \\nManagement, Clermont Group\\nCategory  \\nLending\\nOwnership  \\nPrivate\\nRank Last Year  \\nNew to the list \\nStaff\\n👤  👤  👤  👤  👤 \\nTagline \\nDebt finance to businesses.\\nLocated  \\nUnited Kingdom\\nYear Founded  \\n2015\\nKey People  \\nJoel Perlman\\nRishi Khosla\\nWebsite  \\noaknorth.com\\n31\\n',\n",
       " '21\\nKreditech Holding\\n“By combining non-traditional data sources and machine learning, we provide better access to credit and \\na higher convenience for digital banking services.” - Rene Griemens\\nCompany Description\\nAt a Glance\\nKreditech Holdings, a scoring company specialising in \\nmicro and instalment loans, uses maching-learning to \\nprovide access to better credit for the underbanked. \\nThe business adopts big data, proprietary algorithms \\nand automated workflows to acquire, identify and assist \\ncustomers within minutes or even seconds. \\nSelf-learning algorithms support the sophistication \\nof technology to provide optimal customer service, \\nminimise costs, improve accuracy and take on new \\ncustomer data for continuous improvements. \\nNotable Investors\\nPayU, Rakuten, International Finance Corporation, J.C. \\nFlowers & Co., Victoria Park Capital, Värde Partners, \\nKreos Capital, Global Founders Capital, Blumberg Capital\\nCategory  \\nLending\\nOwnership  \\nPrivate\\nRank Last Year  \\n07\\nStaff\\n👤  👤  👤  👤  👤 \\nTagline \\nWe’re building better access \\nto credit through technology.\\nLocated  \\nGermany\\nYear Founded  \\n2012\\nKey People  \\nAlexander Muller\\nSebastian Diemer\\nRene Griemens\\nWebsite  \\nkreditech.com\\n32\\n',\n",
       " '22\\nMonzo\\n“The internet lets you run these traditional businesses at a fraction of the cost.” - Tom Blomfield \\nCompany Description\\nMonzo is a digital bank focused on building the best \\ncurrent account in the world. The no-fee, mobile based \\nsolution eliminates physical branches, checks and much \\nof the friction that is part of the traditional bank offering. \\nOriginally introduced as a prepaid debit card account \\n(named Mondo), the bank received its banking license in \\nApril last year. Their 700,000 users have already spent \\nmore than US$26 million in over 130 countries since \\nlaunch.\\xa0\\nNotable Investors\\nGoodwater Capital, Thirve Capital, Stripe, Passion Capital, \\nOrange Digital Ventures, Crankstart Foundation\\nAt a Glance\\nTagline \\nThe bank of future\\nLocated  \\nUnited Kingdom\\nYear Founded  \\n2015\\nKey People  \\nJonas Huckestein \\nTom Blomfield\\nWebsite  \\nmonzo.com\\nCategory  \\nNeo-Bank\\nOwnership  \\nPrivate\\nRank Last Year  \\nNew to the list\\nStaff\\n👤  👤  👤  👤  👤 \\n33\\n',\n",
       " '23\\nWeLab\\n“We sought to empower our customers with faster, cheaper and more convenient access to financial \\nservices. To do so, we created a mobile lending experiences which allows customers to obtain access to \\ncredit through a few simple taps on their personal mobile devices.” - Simon Loong\\nCompany Description\\nAt a Glance\\nWeLab’s mission is to innovate traditional credit services \\nin order to better serve consumers with a cheaper, faster \\nand more hassle-free way of borrowing money. The \\ncompany’s lending platforms are powered by WeDefend, \\nthe company’s proprietary risk management technology, \\nwhich combines machine learning, big data technologies, \\nand unstructured data to deliver a streamlined risk \\nmanagement and customer experience. \\nThe company acts as a platform for users to apply for \\ncredit using their mobile phones. Since founding, the \\ncompany has grown to over 30 million customers in Hong \\nKong and mainland China.\\nNotable Investors\\nInternational Finance Corporation, Alibaba Entrepreneurs \\nFund, Credit Suisse,\\xa0Khazanah Nasional, Lakestar, ING \\nGroup, Guangdong Technology Financial Group\\nCategory  \\nLending\\nOwnership  \\nPrivate\\nRank Last Year  \\n36\\nStaff\\n👤  👤  👤  👤  👤 \\nTagline \\nWe’re decentralizing finance\\nLocated  \\nChina\\nYear Founded  \\n2013\\nKey People  \\nSimon Loong\\nKelly Wong \\nFrances Kang Tzu-ping\\nWebsite  \\nwelab.co\\n34\\n',\n",
       " '24\\nNumber26 (N26)\\n“We see this big opportunity of taking our business to 50 million — maybe 100 million — customers over \\nthe next five to 10 years.” - Valentin Stalf\\nCompany Description\\nAt a Glance\\nN26 offers a mobile banking app, operating without \\na single physical branch, and doesn’t charge fees on \\ntransactions. It has a number of products on it’s platform \\nincluding a basic current account, international money \\ntransfer, investment, overdraft, and cash withdrawal and \\ndeposit at stores. \\nExpanding into the U.K. in August of this year, the \\ncompany expects to enter the U.S. market in the first \\nquarter of 2019. With more than 1.5 million customers \\nsigned up to the platform they recently launced ‘Spaces’, \\na new feature allowing users to set aside money based \\non their personal preferences and needs, across all \\ngeographies. \\nNotable Investors\\nTencent Holdings, Allianz X, Greyhound Capital,\\xa0Horizon \\nVentures, Valar Ventures\\nCategory  \\nNeo-Bank\\nOwnership  \\nPrivate\\nRank Last Year  \\nNew to the list\\nStaff\\n👤  👤  👤  👤  👤 \\nTagline \\nThe simplest way to bank\\nLocated  \\nGermany\\nYear Founded  \\n2013\\nKey People  \\nMaximilian Tayenthal \\nValentin Stalf\\nWebsite  \\nnumber26.eu\\n35\\n',\n",
       " '25\\nWealthSimple\\n“If a bank has a client sitting in a mutual fund who’s paying a 2 per cent fee, it’s hard for that bank to \\ncannibalize itself by introducing a digital advice offering that has a much lower fee. We don’t have that \\nproblem - we can out-execute them.” - Michael Katchen\\nCompany Description\\nAt a Glance\\nWealthsimple is a rapidly growing online investment \\nmanager that allows simple, cost effective and accessible \\ninvesting. Largely aimed at millenials, Wealthsimple offers \\npersonalized portfolios of diversified, low-fee, ETFs are \\ncreated for each client, and automation technologies are \\nutilised to manage and maintain them. \\nThe company also offers an on-demand advice and \\nhelp channel via phone, email or text under their ‘Wealth \\nConcierge’ brand. Newly expanded to the U.S. and the \\nU.K., the company now has over a billion dollars in assets \\nunder management.\\nNotable Investors\\nImpression Ventures, Power Financial Corporation\\nCategory  \\nWealth\\nOwnership  \\nPrivate\\nRank Last Year  \\n29\\nStaff\\n👤  👤  👤  👤  👤 \\nTagline \\nInvesting on Autopilot\\nLocated  \\nCanada\\nYear Founded  \\n2014\\nKey People  \\nMichael Katchen \\nDave Nugent\\nWebsite  \\nwealthsimple.com\\n36\\n',\n",
       " '26\\nAfterPay Touch\\n“We have the ability to be an enduring player in the global retail scene and what is absolutely imperative is \\nthat we don’t cut corners, and keep focused on the customer.” - Anthony Eisen\\nCompany Description\\nAt a Glance\\nAfterPay provides simple instalment plans for online \\nshopping users with an option to spread purchases \\nacross four equal instalments. Afterpay offers the option \\nto view and manage payment schedules as well as pay in \\nadvance before deadlines.\\xa0The company estimates that \\nit now processes more than 10% of all physical online \\nretailing in Australia. \\nTheir move into the US in May this year has seen more \\nthan 800 retailer contracts signed and over 150,000 \\nregistered customers having transacted. In August they \\nalso announced their expansion into the UK with the \\naquisition of payments company ClearPay.\\nCategory  \\nPayments\\nOwnership  \\nPublic\\nRank Last Year  \\n44\\nStaff\\n👤  👤  👤  👤  👤 \\nTagline \\nShop Now. Pay Later. In 4 \\nSimple Instalments.\\nLocated  \\nAustralia\\nYear Founded  \\n2014\\nKey People  \\nNick Molnar\\nAnthony Eisen\\nWebsite  \\nafterpay.com.au\\n37\\n',\n",
       " '27\\nDianrong\\n“Today, only 15% of micro and small businesses have adequate access to credit. This funding gap is \\nparticularly evident in large, complex supply chains where small businesses owners struggle to get the \\nbasic financing needed to operate.” - Soul Htite\\nCompany Description\\nAt a Glance\\nDianrong designs and customizes lending products and \\nservices with their sophisticated infrastructure, factoring \\nin industry-specific data and insights. Online risk-\\nmanagement and operation tools are key components \\nof the product and service offerings. These offerings \\ninclude loan originations, investment products, and \\nmarketplace lending solutions. \\nDianrong originates US$500 million in monthly assets \\nfor 4 million retail lenders. Earlier this year the company \\nannounced that the next version of its supply chain \\nfinance solution will be made available on Corda, R3’s \\nblockchain platform for finance and business.\\nNotable Investors\\nDalian Finance Industry Investment Group (DFIIG),\\xa0Orix \\nAsia Capital Ltd, CITIC Securities,\\xa0AMTD Group\\nCategory  \\nLending\\nOwnership  \\nPrivate\\nRank Last Year  \\n31\\nStaff\\n👤  👤  👤  👤  👤 \\nTagline \\nThe New Finance. For \\nborrowers. For lenders. For \\nyou.\\nLocated  \\nChina\\nYear Founded  \\n2012\\nKey People \\nYuhang Guo\\nSoul Htite\\nWebsite  \\ndianrong.com\\n38\\n',\n",
       " '28\\nVivaRepublica (Toss)\\n“Korea’s online banking system is too complicated and inefficient. We created Toss to solve this problem \\nby combining every financial service in a single app, focusing on making the customer experience as easy \\nand frictionless as possible.” - SG Lee\\nCompany Description\\nAt a Glance\\nViva Republica, through its mobile appToss, provides \\nthe simplest P2P mobile payments platform in \\nKorea. \\xa0According to the company, their registered user \\nbase has doubled over the past year reaching eight \\nmillion consumers, while the app is processing $1.4 billion \\nin transaction volume per month.  \\nAdding to its success in P2P payments, the company \\nhas launched over 10 financials services to become \\na consumer mobile financial services platform. Toss \\npartners with incumbent financial institutions and other \\nfintech players to provide users with services that cover \\nall facets of their financial lives.\\nNotable Investors\\nSequoia Capital China, GIC, PayPal, Goodwater Capital, \\nBessemer Venture Capital, Altos Ventures\\nCategory  \\nPayments\\nOwnership  \\nPrivate\\nRank Last Year  \\n35\\nStaff\\n👤  👤  👤  👤  👤 \\nTagline \\nMobile Finance As It Should \\nBe.\\nLocated  \\nKorea\\nYear Founded  \\n2013\\nKey People  \\nSeung Geon Lee\\nWebsite  \\ntoss.im\\n39\\n',\n",
       " '29\\nQUOINE\\n“Cryptocurrency markets need stability. Quoine’s Liquid is paving the way to a less volatile future by \\nimproving liquidity within the cryptocurrency ecosystem.” - Mike Kayamori\\nCompany Description\\nAt a Glance\\nQUOINE provides trading, exchange, and next-generation \\nfinancial services powered by blockchain technology. It was \\nthe first global cryptocurrency exchange to be officially \\nlicensed by the Japan Financial Service Authority. Moreover, \\nits existing trading platforms, Qryptos and Quoinex, are \\namong the most advanced in the world. \\nLast month the company launched Liquid, a cryptocurrency \\none-stop trading portal, which will allow users to access a \\nworldwide network of cryptocurrency exchanges. Liquid \\nallows users to match trades across multiple transactions \\nand cryptocurrencies. Currently QUOINE processes annual \\ntransactions worth over $50 billion.\\nTagline \\nFinancial Services on the \\nBlockchain\\nLocated  \\nJapan\\nYear Founded  \\n2014\\nKey People  \\nMike Kayamori\\nMario Gomez-Lozada\\nWebsite  \\nquoine.com\\nCategory  \\nWealth\\nOwnership  \\nPrivate\\nRank Last Year  \\nNew to the list\\nStaff\\n👤  👤  👤  👤  👤 \\nNotable Investors\\nJafco Asia, 8 Decimal Capital\\n*last round of funding was via ICO\\n40\\n',\n",
       " '30\\nKabbage\\n“Everyone knows that banks have been underserving small business customers, but our transformational \\nmoment came from asking why?” - Rob Frohwein\\nCompany Description\\nAt a Glance\\nKabbage is an online lender who’s vision is to dynamically \\ndeliver products that small businesses need to \\noperate and stay connected to the data that drives the \\nunderwriting process for lines of credit. \\nThe company recently announced that it has lent a \\ntotal of US$5 billion to its customers, including US$1 \\nbillion that entrepreneurs have applied for on night and \\nweekends - when traditional banks are closed. Emerging \\nas an enabler of larger financial institutions, Kabbage \\nrecently announced a partnership with Canadian financial \\nservices giant Scotiabank that will allow clients in both \\nCanada and Mexico to apply for small business loans of \\nup to $100,000.\\nNotable Investors\\nSoftBank, Reverence, Capital Partners, Yuan Capital, \\nUPS Strategic Enterprise Fund, Thomvest Ventures, \\nScotiabank, Santander InnoVentures\\nCategory  \\nLending\\nOwnership  \\nPrivate\\nRank Last Year  \\n10\\nStaff\\n👤  👤  👤  👤  👤 \\nTagline \\nSmall Business Funding for \\nthe Real World\\nLocated  \\nUnited States\\nYear Founded  \\n2008\\nKey People  \\nRob Frohwein\\nMarc Gorlin\\nKathryn Petralia\\nWebsite  \\nkabbage.com\\n41\\n',\n",
       " '31\\nAffirm\\n“The growth of the company has been excellent, funding is not winning, it means you’re committing \\nyourself to a higher outcome.” - Max Levchin\\nCompany Description\\nAt a Glance\\nAffirm is a point-of-sale lender who partners with brands \\nand retailers online and in-store to offer shoppers \\na simple-interest or no-interest payment option \\non purchases up to $17500. The company charges \\nno hidden fees or compounding interest, targeting \\ncustomers of all ages and FICO scores, as well as groups \\nthat are traditionally underserved.\\nThe company already partners with over 1,200 \\nmerchants and in 2017 surpassed $1 billion in loan \\nvolume. It has reached millions of customers.\\nNotable Investors\\nGIC, Spark Capital, Ribbit Capital, Lightspeed Venture \\nCapital, Khosla Ventures, Founders Fund\\nTagline \\nPay over time, on your terms\\nLocated  \\nUnited States\\nYear Founded  \\n2012\\nKey People  \\nMax Levchin\\nWebsite  \\naffirm.com\\nCategory  \\nLending\\nOwnership  \\nPrivate\\nRank Last Year  \\n21\\nStaff\\n👤  👤  👤  👤  👤 \\n42\\n',\n",
       " '32\\nOurCrowd\\n“With the most valuable companies in the world like Uber staying private for much longer, we’re \\ndemocratising early access to them. The minimums on venture capital funds are still $3 million to $5 \\nmillion, which is out of reach for almost everybody.” - John Medved\\nCompany Description\\nAt a Glance\\nOurCrowd provides an equity crowdfunding platform \\nfor accredited investors to access and invest in Israeli \\ncompanies as well as other businesses from around the \\nworld. OurCrowd identifies opportunities, invests its own \\ncapital and creates a bridge between startups and an \\naccredited pool of 10,000 international and domestic \\ninvestors. They are currently backing 150 startups across \\nthe globe and have helped 20 startups sucessfully exit. \\nThe company now has offices in seven countries and \\nearlier this year hit a major milestone surpassing US$1 \\nbillion in assets under management.\\nNotable Investors\\nIsrael Seed Partners, Alta Berkley Venture Partners\\nCategory  \\nWealth\\nOwnership  \\nPrivate\\nRank Last Year  \\n25\\nStaff\\n👤  👤  👤  👤  👤 \\nTagline \\nA better way to invest in Israeli \\nstartups\\nLocated  \\nIsrael\\nYear Founded  \\n2012\\nKey People  \\nJohn Medved\\nSteven Blumgart\\nWebsite  \\nourcrowd.com\\n43\\n',\n",
       " '33\\nSolarisBank\\n“Last year was about investing in the platform and showing what we can do, this year, we want to grow \\nvolume categories above all.” - Roland Folz\\nCompany Description\\nAt a Glance\\nOne of the first technology companies in Europe to \\nprocure a German banking license, solarisBank operates \\nas an API-accessible banking business. The company \\nenables businesses to offer fully digital and fully compliant \\nfinancial services to their end-customers. \\nTheir suite of banking services include bank accounts, \\nKYC services, algorithmic scoring, transactions and even \\npayment cards. Supporting the growth of the digital \\neconomy is a key component of solarisBank’s vision.\\nNotable Investors\\nBBVA, Visa, SBI Group, Lakestar, Arvato Financial \\nSolutions, ABN AMRO Digital Impact Fund\\nTagline \\nEnabling your business to \\noffer financial services\\nLocated  \\nGermany\\nYear Founded  \\n2016\\nKey People  \\nAndreas Bittner\\nMarko Wenthin\\nRoland Folz\\nWebsite  \\nsolarisbank.de\\nCategory  \\nNeo-Bank\\nOwnership  \\nPrivate\\nRank Last Year  \\n19\\nStaff\\n👤  👤  👤  👤  👤 \\n44\\n',\n",
       " '34\\nFuture Finance\\n“It’s important to understand why people go to Future Finance rather than banks. There’s a significant \\nopportunity to ‘serve the underserved’, not just students.” - Olga Dolchenko\\nCompany Description\\nAt a Glance\\nFuture Finance is Europe’s leading student lender \\nproviding competitive tailored loans to that range in \\nsize and are designed to pay for everything from living \\nexpenses to tuition costs. \\nFunds are released within 24 hours. Since 2013 the \\ncompany has lent over\\xa0US$85 million to students and \\nexpects to issue between US$53-$94 million in student \\nloans just in 2018.\\nNotable Investors\\nKCK, S-Cubed Capital, Invus, Fenway Summer Ventures, \\nGoldman Sachs\\nCategory  \\nLending\\nOwnership  \\nPrivate\\nRank Last Year  \\n39\\nStaff\\n👤  👤  👤  👤  👤 \\nTagline \\nHelping students achieve \\ntheir dreams\\nLocated  \\nIreland\\nYear Founded  \\n2013\\nKey People  \\nOlga Dolchenko\\nWebsite  \\nfuturefinance.com\\n45\\n',\n",
       " '35\\nNeyber\\n“We are building a digital experience for employees fit for the 21st century, where the best financial \\nproducts sit alongside personalised content and tools.” - Martin Ijaha\\nCompany Description\\nAt a Glance\\nNeyber creates partnerships with employers in order to \\nprovide employees with a range of financial management \\nproducts, including salary-deducted loans and financial \\neducation. Since 2015 the company has lent over US$90 \\nmillion, to the employees of clients like UK Police Service, \\nLondon City Airport, Anglian Water and NHS Trusts. \\nLast month Neyber partnered with robo-advisor \\nSmarterly to launch investment portal SmarterCare \\nfor business loans which will offer an investment ISA to \\nemployees allowing them to invest directly from their \\nsalary at no cost to their employer.\\nNotable Investors\\nGoldman Sachs, Wadhawan Global Capital, Police Mutual\\nTagline \\nAn Employee Benefit To \\nImprove Financial Wellbeing\\nLocated  \\nUnited Kingdom\\nYear Founded  \\n2014\\nKey People  \\nMartin Ijaha\\nEzechi Britton\\nMonica Kalia\\nWebsite  \\nneyber.co.uk\\nCategory  \\nWealth\\nOwnership  \\nPrivate\\nRank Last Year  \\nEmerging Company\\nStaff\\n👤  👤  👤  👤  👤 \\n46\\n',\n",
       " '36\\nZhongAn\\n“Our purpose is to build user loyalty through better user experience.” - Chen Jin\\nCompany Description\\nZhongAn is an online property insurance company, \\nspecialising in the use of big data to automate \\nunderwriting and claims processes, design and tailor \\nproducts, and create precision marketing campaigns and \\nrisk management strategies. \\nThe company is a joint venture between Alibaba Group \\nHolding, Tencent Holdings and Ping An Insurance, and \\nwas the first company in China to receive an internet \\ninsurance license. It caters to a broad target market, \\nacross all economic groups.\\nNotable Investors\\nSoftBank Vision Fund\\nAt a Glance\\nTagline \\nTailored Insurance\\nLocated  \\nChina\\nYear Founded  \\n2013\\nKey People  \\nChen Jin\\nXu Wei \\nJiang Xing\\nWebsite  \\nzhongan.com\\nCategory  \\nInsurance\\nOwnership  \\nPublic\\nRank Last Year  \\n02\\nStaff\\n👤  👤  👤  👤  👤 \\n47\\n',\n",
       " '37\\nTransferWise\\n“You need to offer a product that is 10 times better than the competition and you need to be doing this in \\na big market.” - Taavet Hinrikus\\nCompany Description\\nAt a Glance\\nTransferWise is a money transfer service allowing private \\nindividuals and businesses to send money abroad without \\nhidden charges. The company, which has been profitable \\nsince early 2017, moves more than US$1B around the \\nworld each month through it’s platform.\\xa0 \\nThe company has partnerned with the likes of Monzo, \\nN26 and Estonia’s LHV which will see Transferwise power \\ninternational payments for the challenger banks. Earlier \\nthis year the company also launched\\xa0their borderless \\ndebit card in the UK with plans for a European roll out.\\nNotable Investors\\nOld Mutual Global Investors, IVP (Institutional Venture \\nPartners), World Innovation Lab (WiL), Virgin Group, \\nSapphire Ventures, Baillie Gifford\\nCategory  \\nPayments\\nOwnership  \\nPrivate\\nRank Last Year  \\nDid not rank in 2017\\nStaff\\n👤  👤  👤  👤  👤 \\nTagline \\nBanks charge a lot for \\noverseas transfers. We don’t.\\nLocated  \\nUnited Kingdom\\nYear Founded  \\n2010\\nKey People  \\nKristo Kaarman\\nTaavet Hirikus\\nWebsite  \\ntransferwise.com\\n48\\n',\n",
       " '38\\nPushpay\\n“In the long term, Pushpay is targeting over 50% of the medium and large church segments, an \\nopportunity representing over US$1 billion in annual revenue.” - Chris Heaslip\\nCompany Description\\nAt a Glance\\nPushpay provides a donor management system, \\nincluding donor tools, finance tools and a custom \\ncommunity app, to the faith sector, non-profit \\norganisations and education providers in the US, Canada, \\nAustralia and New Zealand. Our leading solutions simplify \\nengagement, payments and administration, enabling our \\nCustomers to increase participation and build stronger \\nrelationships with their communities.\\nNotable Investors\\nChristopher & Banks\\nCategory  \\nPayments\\nOwnership  \\nPublic\\nRank Last Year  \\n42\\nStaff\\n👤  👤  👤  👤  👤 \\nTagline \\nMobile giving and \\nengagement solutions\\nLocated  \\nNew Zealand, United States\\nYear Founded  \\n2011\\nKey People  \\nChris Heaslip\\nWebsite  \\npushpay.com\\n49\\n',\n",
       " '39\\nLeague Inc.\\n“We set out to build a platform that would empower people with their health every day and help them live \\nhappier lives. Along the road, we discovered the way to do that was to completely re-invent health benefits, \\nmaking it the central portal through which employees access their health care.” - Michael Serbinis\\nCompany Description\\nAt a Glance\\nLeague revolutionises health insurance into an innovative, \\ndigital solution by providing options to tailor health-related \\naccounts on a streamlined mobile platform. \\nTheir suite of apps is designed to reduce the total \\noperating costs for companies to deliver benefits \\nprograms, the apps include a customizable digital wallet, \\nbehavioural-based health rewards and a marketplace \\nwhere members can get deals on health and wellness \\nproducts. League is currently licensed to operate in all \\n50 US states and plans to begin operations in the United \\nKingdom and European Union next year.\\nNotable Investors\\nTelus Ventures, Wittington Ventures, RBC Venture \\nPartners, OMERS, Infinite Potential Group\\nTagline \\nBetter Employee Benefits for \\nYour Business\\nLocated  \\nCanada\\nYear Founded  \\n2014\\nKey People  \\nMichael Serbinis\\nDan Leibu\\nTodd Humphrey\\nDan Galperin\\nWebsite  \\nleague.com\\nCategory  \\nInsurance\\nOwnership  \\nPrivate\\nRank Last Year  \\n41\\nStaff\\n👤  👤  👤  👤  👤 \\n50\\n',\n",
       " '40\\nCircle\\n“If people can exchange value over the internet without a toll extracted for payments it’s pretty dramatic, \\nit’ll make the web look like a cute experiment comparatively speaking in 10 to 15 years.” - Jeremy Allaire\\nCompany Description\\nAt a Glance\\nCircle provides an application for users to take up \\npayment tools for Bitcoin and other digital currency \\nservices. Working to revolutionise consumer finance for \\nusers (e.g. businesses and charities), Circle is deploying \\nsimple, free technology for storing and using money. \\nThrough Circle’s mobile apps, people across the globe \\nare able to transfer money, with greater easy and security \\nas well as zero fees. \\nWith products such as Circle Pay, Poloniex and Circle \\nTrade already being adopted, Circle are also on the brink \\nof releasing investment app Circle Invest in Europe after \\nsuccess in the US.\\nNotable Investors\\nBitmain, Tusk Ventures, Pantera Capital, IDG Capital, \\nGeneral Catalyst, Digital Currency Group\\nCategory  \\nPayments\\nOwnership  \\nPrivate\\nRank Last Year  \\n30\\nStaff\\n👤  👤  👤  👤  👤 \\nTagline \\nThe New Shape of Money\\nLocated  \\nUnited States\\nYear Founded  \\n2013\\nKey People  \\nJeremy Allaire\\nSean Neville\\nWebsite  \\ncircle.com\\n51\\n',\n",
       " '41\\nLendingkart\\n“We have one of the best tech capabilities in the digital lending space by virtue of being an early mover.” - \\nHarshvardhan Lunia\\nCompany Description\\nAt a Glance\\nLendingkart allows entrepreneurs to easily access \\nworking capital finance options, eliminating or reducing \\ntheir concerns or worries about cash flow gaps. Big data \\nanalysis and technology tools create a more efficient \\nand effective way of evaluating one’s credit worthiness, \\nsubsequently offering other related services. \\nA potential client can have their credit risk profile \\nevaluated and assessed, from their existing cash flows \\nand business growth. Thereafter, a short term revolving \\ncredit line can be arranged as working capital. After a \\nsignificant debt funding injection, the company is looking \\nto expand it’s reach to over 1,200 cities across India.\\nNotable Investors\\nFullerton Financial Holdings,\\xa0Darrin Capital Management, \\nSaama Capital,\\xa0Bertelsmann India Investments\\nCategory  \\nLending\\nOwnership  \\nPrivate\\nRank Last Year  \\n33\\nStaff\\n👤  👤  👤  👤  👤 \\nTagline \\nThink Cash, Think Lendingkart \\nGroup!\\nLocated  \\nIndia\\nYear Founded  \\n2014\\nKey People  \\nHarshvardhan Lunia\\nMukul Sachan\\nWebsite  \\nlendingkart.com\\n52\\n',\n",
       " '42\\nOpendoor\\n“There are a finite number of homes, but if people are moving with more frequency, that increases the \\nliquidity of the supply in the system.” - Eric Wu\\nCompany Description\\nAt a Glance\\nOpendoor makes it possible to receive an offer on a \\nhome in just a few clicks, and sell in a matter of days, \\nremoving all of the headaches, uncertainties, and risks \\nfrom the transaction. \\nWhether selling, buying, or trading a home, Opendoor \\ndramatically simplifies the process and avoids customers \\nbeing stuck waiting to sell their house before they can \\nmove or are forced to juggle two house payments. \\nCurrently operating in 10 markets, it plans to expand to \\nover 50.\\nNotable Investors\\nSoftbank Vision Fund,\\xa0Lennar Corporation, General \\nAtlantic, Access Technology Ventures, Khosla Ventures, \\nY Combinator\\nCategory  \\nPayments\\nOwnership  \\nPrivate\\nRank Last Year  \\nNew to the list\\nStaff\\n👤  👤  👤  👤  👤 \\nTagline \\nGet an offer on your home \\nwith the press of a button.\\nLocated  \\nUnited States\\nYear Founded  \\n2014\\nKey People  \\nEric Wu\\nIan Wong \\nJustin Ross \\nWebsite  \\nopendoor.com\\n53\\n',\n",
       " '43\\nMetromile\\n“We strive to provide the fastest and simplest claims experience for our customers, and we are \\nsuccessfully doing that by leveraging automation and artificial intelligence.” - Dan Preston\\nCompany Description\\nAt a Glance\\nMetromile is revolutionizing car insurance through \\ntechnology with its pay-per-mile insurance model. The \\ncompany offers a device called the Metromile Pulse that \\nplugs into a car to monitor its hours on the road. Based on \\nthis data, Metromile offers drivers tailored insurance plans. \\nLast July the company debuted Ava, an automated \\nassistant that uses car sensor data to verify insurance \\nclaims on the spot. Using data derived from Pulse, Ava \\nreconstructs the scene of the accident to establish what \\nhappened and can automatically approve payments in the \\nmatter of seconds.\\nNotable Investors\\nTokio Marine, Holdings, Intact Financial Corporation, \\nSection 32, Index Ventures,\\xa0First Round Capital\\nCategory  \\nInsurance\\nOwnership  \\nPrivate\\nRank Last Year  \\nNew to the list\\nStaff\\n👤  👤  👤  👤  👤 \\nTagline \\nPay-Per-Mile Insurance\\nLocated  \\nUnited States\\nYear Founded  \\n2011\\nKey People \\nDan Preston \\nDavid Friedberg\\nSteve Pretre\\nWebsite  \\nmetromile.com\\n54\\n',\n",
       " '44\\nFolio\\n“Now we are going to offer advanced service on asset management, which gives customers an easy way \\nof investing. We will revive this country with financial technology.” - Shinichiro Kai\\nCompany Description\\nAt a Glance\\nFolio offers an online security brokerage service in Japan, \\nspecialising in thematic investing. With the mission to \\nmake investing barrier-free, Folio has built a securities \\nbrokerage platform from scratch. \\nThe platform enables users to compile a diversified \\nportfolio, managing their assets through a robo-advisor, \\nbut also by choosing themes depending on what they are \\ninterested in or want to support. \\nNotable Investors\\nGoldman Sachs, SMBC Venture Capital, Draper Nexus \\nVentures, Dentsu Ventures, DCM Ventures\\nTagline \\nA Next-Generation \\nInvestment Service\\nLocated  \\nJapan\\nYear Founded  \\n2015\\nKey People  \\nShinichiro Kai\\nShunichi Kajiwara\\nHajime Hirono \\n Website  \\nfolio-sec.com\\nCategory  \\nWealth\\nOwnership  \\nPrivate\\nRank Last Year  \\nNew to the list\\nStaff\\n👤  👤  👤  👤  👤 \\n55\\n',\n",
       " '45\\nLendix\\n“Lendix is a platform that allows SMEs to borrow outside the banking system directly from private and \\ninstitutional investors, which was impossible before.” - Olivier Goy\\nCompany Description\\nAt a Glance\\nLendix assists private, professional and institutional \\ninvestors in achieving attractive returns, and helps SMBs \\nseek simple and efficient funding options beyond the \\ntraditional offers from banking institutions. Upon project \\napproval and interest rate determination, a project is \\nsubmitted to a platform for investors to access. The \\naverage time for financing completion is less than 10 days.\\xa0\\nThe company has also developed a tool called Iris, that they \\nhope will become the biggest intelligence database for \\nEuropean companies.\\nNotable Investors\\nIdinvest, Allianz, CIR SpA, Partech Ventures, Weber \\nInvestissement, Zencap, Matmut, Decaux Freres \\nInvestissement\\nCategory  \\nLending\\nOwnership  \\nPrivate\\nRank Last Year  \\n45\\nStaff\\n👤  👤  👤  👤  👤 \\nTagline \\nThe #1 Lending Marketplace \\nin France\\nLocated  \\nFrance\\nYear Founded  \\n2014\\nKey People  \\nOlivier Goy  \\nWebsite  \\nen.lendix.com\\n56\\n',\n",
       " '46\\nGuiaBolso\\n“GuiaBolso is truly unique as a loved and growing consumer brand, that has leveraged its #1 finance app \\nto launch Brazil’s first credit marketplace with real-time online loan approvals.” - Benjamin Gleason\\nCompany Description\\nAt a Glance\\nGuiaBolso empowers users in Brazil to better control and \\nunderstand their financial health and well-being. With an \\napproach towards automation, the company has adopted \\na solution to personal finance management which can \\nassist customers on their path to financial freedom and \\nimprove their relationship with money. \\nTheir app links customers bank accounts, creates \\ntransparency for banking transactions, builds and \\ncategorises goals and manages them on an automatic \\nbasis. Guiabolso’s 3.5 million customers also have the \\noption to alter, remove and grow their accounts to control \\ncash expenditures.\\nNotable Investors\\nCarlos Curioni, e.Bricks Ventures, Valor Capital Group, \\nDaniel Martins, Florian Otto, Kaszek Ventures, Ed Baker, \\nOmidyar Network\\nCategory  \\nLending\\nOwnership  \\nPrivate\\nRank Last Year  \\n48\\nStaff\\n👤  👤  👤  👤  👤 \\nTagline \\nYou own your money\\nLocated  \\nBrazil\\nYear Founded  \\n2012\\nKey People  \\nBenjamin Gleason \\nThiago Alvarez\\nWebsite  \\nguiabolso.com\\n57\\n',\n",
       " '47\\nStarling Bank\\n“The banking transformation has begun, we’re enabling customers to pick and choose the applications \\nand services they need and how they use them.” - Anne Boden\\nCompany Description\\nAt a Glance\\nStarling Bank is a mobile-only bank offering personal, joint \\nand business accounts. They are a fully licensed bank and \\nin 2017 became the first mobile only bank to be granted \\napproval from the PRA and FCA to offer customers \\nfinancial products including loans, insurance, mortgages, \\nISAs and other investment products, all from within its app.\\xa0\\nEarlier this year they inducted the first wave of fintech \\nstartups to its Marketplace, providing customers with \\nin-app access to a cornucopia of third party insurers, \\npension providers, investment platforms and mortgage \\nbrokers.\\xa0This year Starling has grown its user accounts by \\nalmost 500 percent to over 210,000.\\nNotable Investors\\nHarald McPike\\nTagline \\nSee your money in a new way\\nLocated  \\nUnited Kingdom\\nYear Founded  \\n2014\\nKey People  \\nAnne Boden\\xa0 \\nWebsite  \\nstarlingbank.com\\nCategory  \\nNeo-Bank\\nOwnership  \\nPrivate\\nRank Last Year  \\nNew to the list\\nStaff\\n👤  👤  👤  👤  👤 \\n58\\n',\n",
       " '48\\nCoinbase\\n“I really want to see crypto be used by a billion people in the next five years.” - Brian Armstrong\\nCompany Description\\nAt a Glance\\nCoinbase enables digital currency transactions between \\ntraders, consumers and merchants via an online platform. \\nThe company’s mission is to create a globally accessible, \\nopen financial system. By allowing individual bitcoin \\nwallets and enabling connected bank accounts, Coinbase \\nensures an improved buying and selling experience. \\nThe platform also offers a range of payment processing \\noptions that can manage high traffic levels on the \\ninternet.\\nNotable Investors\\nY Combinator, FundersClub, SV Angel, Union Square \\nVentures, Digital Currency Group, Andreessen Horowitz, \\nUnion Square Ventures, Reinventure Group\\nCategory  \\nPayments\\nOwnership  \\nPrivate\\nRank Last Year  \\n40\\nStaff\\n👤  👤  👤  👤  👤 \\nTagline \\nBuy and Sell Digital Currency\\nLocated  \\nUnited States\\nYear Founded  \\n2012\\nKey People  \\nBrian Armstrong\\nFred Ehrsam\\nWebsite  \\ncoinbase.com\\n59\\n',\n",
       " '49\\nAirwallex\\n“Our primary focus is really on solidifying the connections between APAC and the rest of the world, we \\nscale as our customers scale.” - Lucy Liu\\nCompany Description\\nAt a Glance\\nAirwallex facilitates cross-border transactions by offering \\nsecure payments facilities that allow customers to fix \\nexchange rates for each transaction to reduce currency \\nvolatility. \\nThe software also integrates with an invoice and \\npayments system through an online web portal. Their \\nUS$80M Series B raise in July of this year is the second-\\nlargest funding round in Australian history.\\nNotable Investors\\nTencent Holdings, Sequoia China, Square Peg Capital, \\nMasterCard\\nTagline \\nForex and International \\nPayments, Re-Imagined\\nLocated  \\nAustralia\\nYear Founded  \\n2015\\nKey People  \\nLucy Yueting Liu\\nJack Zhang \\nJacob Dai\\nWebsite  \\nairwallex.com\\nCategory  \\nPayments\\nOwnership  \\nPrivate\\nRank Last Year  \\nEmerging Company\\nStaff\\n👤  👤  👤  👤  👤 \\n60\\n',\n",
       " '50\\nLemonade\\n“People regard insurance as a necessary evil rather than a social good. We found it a little bit odd because \\ninsurance is a fundamental social good.” - Daniel Schreiber,\\nCompany Description\\nAt a Glance\\nLemonade is a licensed insurance carrier which uses \\nartificial intelligence and bots to minimize paperwork \\nand speed up the claims process for renters and \\nhomeowners.\\xa0Lemonade sold $10 million in policies last \\nyear and offers them in 19 U.S. states and the district of \\nColombia. \\nAppealing to millienials the company has pioneered a \\n“Giveback” feature whereby customers join cohorts, and \\nif any premium remains after paying the cohort’s claims, \\nfees, and reinsurance, that money goes to a collectively \\ndesignated charity.\\nNotable Investors\\nSoftBank, Tusk Ventures, Sequoia Capital Israel, General \\nCatalyst, GV (formerly Google Ventures), XL Innovate\\nCategory  \\nInsurance\\nOwnership  \\nPrivate\\nRank Last Year  \\nDid not rank in 2017\\nStaff\\n👤  👤  👤  👤  👤 \\nTagline \\nProtect The Stuff You Love\\nLocated  \\nUnited States\\nYear Founded  \\n2015\\nKey People  \\nDaniel Schreiber\\nShai Wininger\\nWebsite  \\nlemonade.com\\n61\\n',\n",
       " '\\ue801\\nAgri Digital\\n“For farmers, the counterparty risks they take on can be reasonably extreme, so we’re looking at ways \\nto remove or mitigate that risk. We’re coming at it from a problem-first space, rather than a tech-first \\nspace.” - Emma Weston \\nCompany Description\\nAt a Glance\\nAgriDigital is an integrated commodity management \\nsolution for the global grains industry. They combine \\nhigh-end technical and industry expertise with beautiful \\ndesign and intuitive work flows to provide seamless \\nsolutions to complex commodity, logistical, risk and \\ncustomer management issues. \\nThrough applied blockchain technologies, distributed \\nledgers and smart contracts, AgriDigital provides real \\ntime payment to growers, increased efficiencies for \\nbrokers, flexible supply chain for buyers and financiers, \\nand paddock to plate transparency for consumers.\\nNotable Investors\\nSquare Peg Capital\\nWebsite  \\nagridigital.io\\nCategory  \\nPayments\\nOwnership  \\nPrivate\\nStaff\\n👤  👤  👤  👤  👤 \\nTagline \\nTransform the way you buy, \\nsell and store grain.\\nLocated  \\nAustralia\\nYear Founded  \\n2015\\nKey People  \\nEmma Weston\\nBob McKay\\nBen Reid\\n62\\n',\n",
       " '\\ue801\\nAnyfin\\n“All the consumer has to do to save a bunch of money is to snap a picture of the credit card bill or loan \\nstatement and we do the rest. Typically, we’re able to cut the cost of financing by more than half.” - Mikael \\nHussain\\nCompany Description\\nAt a Glance\\nAnyfin enables anyone to competitively refinance their \\nexisting loans.\\xa0With a combination of AI, publicly available \\nconsumer data, and with additional information garnered \\nthrough taking a photo of your existing loan statement, \\nthey give a more complete picture than just your credit \\nscore alone, which is the main data point used by most \\noriginal lenders.\\nAnyfin pays off your old debt and issues a new loan with \\nbetter terms. They earn money on the interest rate from \\nthe credits. Starting by helping borrowers lower their \\nmonthly costs, Anyfin’s aim is to put a stop to shady \\nbusiness dealings often caused by high interest rates. \\nNotable Investors\\nNorthzone, Accel, Global Founders Capital\\nTagline \\nPicture. A better loan.\\nLocated  \\nSweden\\nYear Founded  \\n2017\\nKey People  \\nMikael Hussain\\nSven Perkmann\\nFilip Polhem\\nWebsite  \\nanyfin.com\\nCategory  \\nLending\\nOwnership  \\nPrivate\\nStaff\\n👤  👤  👤  👤  👤 \\n63\\n',\n",
       " '\\ue801\\nAqeed Technology\\n“Aqeed is the first digital insurance manager in the local market. We are creating our technology to cover \\nvarious aspect of the insurance value chain.” - Abi Nader\\nCompany Description\\nAt a Glance\\nAqeed is an insurance technology company that aims to \\nmake insurance simple, transparent, and accessible. They \\nare the first digital insurance platform in the region that \\nallows customers to not only buy their insurance online \\nbut manage and service it as well. \\nCustomers can now compare, customize and buy in less \\nthan 2 minutes.\\nNotable Investors\\nEquitrust - Choueiri Group Investment Fund\\nTagline \\nInsurance Made Simple\\nLocated  \\nUnited Arab Emirates\\nYear Founded  \\n2017\\nKey People  \\nHadi Radwan\\nAbi Nader\\nWebsite  \\naqeed.com\\nCategory  \\nInsurance\\nOwnership  \\nPrivate\\nStaff\\n👤  👤  👤  👤  👤 \\n64\\n',\n",
       " '\\ue801\\nBankera\\n“It actually took us four years to achieve the level of IT and regulatory infrastructure we posses now. While \\ndeveloping bitcoin exchange spectrocoin.com we had to do a lot of vertical integration and begin offering \\nbank-like solutions for our customers. It evolved from there.” - Vytautas Karalevicius\\nCompany Description\\nAt a Glance\\nBankera is developing a bank to be the bridge between \\nthe traditional world and the blockchain technology. \\nBankera will offer three core services: payments, \\nloans and deposits and investment solutions such \\nas exchange-traded funds, crypto-funds as well as \\nroboadvisory solutions for wealth management. \\nWith a high-skilled and dedicated team, innovative \\nsolutions and a strong foundation - Spectrocoin, a \\nleading cryptocurrencey exchange and blockchain \\nwallet, Bankera is working towards its goal of becoming a \\nblockchain-based bank.\\nNotable Investors\\nLast round of funding via an ICO\\nTagline \\nBanking for the blockchain \\nera.\\nLocated  \\nLithuania\\nYear Founded  \\n2017\\nKey People  \\nVytautas Karalevicius\\nWebsite  \\nbankera.com\\nCategory  \\nNeo-Bank\\nOwnership  \\nPrivate\\nStaff\\n👤  👤  👤  👤  👤 \\n65\\n',\n",
       " '\\ue801\\nBlackmoon Financial Group\\n“At Blackmoon, our mission is to make innovative investments easily tradable for all. Our investors can get \\naccess to investment opportunities that were inaccessible in the past – from hedge funds and thematic \\nportfolios to algorithmic trading in cryptocurrencies – in any currency.” - Oleg Seydak\\nCompany Description\\nAt a Glance\\nBlackmoon is a blockchain-based investment platform \\ndriven by a team of professionals with years of \\nexperience in investments, asset management and \\nblockchain technology.\\nBlackmoon aims to create and maintain the world’s best \\nframework for tokenized investment funds to deliver \\nnew opportunities in both the real world and crypto \\neconomies. This brings blockchain flexibility to fiat \\ninstruments, and the benefits of accumulated financial \\nwisdom to crypto investments.\\nNotable Investors\\nICO, Target Global, Flint Capital, A&NN Investments\\nWebsite  \\nblackmoonplatform.com\\nCategory  \\nFinancial Services\\nOwnership  \\nPrivate\\nStaff\\n👤  👤  👤  👤  👤 \\nTagline \\nMaking innovative \\ninvestments easily tradable \\nfor all \\nLocated  \\nMalta\\nYear Founded  \\n2015\\nKey People  \\nIlya Perekopsky\\nOleg Seydak\\n66\\n',\n",
       " '\\ue801\\nBlockFi Lending\\n“Our goal is to offer the most affordable and accessible lending product in the U.S. and beyond, our \\nfocus is on providing crypto investors the ability to do more with their investments, and this mindset will \\ncontinue to drive our commitment to being the lowest cost provider.” - ” Flori Marquez\\nCompany Description\\nAt a Glance\\nBased in New York, BlockFi is a secured non-bank \\nlender offering USD loans to cryptoasset owners who \\ncollateralize the loan with their cryptoassets. Their \\nproducts bring additional liquidity to the blockchain \\nasset sector and meet needs of both individuals and \\ninstitutions holding blockchain assets. \\nBlockFi holds clients’ Bitcoin and Ether with a registered \\ncustodian and issuing loans in USD to their bank \\naccounts. They are currently lending in over 45 US states \\nand will soon be expanding into international markets.\\nNotable Investors\\nGalaxy Investment Partners, ConsenSys Ventures\\nTagline \\nLoans backed by your \\ncryptocurrency\\nLocated  \\nUnited States\\nYear Founded  \\n2017\\nKey People  \\nZac Prince\\nFlori Marquez\\nWebsite  \\nblockfi.com\\nCategory  \\nLending\\nOwnership  \\nPrivate\\nStaff\\n👤  👤  👤  👤  👤 \\n67\\n',\n",
       " '\\ue801\\nBrex\\n“We want to dominate corporate credit cards, we want every single company in the world, whenever they \\ndo businesses expenses, to do it on a Brex card.”- Henrique Dubugras\\nCompany Description\\nAt a Glance\\nBrex is rebuilding B2B financial products, starting with a \\ncorporate credit card for technology companies. \\nBrex helps startups of all sizes to instantly get a credit \\ncard that has 20x higher limits, completely automates \\nexpense management, kills receipt tracking and magically \\nintegrates with accounting systems.\\nNotable Investors\\nGreenoaks Capital, DST Global, Y Combinator, Ribbit \\nCapital, Peter Thiel, Greyhound Capital, Y Combinator\\nTagline \\nCorporate Cards for Startups\\nLocated  \\nUnited States\\nYear Founded  \\n2017\\nKey People  \\nHenrique Dubugras\\nPedro Franceschi\\nWebsite  \\nwww.brex.com\\nCategory  \\nPayments\\nOwnership  \\nPrivate\\nStaff\\n👤  👤  👤  👤  👤 \\n68\\n',\n",
       " '\\ue801\\nCashaa\\n“Cashaa is bringing blockchain into the lives of everyday people. Most people aren’t buying Bitcoin. \\nI wanted to take the power and flexibility of Auxesis and create a model that would solve common \\nproblems.” - Kumar Gaurav\\nCompany Description\\nAt a Glance\\nCashaa is a next generation banking platform for the next \\nbillion. Cashaa is creating a better bank, challenging legacy \\nbanking by building an app and products with input from \\ntheir community of users.  \\nTheir blockchain based platform enables its community to \\nstore, save, spend, recieve, borrow and get insured, with a \\nsimplified user experience in a legally compliant way.\\nNotable Investors\\nCelestial Holdings, 2F Capital Ltd (most recently an ICO)\\nWebsite  \\ncashaa.com\\nCategory  \\nNeo-Bank\\nOwnership  \\nPrivate\\nStaff\\n👤  👤  👤  👤  👤 \\nTagline \\nNext generation banking \\nplatform.  \\nLocated  \\nUnited Kingdom\\nYear Founded  \\n2016\\nKey People  \\nCelestine Vettical\\nFelice Covelli\\nJanina Lowisk\\nKumar Gaurav\\n69\\n',\n",
       " '\\ue801\\nCellulant\\n“Actually, we didn’t set out to do payments, we set out originally to sell music through mobile phones.” - \\nBolaji Akinboro\\nCompany Description\\nAt a Glance\\nCellulant is an award-winning mobile commerce company \\noperating a one-stop payments ecosystem in Africa; \\nconnecting businesses and governents to increasingly \\nmobile consumers. \\xa0Cellulant now operates in 11 \\ncountries, with roughly 12% of Africa’s mobile consumers \\nnow able to make payments using their services and \\nproducts.\\xa0\\nThey are also building Agrikore, a blockchain based \\nsmart-contracting, payments marketplace system that \\nensures that everone in agriculture can do business in a \\ntrusted environment.\\nNotable Investors\\nThe Rise Fund, Satya Capital, Endeavour Catalyst, \\nVelocity Capital & Progression Africa\\nTagline \\nLife is Mobile\\nLocated  \\nKenya\\nYear Founded  \\n2004\\nKey People  \\nBolaji Akinboro\\nKen Njoroge\\nWebsite  \\ncellulant.com\\nCategory  \\nPayments\\nOwnership  \\nPrivate\\nStaff\\n👤  👤  👤  👤  👤 \\n70\\n',\n",
       " '\\ue801\\nCleo\\n“There’s an arms race going on to become the financial interface for this generation.” - Barney Hussey-Yeo\\nCompany Description\\nAt a Glance\\nCleo is an artificial intelligence startup that offers an \\nintelligent assistant to help users to manage their \\nfinances.\\xa0\\nWith over 600,000 active users across the UK, US & \\nCanada, their mission is to become the default interface \\nfor millenials interacting with and managing their money.\\nNotable Investors\\nBalderton Capital, LocalGlobe\\nTagline \\nYour\\xa0AI pal, giving you a hand \\nwith your money.\\nLocated  \\nUnited Kingdom\\nYear Founded  \\n2015\\nKey People  \\nAleksandra Wozniak\\nBarnaby Hussey-Yeo\\nWebsite  \\nmeetcleo.com\\nCategory  \\nWealth\\nOwnership  \\nPrivate\\nStaff\\n👤  👤  👤  👤  👤 \\n71\\n',\n",
       " '\\ue801\\nCoya\\n“With our unique mix of insurance, tech and data science expertise, we are rethinking the insurance \\nbusiness model from scratch. We put the customer first in all that we do, while building up cutting-edge \\nproprietary technology.” - Andrew Shaw,\\nCompany Description\\nAt a Glance\\nCoya offers scalable protection at the point of need \\nwith an AI risk guardian and simple, transparent, and \\npersonalised insurance cover. \\nUsers can become insured with only a few simple clicks. \\nCoya will soon offer “micro-policies” that allow clients to \\ninsure individual objects for only a few days or even hours.\\nNotable Investors\\nValar Ventures, La Famiglia, e.ventures\\nTagline \\nJoin the future of Insurance\\nLocated  \\nGermany\\nYear Founded  \\n2016\\nKey People  \\nAndrew Shaw\\nPeter Hagen\\nSebastian Villarroel\\nWebsite  \\ncoya.com\\nCategory  \\nInsurance\\nOwnership  \\nPrivate\\nStaff\\n👤  👤  👤  👤  👤 \\n72\\n',\n",
       " '\\ue801\\nCrypterium\\n“What Crypterium will do is make that whole process seamless and give an opportunity for a consumer to \\nactually use their cryptocurrency to pay for everyday items.” - Marc O’Brien\\nCompany Description\\nAt a Glance\\nCrypterium is developing a mobile app that allows instant \\npayments in cryptocurrencey using existing payment \\ninfrastructure such as NFC or QR codes. \\nIt allows users to issue a virtual card, bind it to their crypto \\naccount, link it to Apple Pay, Samsung Pay or Android Pay, \\nand pay with crypto by simply using a smartphone.\\nNotable Investors\\nLast round of funding via an ICO\\nWebsite  \\ncrypterium.com\\nCategory  \\nPayments\\nOwnership  \\nPrivate\\nStaff\\n👤  👤  👤  👤  👤 \\nTagline \\nPay with crypto anywhere in \\nthe world\\nLocated  \\nEstonia\\nYear Founded  \\n2017\\nKey People  \\nAustin Kimm\\nGleb Markov\\nMarc O’Brien\\nSteven Polyak\\nVladimir Gorbunov\\n73\\n',\n",
       " '\\ue801\\nDAYLI Financial Group\\n“Based on technologies, data, and the grit that we call the ‘DAYLI spirit’, it has been DAYLI Financial \\nGroup’s mission since the establishment to provide digital financial services that can enrich customers’ \\ndaily lives.” - Sean Shin,\\nCompany Description\\nAt a Glance\\nThe largest Fintech company in Korea, DAYLI aims to \\nprovide financial services that enrich the customers’ \\ndaily lives through proprietary technology and service \\ncapabilities in artificial intelligence and blockchain, robo-\\nadvisors, financial platforms and cryptocurrency. \\nThe company is working on creating an ecosystem \\ncalled ICON that will allow government departments, \\nuniversities, hospitals, securities, banks and any private \\ncompany to interact without third-party networks that \\ncharge transaction fees or delay the process.  \\nTagline \\nFinance to enrich everyday \\nlife.\\nLocated  \\nKorea\\nYear Founded  \\n2015\\nKey People  \\nSean Seunghyun Shin\\nKevin Kangmin Park\\nWebsite  \\ndaylifg.com\\nCategory  \\nWealth\\nOwnership  \\nPrivate\\nStaff\\n👤  👤  👤  👤  👤 \\nNotable Investors\\nSBI Group\\n74\\n',\n",
       " '\\ue801\\nDreams\\n“The more we grow, the demand of our users increases on different types of services and offers. Our \\nambition is to always meet that demand and make it as good as possible.” - Henrik Rosvall\\nCompany Description\\nAt a Glance\\nDreams is a neo-bank that makes saving, spending and \\nlending money easy, engaging and social.\\xa0\\nWith a focus on user experience and behavioral science, \\nusers in Norway and Sweden have now saved over \\nUS$100M with Dreams.\\nNotable Investors\\nMartin Randel\\nWebsite  \\ngetdreams.com\\nCategory  \\nWealth\\nOwnership  \\nPrivate\\nStaff\\n👤  👤  👤  👤  👤 \\nTagline \\nSave to your dreams\\nLocated  \\nSweden\\nYear Founded  \\n2013\\nKey People  \\nHenrik Rosvall\\nJoel Broms Brosjo\\nJohan Hemminger\\nJohan Stahle\\n75\\n',\n",
       " '\\ue801\\nFunding Societies\\n“It took 30 months to achieve our first S$100 million and six months for our second S$100 million. But the \\nindustry is still nascent. We’d continue to focus on serving SMEs’ and investors’ needs.” - Kelvin Teo\\nCompany Description\\nAt a Glance\\nFunding Societies is an online platform that connects \\ninvestors with small businesses that need funds, solving \\nthe financial inclusion issue by making credit-worthy \\nSMEs bankable. \\nCurrently operating in South East Asia they are the \\nfirst P2P platform to receive operating licenses from \\nregulators in Singapore, Indonesia and Malaysia.\\xa0This \\nyear they completed a US$25M Series B round lead by \\nSoftBank, the\\xa0largest raised by a P2P lending platform in \\nSoutheast Asia.\\nNotable Investors\\nSoftbank Ventures Korea, Sequoia Capital India, Qualgro \\nVC, Line Corporation, Golden Gate Ventures\\nWebsite  \\nfundingsocieties.com\\nCategory  \\nLending\\nOwnership  \\nPrivate\\nStaff\\n👤  👤  👤  👤  👤 \\nTagline \\nPeer-to-Peer Financing & \\nInvestments\\nLocated  \\nSingapore\\nYear Founded  \\n2015\\nKey People  \\nIwan Kurniawan\\nKelvin Teo\\nReynold Wijaya\\n76\\n',\n",
       " '\\ue801\\nGeru\\n“We saw that the most interesting thing was to create a platform that would allow users to do the entire \\noperation on their own, through the site, with quick answers on credit applications.” - Sandro Reiss\\nCompany Description\\nAt a Glance\\nGeru is a marketplace lender offering personal unsecured \\nterm loans for prime and near prime borrowerers through \\na fast, simple and transparent online experience. \\nBrazil’s first fully digital payroll loan product, Geru \\ndeveloped its own credit score model using conventional \\nand alternative data. In March this year, the company \\nintroduced payroll loans, under which employers discount \\ninstalments from pay checks, in a partnership with French \\nbank BNP Pariba’s Cetelem consumer credit unit.\\nNotable Investors\\nChromo Invest\\nTagline \\nThe smart way to get a loan.\\nLocated  \\nBrazil\\nYear Founded  \\n2013\\nKey People  \\nSandro Reiss\\nTomas Correa\\nKarin Thies  \\nWebsite  \\ngeru.com.br\\nCategory  \\nLending\\nOwnership  \\nPrivate\\nStaff\\n👤  👤  👤  👤  👤 \\n77\\n',\n",
       " '\\ue801\\nInstaReM\\n“The World Bank has acknowledged us as the most competitive remittance platforms in a number of \\nAsian corridors. We already account for 14% of the $2-billion Australia-India corridor, where we started \\nour remittance service.” - Prajit Nanu\\nCompany Description\\nAt a Glance\\nInstaReM provides fast, secure and cost-effective digital \\ncross-border money transfer services to individuals and \\nbusinesses. InstaReM has created a unique payment \\nmesh in Asia, which is being leveraged by individuals and \\ncorporates. \\nThe company also offers a configurable, multi-featured \\nplatform MassPay that helps corporates and SME users \\nto manage and control their high-volume remittances \\nto multiple beneficiaries in multiple currencies via a \\nseamless process, enabling them to reduce cross-border \\nmoney transfer costs by up to 80%.\\nNotable Investors\\nSilicon Valley Bank, GSR Ventures, Vertex Ventures, SBI-\\nFMO Fund, Global Founders Capital\\nTagline \\nSend & Save\\nLocated  \\nSingapore\\nYear Founded  \\n2014\\nKey People  \\nMichael Bermingham\\nPrajit Nanu\\nWebsite  \\ninstarem.com\\nCategory  \\nPayments\\nOwnership  \\nPrivate\\nStaff\\n👤  👤  👤  👤  👤 \\n78\\n',\n",
       " '\\ue801\\nKonfio\\n“We believe in the power of entrepreneurship and are committed to help more business owners across \\nthe country achieve their dreams.” - David Arana\\nCompany Description\\nAt a Glance\\nKonfío is an online lending platform that helps micro-\\nbusinesses in Latin America who don’t have access \\nto credit to obtain affordable loans. Their proprietary \\nalgorithm processes thousands of data points to \\nmeasure creditworthiness and approves loans in real-\\ntime, allowing each applicant to save two months on \\naverage.   \\nTheir mission is to boost the regional economy with \\nproductive loans for young promising businesses who \\nneed it the most.\\nNotable Investors\\nVostok Emerging Finance, Quona Capital, QED Investors, \\nKaszek Ventures, Jaguar Ventures\\nTagline \\nA new financial service \\nexperience for SMEs.\\nLocated  \\nMexico\\nYear Founded  \\n2013\\nKey People  \\nDavid Arana\\nFrancisco Padilla\\nWebsite  \\nkonfio.mx\\nCategory  \\nLending\\nOwnership  \\nPrivate\\nStaff\\n👤  👤  👤  👤  👤 \\n79\\n',\n",
       " '\\ue801\\nKredivo\\n“Our goal is to become the preferred digital credit card for millennials in Southeast Asia.” - Akshay Garg\\nCompany Description\\nAt a Glance\\nOperated by fintech company FinAccel, Kredivo functions \\nlike a digital credit card, enabling consumers without \\na credit card to shop online on credit and pay later in \\ninstalments.  \\nKredivo has built a modern API to let retailers give their \\ncustomers innovative financing options. They now have \\nover half a million approved users, have credit scored \\nnearly two million e-commerce consumers, and is \\navailable at over 200 merchants.\\nNotable Investors\\nSquarePeg Capital, Openspace Ventures, MDI Ventures, \\nJungle Ventures, GMO Venture Partners\\nTagline \\nBuy Now, Pay Later \\nLocated  \\nIndonesia\\nYear Founded  \\n2016\\nKey People  \\nAkshay Garg\\nWebsite  \\nkredivo.com\\nCategory  \\nPayments\\nOwnership  \\nPrivate\\nStaff\\n👤  👤  👤  👤  👤 \\n80\\n',\n",
       " '\\ue801\\nKyberNetwork\\n“With Kyber we aim to connect between ERC-20 tokens and use cases, so tokens can be seamlessly used \\nfor payments, as collateral for lending, investing in funds and so on.” - Loi Luu\\nCompany Description\\nAt a Glance\\nKyberNetwork is a new system which allows the exchange \\nand conversion of digital assets. The system provides \\nrich payment APIs and a new contract wallet that allow \\nanyone to seamlessly receive payments from any token. \\nUsers can also mitigate the risks of price fluctuations in \\nthe cryptocurrency world with their derivative trading. \\nKyber’s on-chain liquidity protocol allows decentralized \\ntoken swaps to be integrated into any application, \\nenabling value exchange to be performed seamlessly \\nbetween all parties in the ecosystem. \\nNotable Investors\\nICO, 8 Decimal Capital\\nWebsite  \\nkyber.network\\nCategory  \\nPayments\\nOwnership  \\nPrivate\\nStaff\\n👤  👤  👤  👤  👤 \\nTagline \\nEnabling Atomic Token Swaps, \\nEverywhere\\nLocated  \\nSingapore\\nYear Founded  \\n2017\\nKey People  \\nLoi Luu\\nVictor Tran\\nYaron Velner \\n81\\n',\n",
       " '\\ue801\\nLiwwa\\n“liwwa is a marketplace lending platform that provides funding to small and medium businesses in Jordan. \\nOur mission is to support job and income growth in the region. “ - Ahmed Moor\\nCompany Description\\nAt a Glance\\nLiwwa Inc is the first peer-to-peer lending platform in the \\nMENA region, connecting small and medium businesses \\nwho need capital with fixed-income investors. \\nThe company’s peer-to-peer lease-to-own model \\naddresses the capital access and interest-free investor \\nreturn opportunities. Liwwa conducts in-house reviews of \\na small business’s creditability and enables them to pay a \\nmonthly fee to investors.\\xa0Since 2015, Liwwa has enabled \\nbusinesses to raise more than US$8M through over 220 \\nloans.\\nNotable Investors\\nSilicon Badia, FMO,\\xa0DASH Ventures\\nTagline \\nLend to Small Businesses\\nLocated  \\nJordan\\nYear Founded  \\n2013\\nKey People  \\nAhmed Moor\\nSamer Atiani\\nWebsite  \\nliwwa.com\\nCategory  \\nWealth\\nOwnership  \\nPrivate\\nStaff\\n👤  👤  👤  👤  👤 \\n82\\n',\n",
       " '\\ue801\\nLook Who’s Charging\\n“I was a business owner and I was frustrated that I didn’t know more about the charges on the account \\nstatement, it’s a problem the world over, not just in Australia.” - Stuart Grover\\nCompany Description\\nAt a Glance\\nLook Who’s Charging is a global first business that makes \\nlife easier for consumers, and saves banks a significant \\namount of money, by identifying who has charged \\ntheir credit or debit card. More than 1.5 billion card \\ntransactions are not recognised by British and Australian \\nconsumers each year.  \\nLook Who’s Charging has solved this problem through \\nits proprietary search engine which draws on hundreds \\nof different data sources to provide rich merchant details \\nfor over 95 per cent of the 13.5 million transaction \\ndescriptions (per credit and debit card statements) in the \\nAustralian market. \\nWebsite  \\nlookwhoscharging.com.au\\nCategory  \\nOther\\nOwnership  \\nPrivate\\nStaff\\n👤  👤  👤  👤  👤 \\nTagline \\nMake transaction not \\nrecognised a thing of the past.\\nLocated  \\nAustralia\\nYear Founded  \\n2016\\nKey People  \\nStuart Grover\\nDavid Washbrook\\nNicole Grover \\n83\\n',\n",
       " '\\ue801\\nMoMo\\n“Our customers can use a lot of services, such as paying bills like electricity, water or cable, buying movie \\ntickets or shopping online.” - Pham Thanh Duc\\nAt a Glance\\nTagline \\nMobile Money\\nLocated  \\nVietnam\\nYear Founded  \\n2013\\nKey People  \\nPham Thanh Duc\\nWebsite  \\nwww.momo.vn\\nCategory  \\nPayments\\nOwnership  \\nPrivate\\nStaff\\n👤  👤  👤  👤  👤 \\nCompany Description\\nMomo offers a mobile, electronic wallet and payment \\napplication for iOS and Android devices. Its products help \\ncustomers in Vietnam make nationwide cash transfers, \\npay more than 100 types of bills, recharge mobile phone \\naccounts, settle personal loans, and purchase services \\nsuch as software license and online game cards, airline \\nand movie tickets, etc. The company’s payment system \\npartners with 24 domestic banks and foreign payment \\nnetworks, including JCB, MasterCard, and Visa. \\nThey are both the largest and the fastest-growing \\nof Vietnams’s payment providers with over 8 million \\ncustomers and a growth rate of 15% in monthly \\ntransaction volume and user base.\\nNotable Investors\\nStandard Chartered Bank, Goldman Sachs\\n84\\n',\n",
       " '\\ue801\\nNod\\n“Our hope is that by reducing the cost and time associated with producing great advice, independent \\nadvisory firms will be able to provide great advice to more clients.” - Joel Robbie\\nCompany Description\\nAt a Glance\\nTagline \\nAdvice about money from an \\nexpert on-demand.\\nLocated  \\nAustralia\\nYear Founded  \\n2015\\nKey People  \\nJoel Robbie\\nWebsite  \\nnod.money\\nCategory  \\nOther\\nOwnership  \\nPrivate\\nStaff\\n👤  👤  👤  👤  👤 \\nNod is a natural language artificial intelligence platform \\nhelping busineses in the financial advice and accounting \\nindustries to transform how they serve clients. Their \\nsoftware platform makes it easy for clients to connect \\nwith their advisers from wherever they are, and produces \\ncompliant documents for financial advisers and \\naccountants in real-time to help them get advice to their \\nclients as efficiently as possible, delighting them along \\nthe way.  \\nNod has also built some innovative adviser-side \\ntechnology including an automated fact-find process \\nand an AI engine that produces compliant statement of \\nadvice documents.\\nNotable Investors\\nH2 Ventures\\n85\\n',\n",
       " '\\ue801\\nOmise\\n “All the great companies in the world, they always changed and pivoted their business models.” - Jun \\nHasegawa\\nCompany Description\\nAt a Glance\\nOmise is Thailand’s leading online payment enabler \\noffering a wide range of processing solutions for any \\nbusiness need.\\xa0Being the only PCI 3.0 compliant startup \\nin Thailand, allows Omise to tokenize cards for one-click \\npayments and ongoing subscriptions bringing greater \\nsimplicity and ease to the existing process, which can be \\nconvoluted and frustrating. \\nThey offer a set of APIs and developer resources that can \\nallow new merchants to be online and accepting payment \\nwithin 24 hours.\\nNotable Investors\\nICO, SBI Asset Management, SMDV, SBI Asset \\nManagement, Golden Gate Ventures, Ascend Venture \\nGroup\\nTagline \\nPayment Gateway for Asia\\nLocated  \\nThailand\\nYear Founded  \\n2013\\nKey People  \\nEzra Don Harinsut\\nJun Hasegawa\\nWebsite  \\nwww.omise.co\\nCategory  \\nPayments\\nOwnership  \\nPrivate\\nStaff\\n👤  👤  👤  👤  👤 \\n86\\n',\n",
       " '\\ue801\\nPayr\\n“We learned so much from all our prototyping, user testing, sprinting and polling that we already have tons \\nof features we didn’t even think of in the beginning.” - Espen Grimstad\\nCompany Description\\nAt a Glance\\nTagline \\nA simple app for bill payment\\nLocated  \\nNorway\\nYear Founded  \\n2016\\nKey People  \\nEspen Grimstad\\nWebsite  \\npayr.no\\nCategory  \\nPayments\\nOwnership  \\nPrivate\\nStaff\\n👤  👤  👤  👤  👤 \\nPayr is building innovative banking sevices for consumers \\nand businesses. Their first product is a payment service \\nmaking it easier to pay bills for people in the Nordics.  \\nTheir next generation payment platform empowers \\nconsumers to pay invoices in flexible and smart ways. \\nCustomers can pay any invoice using bank account, debit \\nor credit card or digital wallets, saving them time and \\nmoney. Payr also improves invoice payments by providing \\ntruly independent price and quality comparison, enabling \\nsimpler and fast switching to providers that offer greater \\nvalue to their customers. To service providers we greatly \\nreduce the cost per acquisition on customer referrals. To \\ninvoice issuers we eliminate the invoicing costs.\\nNotable Investors\\nDNB\\n87\\n',\n",
       " '\\ue801\\nPaySense\\n“The consumer lending market in India is ripe for disruption and we are well equipped us to focus on this \\nhuge, untapped market potential.” - Prashanth Ranganathan\\nCompany Description\\nAt a Glance\\nPaySense is a consumer lending platform that gives \\nusers credit in a customised manner. PaySense EMI, their \\npersonalised line of credit, is similar to a personal loan and \\ncan be used to make instant purchases, whether online \\nor offline, through affordable EMI plans. \\nThe upper limit of credit disbursed is Rs 2 lakh, which will \\nsoon be increased to rs 5 lakh.\\nNotable Investors\\nPayU, Nexus Venture Partners, Jungle Ventures\\nWebsite  \\ngopaysense.com\\nCategory  \\nLending\\nOwnership  \\nPrivate\\nStaff\\n👤  👤  👤  👤  👤 \\nTagline \\nEasily get a personal loan \\nof up to Rs.2 Lakhs within \\nminutes.\\nLocated  \\nIndia\\nYear Founded  \\n2015\\nKey People  \\nPrashanth Ranganathan \\nSayli Karanjkar\\n88\\n',\n",
       " '\\ue801\\nPayTabs\\nIf you think back to why cryptocurrency launched, it is because of the massive collapse in 2011… \\n[It aimed] to make sure currencies and money is protected everywhere.” - Abdulaziz Al Jouf\\nCompany Description\\nAt a Glance\\nPayTabs has established itself as a leading global payments \\nprovider. An innovative economy payment processing \\nand fraud prevention company built to provide buyers and \\nsellers an advanced technology to pay and get paid. \\nIt’s focus is on assisting small and medium businesses to \\nmake simple and secure transactions online. \\nNotable Investors\\nSaudi Aramco Entrepreneurship Ventures\\nTagline \\nAccept Payments Online\\nLocated  \\nBahrain\\nYear Founded  \\n2014\\nKey People  \\nAbdulaziz Fahad Al Jouf\\nWebsite  \\npaytabs.com\\nCategory  \\nPayments\\nOwnership  \\nPrivate\\nStaff\\n👤  👤  👤  👤  👤 \\n89\\n',\n",
       " '\\ue801\\nPleo\\n”You need a totally different approach than in the software business. In fintech, you need to have a \\nfinished, viable product when you launch.” - Jeppe Rindom\\nCompany Description\\nAt a Glance\\nPleo offers a simple, seamless spending solution for \\nemployees. Admins can easily delegate payment cards \\nto their employees while being able to set individual limits \\non each card. Employees can capture receipts on the fly \\nusing their phone, then software matches receipts with \\nexpenses automatically. The entire company’s spending \\ncan be tracked in real time and all expenses can easily be \\nsynced with the company’s accounting software.  \\nWith over 1500 companies having adopted Pleo they will \\nsoon expand their services from the UK and Denmark \\ninto other European countries. \\nTagline \\nSay goodbye to expense \\nreports\\nLocated  \\nDenmark\\nYear Founded  \\n2015\\nKey People  \\nJeppe Rindom\\nNiccolo Perra\\nWebsite  \\npleo.io\\nCategory  \\nPayments\\nOwnership  \\nPrivate\\nStaff\\n👤  👤  👤  👤  👤 \\nNotable Investors\\nKinnevik, Seedcamp, Creandum\\n90\\n',\n",
       " '\\ue801\\nPolymath\\n“The technology is why tokens are different than traditional ownership shares, they are programmable \\nand you can code them to do certain things to improve your business.” - Trevor Koverko\\nCompany Description\\nAt a Glance\\nPolymath Network (Polymath) is a decentralized protocol \\nthat makes it easier to raise capital and create security \\ntokens. The Polymath ST-20 standard embeds regulatory \\nrequirements into the tokens themselves, restricting \\ntrading to verified participants only. \\nThe protocol simplifies the complex technical challenges \\nof creating a security token and aims to bring the multi-\\ntrillion dollar financial securities market to the blockchain.\\nTagline \\nThe Future of Securities\\nLocated  \\nBarbados\\nYear Founded  \\n2017\\nKey People  \\nChris Housser\\nTrevor Koverko\\nWebsite  \\npolymath.network\\nCategory  \\nPayments\\nOwnership  \\nPrivate\\nStaff\\n👤  👤  👤  👤  👤 \\nNotable Investors\\nLast round of funding via an ICO\\n91\\n',\n",
       " '\\ue801\\nPlussimple (+Simple)\\n“Boosted by the rise of artificial intelligence technologies, we now want to make it the most advanced \\nrobot-broker in the world with the rise of its machine learning technology.” - Eric Mignot.\\nCompany Description\\nAt a Glance\\n+Simple is an insurance Robo-Broker for freelancers, \\nsmall and medium businesses. Answer 5-10 questions \\nand their technology will generate a tailor-made and \\ncompetitive insurance package which can include 5-10 \\nproducts in one single policy. \\nCustomers can sign and pay for their policies within \\nminutes on a seamless e-commerce interface. +Simple \\nalso manages their clients claims.\\nNotable Investors\\nIdinvest Partners,\\xa0OneRagtime, Anthemis Group\\nWebsite  \\nplussimple.fr\\nCategory  \\nInsurance\\nOwnership  \\nPrivate\\nStaff\\n👤  👤  👤  👤  👤 \\nTagline \\nInsurance for all your business \\nactivity.\\nLocated  \\nFrance\\nYear Founded  \\n2015\\nKey People  \\nEric Mignot\\nAnthony Jouannau\\nSalah Hamida\\n92\\n',\n",
       " '\\ue801\\nPower Ledger\\n“Tech like the blockchain will be deployed in these areas sooner than any other part of the world, and \\nAustralia is in the position to be a fantastic testbed and a market leader,” - Dr. Jemma Green\\nCompany Description\\nAt a Glance\\nThe Power Ledger is bringing P2P solar energy trading \\nblockchain technology to the world. Their platform allows \\nrenewable energy asset owners to decide who they \\nwant to sell their surplus energy to and at what price. \\nUsing blockchain technology they provide a transparent, \\nauditable and automated market trading and clearing \\nmechanism for the benefit of producers and consumers. \\nTheir technology enables the sale of surplus renewable \\nenergy generated at residential and commercial \\ndevelopments (including multi-unit/multi-tenanted) \\nand at homes and businesses connected to existing \\nelectricity distribution networks, or within micro-grids. \\nNotable Investors\\nLast round of funding via an ICO\\nWebsite  \\npowerledger.io\\nCategory  \\nPayments\\nOwnership  \\nPrivate\\nStaff\\n👤  👤  👤  👤  👤 \\nTagline \\nEnergy, reimagined.\\nLocated  \\nAustralia\\nYear Founded  \\n2016\\nKey People  \\nDave Martin\\nDr. Jemma Green\\nJenni Conroy\\nJohn Bulich\\n93\\n',\n",
       " '\\ue801\\nPundi X\\n“A few years down the road we see a world where people own their own identities and data, where \\neveryone understands the concept and economics of digital property.”- Zac Cheah\\nCompany Description\\nAt a Glance\\nPundi X empowers blockchain developers and token \\nholders to transact cryptocurrency and services at any \\nphysical store in the world.\\nThe world’s first comprehensive offline cryptocurrency \\nsales solutions, Pundi X aims to become \\ncryptocurrencey’s largest offline sales network.\\nNotable Investors\\nLast round of funding via an ICO\\nWebsite  \\npundix.com\\nCategory  \\nPayments\\nOwnership  \\nPrivate\\nStaff\\n👤  👤  👤  👤  👤 \\nTagline \\nMaking cryptocurrency \\naccessible to everyone\\nLocated  \\nIndonesia\\nYear Founded  \\n2017\\nKey People  \\nConstantin Papadimitriou\\nDanny Lim\\nPitt Huang\\nZi Bin (Zac) Cheah\\n94\\n',\n",
       " '\\ue801\\nQuantexa\\n“As a tech start-up, we are challenging the status quo to change the mindset of a fast-moving market. \\nThis takes sheer dedication and patience to truly achieve what you set out to do.” - Vishal Marria\\nCompany Description\\nAt a Glance\\nQuantexa enables companies and institutions to make \\nbetter decisions from their data. Their revolutionary \\ntechnology is based on the latest developments in \\nbig data software and uses real-time entity resolution \\nwith network analytics and AI to knit together vast and \\ndisparate data sets and derive actionable intelligence.\\nIt is led by a team of experts with a collective experience \\nof over a century in advanced analytics and data focused \\nsolutions.\\nNotable Investors\\nDawn Capital,\\xa0HSBC, Albion Capital Group\\nTagline \\nConnecting data. \\nEmpowering decisions.\\nLocated  \\nUnited Kingdom\\nYear Founded  \\n2016\\nKey People  \\nVishal Marria\\nImam Hoque\\nWebsite  \\nquantexa.com\\nCategory  \\nOther\\nOwnership  \\nPrivate\\nStaff\\n👤  👤  👤  👤  👤 \\n95\\n',\n",
       " '\\ue801\\nRecordsure\\n“Recordsure unlocks powerful insights from customer conversations, helping firms mitigate risk, reduce \\ncompliance costs and improve the customer experience” - Joanne Smith\\nCompany Description\\nAt a Glance\\nRecordsure is an innovative analytics and automation \\nplatform which uses bespoke AI technology to unleash \\nrevolutionary business intelligence from companies‚ \\nprofessional interactions including telephony, face-to-\\nface meetings and written documentation. \\nRecordsure’s background is in the world of finance, where \\nthere are strict regulations in place requiring firms to be \\nable to evidence that they have been selling to customers \\nin a compliant manner. Recordsure was created to solve \\ntwo problems faced in meeting these rules. \\nTagline \\nMeitculous  Detail. \\nUnprecedented Scale.\\nLocated  \\nUnited Kingdom\\nYear Founded  \\n2012\\nKey People  \\nJoanne Smith\\nWebsite  \\nrecordsure.com\\nCategory  \\nOther\\nOwnership  \\nPrivate\\nStaff\\n👤  👤  👤  👤  👤 \\n96\\n',\n",
       " '\\ue801\\nRipio Credit Network\\n“Two things that are amazing about [ICO] technology are that, first, it’s truly global and allows [startups] to \\ncapitalize a project from a global community. And, second, it also solves a huge issue in the region, which \\nis liquidity.” - Sebastian Serrano\\nCompany Description\\nAt a Glance\\nRipio, formerly known as Bitpagos, is a financial payments \\ncompany that provides electronic payment solutions for \\nbusinesses in Latin America. It offers a range of financial \\nservices for the emerging markets using the blockchain \\ntechnology to make a more accessible financial system. \\nThe company helps merchants process international \\ntransactions with credit cards or bitcoins for a fraction \\nof the cost, as well as helping consumers buy bitcoins \\ninstantly with cash. In 2016 it launched Ripio Credit \\nNetwork, a now global peer-to-peer credit network \\nbased on co-signed smart contracts and blockchain \\ntechnology.\\nNotable Investors\\nICO, Digital Finance Group, Fenbushi Capital, Draper \\nAssociates, Boost VC\\nTagline \\nBuy bitcoins easily.\\nLocated  \\nArgentina\\nYear Founded  \\n2013\\nKey People  \\nLuciana Gruszeczka\\nMugur Marculescu\\nSebastian Serrano\\nWebsite  \\nripiocredit.network\\nCategory  \\nPayments\\nOwnership  \\nPrivate\\nStaff\\n👤  👤  👤  👤  👤 \\n97\\n',\n",
       " '\\ue801\\nShift Technology\\n“By focusing on the specific requirements of the insurance industry, we have been able to build a unique \\nplatform that helps the industry fight fraud more efficiently.” - Jeremy Jawish\\nCompany Description\\nShift Technology provides insurance and e-commerce \\ncompanies with an innovative SaaS solution to improve \\nand scale fraud detection. The analyses performed by \\nShift are fast and thorough, quantative and qualitative. \\nIts efficient algorithms are tailored to reproduce fraud \\nhandlers’ deductive reasoning, making investigations \\nquicker and easier than ever.\\nNotable Investors\\nGeneral Catalyst, Accel, Iris Capital, Elaia Partners\\nAt a Glance\\nTagline \\nFight fraud with AI\\nLocated  \\nFrance\\nYear Founded  \\n2014\\nKey People  \\nDavid Durrleman\\nEric Sibony\\nJeremy Jawish\\nWebsite  \\nshift-technology.com\\nCategory  \\nOther\\nOwnership  \\nPrivate\\nStaff\\n👤  👤  👤  👤  👤 \\n98\\n',\n",
       " '\\ue801\\nSinglife\\n“The user-friendly interface smartly converses with customers, allowing them to understand their life \\ninsurance coverage in as little steps as possible.” - Walter de Oude\\nCompany Description\\nAt a Glance\\nSingapore Life is an independent life insurance company \\nand is the first local independent insurer to be licensed by \\nthe Monetary Authority of Singapore since 1970. \\nSingapore Life features robust digital robo-underwriting \\nand identity verification capabilities that dynamically \\nexpedite the application and approval process.\\xa0The \\npurchase journey is intuitive and secure, can be done \\nwithout assitance.\\nNotable Investors\\nImpact Capital Holdings, IPGL, Caber Partners\\nTagline \\nGood value life insurance that \\nyou actually need\\nLocated  \\nSingapore\\nYear Founded  \\n2014\\nKey People  \\nWalter de Oude\\nRay Ferguson\\nWebsite  \\nsinglife.com\\nCategory  \\nInsurance\\nOwnership  \\nPrivate\\nStaff\\n👤  👤  👤  👤  👤 \\n99\\n',\n",
       " '\\ue801\\nTala\\n“Tala’s innovation is our use of alternative data and mobile technology to understand and reach the \\nunderserved.” - Shivani Siroya\\nCompany Description\\nAt a Glance\\nTagline \\nGiving credit where it’s due\\nLocated  \\nUnited States\\nYear Founded  \\n2011\\nKey People  \\nShivani Siroya\\nWebsite  \\ntala.co\\nCategory  \\nOther\\nOwnership  \\nPrivate\\nStaff\\n👤  👤  👤  👤  👤 \\nTala provides a credit scoring and reporting platform \\nto financial services institutions in emerging countries. \\nTraditional credit doesn’t work in emerging markets; \\nmobile does. Tala’s technologies are unlocking trillions of \\ndollars in purchasing power in the world’s fastest growing \\neconomies. Through their mobile app and unique \\nchannel, they gather an average of 10,000 discrete data \\npoints per user to provide personalized offers and deliver \\nreal-time credit. \\nTala has now delivered over 6 million loans to nearly 1.3 \\nmillion customers totalling more than $300 million.\\nNotable Investors\\nRevolution Growth, Thomvest Ventures, Ribbit Capital, \\nLowercase Capital, IVP, Female Founders Fund\\n100\\n',\n",
       " '\\ue801\\nTally Technologies\\n“When we started Tally, we wanted to bring a similar value to a broader range of people who are dealing \\nwith the most widespread financial issue today: credit card debt. Robo advice for the 99%.” - Jason Brown\\nCompany Description\\nAt a Glance\\nTagline \\nOvercome credit card debt\\nLocated  \\nUnited States\\nYear Founded  \\n2015\\nKey People  \\nJason Brown\\nJasper Platz\\nWebsite  \\nmeettally.com\\nCategory  \\nPayments\\nOwnership  \\nPrivate\\nStaff\\n👤  👤  👤  👤  👤 \\nTally wants to automate their customers financial lives, \\nstarting with credit cards. It is the first app to unbundle \\nthe credit card, putting power back into the hands of \\nconsumers. Tally analyses users’ financial profiles to \\ndetermine a way to pay down a consumer’s credit card \\ndebt and then takes action based on this information. \\nTally also has its own underwriting and financing\\xa0models, \\nwhich allow it to pass on savings. \\nEarlier this year\\xa0the company launched Tally Advisor its \\nfirst in-app, robo-advisor enterprise. The feature helps \\nusers come up with a specific date for when they will \\nbe debt-free and adjusts if and when users encounter \\nfinancial setbacks or have increased cash flow.\\nNotable Investors\\nKleiner Perkins, Sway Ventures, Shasta Ventures, Cowboy \\nVentures\\n101\\n',\n",
       " '\\ue801\\nTenX\\n“Whether used online or offline, TenX aims to make cryptocurrency spendable anytime, anywhere across \\nthe globe.” - Julian Hosp\\nCompany Description\\nAt a Glance\\nTenX aims to let you send and spend crypto money \\nanywhere, anytime. Their cryptocurrency payment \\nplatform achieves this via the TenX mobile wallet, debit \\ncard bank account, ATM access and more. The wallet can \\nbe loaded with a variety of different cryptocurrencies, \\nincluding Bitcoin, Ethereum and Dash. Available as an \\nAndroid, iOS, and web app, the wallet supports TenX’s \\nprinciple of always-on user access. \\nThe company allows users to spend at over 42 million \\npoints of acceptance online and offline, in almost 200 \\ncountries around the world.\\nNotable Investors\\nICO, Chain Capital\\nWebsite  \\ntenx.tech\\nCategory  \\nPayments\\nOwnership  \\nPrivate\\nStaff\\n👤  👤  👤  👤  👤 \\nTagline \\nSpend your cryptocurrencies \\nanytime, anywhere.\\nLocated  \\nSingapore\\nYear Founded  \\n2015\\nKey People  \\nDr. Julian Hosp\\nToby Hoenisch\\nPaul Kitti \\nMichael Sperk\\n102\\n',\n",
       " '\\ue801\\nThisIsMe\\n“Imagine your bank account being drained until nothing is left, think of the effect that can have on you and \\nyour family. Even if you don’t lose money by being hacked, you lose your privacy and put those closest to \\nyou at risk.” - David Thomas\\nCompany Description\\nAt a Glance\\nThisIsMe brings trust into transactions through \\nproprietary, true identification technology. Their platform \\nenables businesses to reduce fraud, automate KYC \\nchecks, improve on-boarding and increase revenue \\nwhile providing an on-demand, seamless customer \\nexperience. \\nThisIsMe holds the record for the fastest FICA verification \\nat three minutes. The company uses an array of tech \\nthat includes artificial intelligence, bio-metrics, machine \\nlearning and tamper detection.\\nTagline \\nVerifying Identities On-Line\\nLocated  \\nSouth Africa\\nYear Founded  \\n2013\\nKey People  \\nDavid Thomas\\nJuan Furmie\\nNadeem Shahid\\nWebsite  \\nthisisme.com\\nCategory  \\nOther\\nOwnership  \\nPrivate\\nStaff\\n👤  👤  👤  👤  👤 \\n103\\n',\n",
       " '\\ue801\\nTide\\n“Tide is a next generation banking service which exists to make it easier for people who run SMEs to do \\nless banking and get back to doing more of what they love doing instead.” - George Bevis\\nCompany Description\\nAt a Glance\\nTide is the UK’s only mobile-first banking service \\nexclusively targeting small and medium enterprise \\ncustomers. Tide’s unique selling point is that it provides \\na less expensive and faster service to smaller businesses \\nwho lack the staffing to run the accounting and admin \\nsides of their busineseses efficiently. Since launching in \\n2017, Tide has acquired nearly 40,000 small business \\ncustomers and surpassed 1B pounds of transactions in \\nMarch of this year.\\nNotable Investors\\nAugmentum Fintech, Passion Capital, \\nCreandum,\\xa0Anthemis Group, LocalGlobe\\nTagline \\nBusiness banking re-\\ndesigned.\\nLocated  \\nUnited Kingdom\\nYear Founded  \\n2015\\nKey People  \\nGeorge Bevis\\nWebsite  \\ntide.co\\nCategory  \\nWealth\\nOwnership  \\nPrivate\\nStaff\\n👤  👤  👤  👤  👤 \\n104\\n',\n",
       " '\\ue801\\nTiger Brokers\\n“There will be dozens of companies from mainland China that will IPO in Hong Kong and the US, which is a \\ngreat opportunity for Tiger Brokers.” - Wu Tianhua\\nCompany Description\\nAt a Glance\\nTagline \\nGet ready to invest for real.\\nLocated  \\nChina\\nYear Founded  \\n2014\\nKey People  \\nWu Tianhua\\nWebsite  \\nitiger.com\\nCategory  \\nWealth\\nOwnership  \\nPrivate\\nStaff\\n👤  👤  👤  👤  👤 \\nTiger Brokers is an online brokerage that allows Chinese \\ninvestors at home and abroad, to trade stocks in the U.S, \\nHong Kong and mainland China market via the stock \\nconnect scheme between Hong Kong and mainland stock \\nexchanges. It offers lower financing costs and commission \\nfees to attract investors. It also has an online community \\nfor investors to share information and trading experience.  \\n33 months after its launch, the accumulated trading \\nvolume of its mobile app reached $150 billion. Earlier this \\nyear the company became an official strategic partner of \\nNASDAQ data to distribute its US stock market data to \\nthe Chinese online world. \\nNotable Investors\\nProspect Avenue Capital, Orient Hontai Capital, \\nOceanpine Capital, CreditEase Fintech Investment Fund\\n105\\n',\n",
       " '\\ue801\\nTpaga\\n“We became the first mobile wallet in Latin America that allows the unbanked to pay for petrol from their \\ncell phone.” - Andres Gutierrez\\nCompany Description\\nAt a Glance\\nTpaga is a mobile wallet for the unbanked. It allows \\nconsumers in Latin America to store money via cash \\nkiosk and then use it to pay for utility bills, cell phone top-\\nups, groceries and even gas station merchants.\\nEarlier this year they became the first mobile wallet in \\nLatin America to allow consumers to pay for groceries \\nwithout having a bank account, and now allow unbanked \\nbusinesses to start receiving payment without a POS \\nsystem.\\nNotable Investors\\nY Combinator, Toro Ventures, Hack VC, Greyhound \\nCapital, Green Visor Capital\\nWebsite  \\ntpaga.co\\nCategory  \\nPayments\\nOwnership  \\nPrivate\\nStaff\\n👤  👤  👤  👤  👤 \\nTagline \\nPay your bills from your mobile \\nphone in seconds\\nLocated  \\nColombia\\nYear Founded  \\n2015\\nKey People  \\nAndres Gutierrez, \\nJuan Salcedo, \\nSebastian Ortiz\\n106\\n',\n",
       " '\\ue801\\nTrade Ledger\\n“We build a digital journey for our customer’s customer – for the bank’s customer. Having that view of an \\nend-to-end digital journey gives us a completely different scope and perspective on what the platform \\nshould look like.” - Martin McCann\\nCompany Description\\nAt a Glance\\nTrade Ledger is the world’s first business lending platform \\nthat transforms digital data from business supply chains \\nin real time, allowing banks to assess and regularly \\nupdate credit and default risk of businesses they lend \\nto. Currently this is only done on a one-off or infrequent \\nbases on a very small sample of invoices, and not on any \\nother trade documents. \\nThe Trade Ledger platform will finally give banks more \\nadvanced network and data analysis technology than \\nglobal technology companies, in a lending segment that \\nhas long suffered from a lack of technological innovation.\\nTagline \\nEnd to End Lending \\nAutomation\\nLocated  \\nAustralia\\nYear Founded  \\n2016\\nKey People  \\nMartin McCann\\nMatthias Born\\nWebsite  \\ntradeledger.io\\nCategory  \\nLending\\nOwnership  \\nPrivate\\nStaff\\n👤  👤  👤  👤  👤 \\n107\\n',\n",
       " '\\ue801\\nVaro Money\\n“We’re looking at how we can lower the cost of banking, particularly for people who have volatile cash \\nflows.”- Colin Walsh\\nCompany Description\\nAt a Glance\\nVaro Money, is a financial technology company and \\nmobile banking business that helps customers cover \\ntheir expenses, pay their bills, and build their wealth \\nover time.\\xa0Working with Bancorp Bank, the company \\noffers FDIC-insured bank accounts with no monthly \\nmaintenance fees and no ATM withdrawal fees for money \\nwithdrawn at more than 55,000 Allpoint ATMs. \\nIn September of this year the company announced that is \\nhad been granted a preliminary approval of its application \\nfor a national bank charter by the Office of the Controller \\nof the Currency which would make it the first all-mobile \\nnational bank in the US, pending the OCC’s final approval.\\nNotable Investors\\nWarburg Pincus, The Rise Fund, Manatt Venture Fund\\nTagline \\nFee Free, the Only Way to \\nBank\\nLocated  \\nUnited States\\nYear Founded  \\n2015\\nKey People  \\nColin Walsh\\nKolya Klymenko\\nWebsite  \\nvaromoney.com\\nCategory  \\nNeo-Bank\\nOwnership  \\nPrivate\\nStaff\\n👤  👤  👤  👤  👤 \\n108\\n',\n",
       " '\\ue801\\nWallet.ng\\n“Wallet exists to improve the quality of your life, through payment instruments that connects you globally, \\nsaving you costs when you make local transactions, responding to you immediately you need us.” - John Oke\\nCompany Description\\nAt a Glance\\nWallet.ng is a digital wallet/payments product that allows \\nusers to make payments, transfer funds, pay bills and \\nwithdraw from ATMs - all using their phone number. With \\nover 5,000 users they are primarily targeting students, \\nentrepreneurs, young professionals and expats.\\nLast month alone they processed\\xa0N234 million across \\njust 17,000 transactions and have seen an average of \\n78% month-on-month growth in transaction volume and \\nvalue since January 2018.\\nNotable Investors\\nMicrotraction\\nTagline \\nSend Money, Receive Money \\nand make payments using a \\nphone number\\nLocated  \\nNigeria\\nYear Founded  \\n2016\\nKey People  \\nJohn Oke\\nWebsite  \\nwallet.ng\\nCategory  \\nWealth\\nOwnership  \\nPrivate\\nStaff\\n👤  👤  👤  👤  👤 \\n109\\n',\n",
       " '\\ue801\\nWave Money\\n“We see ourselves as very complementary to the banks. We are not going to offer the full range of \\nservices banks are offering. We offer only the basic financial services to avoid waste of time and make \\nmoney transfers easier for customers’ convenience.” - Brad Jones\\nCompany Description\\nAt a Glance\\nWave Money, a joint venture between Telenor, FMI, \\nYoma Bank and Singapore Exchange list Yoma Strategic \\nHoldings and operates as a mobile financial services \\nprovider. \\nWave Money is a financial service platform targeting the \\nunbanked population in Myanmar. It is the first company \\nto be regulated under the Mobile Financial Services \\nRegulation and to secure a licence from the Central Bank \\nof Myanmar.\\nTagline \\nEasy and instant money \\ntransfer\\nLocated  \\nMyanmar\\nYear Founded  \\n2015\\nKey People  \\nBrad Jones\\nWebsite  \\nwavemoney.com.mm\\nCategory  \\nPayments\\nOwnership  \\nPrivate\\nStaff\\n👤  👤  👤  👤  👤 \\nNotable Investors\\nYoma Strategic Holdings\\n110\\n',\n",
       " '\\ue801\\nWeBank\\n“We don’t think of ourselves as running a traditional bank. WeBank is an internet platform through and \\nthrough, but one with a banking licence.” - Gu Min\\nCompany Description\\nWeBank is a private commercial bank with an online focus \\nthat utilizes facial recognition security software. \\nWeBank offers small loans and investment products \\nthrough their online platforms. It was the first online-only \\nbank approved by Chinese regulators.\\nNotable Investors\\nTencent Holdings\\nAt a Glance\\nTagline \\nTenCent’s bank\\nLocated  \\nChina\\nYear Founded  \\n2014\\nKey People  \\nGu Min\\nGary Fang\\nLi Nanqing\\nWebsite  \\nwebank.com\\nCategory  \\nNeo-Bank\\nOwnership  \\nPrivate\\nStaff\\n👤  👤  👤  👤  👤 \\n111\\n']"
      ]
     },
     "execution_count": 3,
     "metadata": {},
     "output_type": "execute_result"
    }
   ],
   "source": [
    "text"
   ]
  },
  {
   "cell_type": "markdown",
   "metadata": {
    "heading_collapsed": true
   },
   "source": [
    "## test pattern"
   ]
  },
  {
   "cell_type": "code",
   "execution_count": 51,
   "metadata": {
    "hidden": true
   },
   "outputs": [],
   "source": [
    "patternOfName = re.compile(r'\\d\\d\\n(.+)\\n')"
   ]
  },
  {
   "cell_type": "code",
   "execution_count": 52,
   "metadata": {
    "hidden": true
   },
   "outputs": [
    {
     "data": {
      "text/plain": [
       "'01\\nAnt Financial\\n'"
      ]
     },
     "execution_count": 52,
     "metadata": {},
     "output_type": "execute_result"
    }
   ],
   "source": [
    "re.search(patternOfName,text[0]).group()"
   ]
  },
  {
   "cell_type": "code",
   "execution_count": 57,
   "metadata": {
    "hidden": true
   },
   "outputs": [
    {
     "data": {
      "text/plain": [
       "'Ant Financial'"
      ]
     },
     "execution_count": 57,
     "metadata": {},
     "output_type": "execute_result"
    }
   ],
   "source": [
    "patternOfName.findall(text[0])[0]"
   ]
  },
  {
   "cell_type": "code",
   "execution_count": 53,
   "metadata": {
    "hidden": true
   },
   "outputs": [],
   "source": [
    "patternOfWebsite = re.compile(r'Website  \\n(.+)\\n')"
   ]
  },
  {
   "cell_type": "code",
   "execution_count": 54,
   "metadata": {
    "hidden": true
   },
   "outputs": [
    {
     "data": {
      "text/plain": [
       "'Website  \\nantgroup.com\\n'"
      ]
     },
     "execution_count": 54,
     "metadata": {},
     "output_type": "execute_result"
    }
   ],
   "source": [
    "re.search(patternOfWebsite,text[0]).group()"
   ]
  },
  {
   "cell_type": "code",
   "execution_count": 56,
   "metadata": {
    "hidden": true
   },
   "outputs": [
    {
     "data": {
      "text/plain": [
       "'antgroup.com'"
      ]
     },
     "execution_count": 56,
     "metadata": {},
     "output_type": "execute_result"
    }
   ],
   "source": [
    "patternOfWebsite.findall(text[0])[0]"
   ]
  },
  {
   "cell_type": "code",
   "execution_count": 58,
   "metadata": {
    "hidden": true
   },
   "outputs": [],
   "source": [
    "patternOfYear = re.compile(r'Year Founded  \\n(.+)\\n')"
   ]
  },
  {
   "cell_type": "code",
   "execution_count": 59,
   "metadata": {
    "hidden": true
   },
   "outputs": [
    {
     "data": {
      "text/plain": [
       "'2004'"
      ]
     },
     "execution_count": 59,
     "metadata": {},
     "output_type": "execute_result"
    }
   ],
   "source": [
    "patternOfYear.findall(text[0])[0]"
   ]
  },
  {
   "cell_type": "code",
   "execution_count": 61,
   "metadata": {
    "hidden": true
   },
   "outputs": [],
   "source": [
    "patternOfLocation = re.compile(r'Located  \\n(.+)\\n')"
   ]
  },
  {
   "cell_type": "code",
   "execution_count": 69,
   "metadata": {
    "hidden": true
   },
   "outputs": [
    {
     "data": {
      "text/plain": [
       "'China'"
      ]
     },
     "execution_count": 69,
     "metadata": {},
     "output_type": "execute_result"
    }
   ],
   "source": [
    "patternOfLocation.findall(text[0])[0]"
   ]
  },
  {
   "cell_type": "code",
   "execution_count": 23,
   "metadata": {
    "hidden": true
   },
   "outputs": [],
   "source": [
    "patternOfInvestors = re.compile(r'Notable Investors\\n([\\s\\S]+)\\nCategory')"
   ]
  },
  {
   "cell_type": "code",
   "execution_count": 25,
   "metadata": {
    "hidden": true
   },
   "outputs": [
    {
     "data": {
      "text/plain": [
       "'Temasek Holdings, GIC, China Investment Corp (CIC), CCB \\nTrust, China Life, China Post Group, China Development \\nBank Capital, Primavera Capital Group, National Social \\nSecurity Fund (NSSF)'"
      ]
     },
     "execution_count": 25,
     "metadata": {},
     "output_type": "execute_result"
    }
   ],
   "source": [
    "patternOfInvestors.findall(text[0])[0]"
   ]
  },
  {
   "cell_type": "code",
   "execution_count": 26,
   "metadata": {
    "hidden": true
   },
   "outputs": [
    {
     "data": {
      "text/plain": [
       "'Temasek Holdings, GIC, China Investment Corp (CIC), CCB Trust, China Life, China Post Group, China Development Bank Capital, Primavera Capital Group, National Social Security Fund (NSSF)'"
      ]
     },
     "execution_count": 26,
     "metadata": {},
     "output_type": "execute_result"
    }
   ],
   "source": [
    "re.sub(r'\\n',\"\",patternOfInvestors.findall(text[0])[0])"
   ]
  },
  {
   "cell_type": "code",
   "execution_count": 27,
   "metadata": {
    "hidden": true
   },
   "outputs": [],
   "source": [
    "patternOfDescription = re.compile(r'At a Glance\\n([\\s\\S]+)\\nNotable Investors')"
   ]
  },
  {
   "cell_type": "code",
   "execution_count": 28,
   "metadata": {
    "hidden": true
   },
   "outputs": [
    {
     "data": {
      "text/plain": [
       "'Ant Financial Services Group is dedicated to using \\ntechnology to bring the world equal opportunities. Their \\ntechnologies, including blockchain, artificial intelligence, \\nsercurity, Internet of Things and computing, has helped \\nAnt Financial and their ecosystem partners to serve the \\nunbanked and underbanked. \\nBy the end of March 2018, together with their JV \\npartners, Ant Financial served 870 million users \\nworldwide. Brands under Ant Financial include Alipay, \\nAnt Fortune, Yu’e Bao, Zhima Credit, MYbank and Ant \\nFinancial Cloud.'"
      ]
     },
     "execution_count": 28,
     "metadata": {},
     "output_type": "execute_result"
    }
   ],
   "source": [
    "patternOfDescription.findall(text[0])[0]"
   ]
  },
  {
   "cell_type": "code",
   "execution_count": 29,
   "metadata": {
    "hidden": true
   },
   "outputs": [
    {
     "data": {
      "text/plain": [
       "'Ant Financial Services Group is dedicated to using technology to bring the world equal opportunities. Their technologies, including blockchain, artificial intelligence, sercurity, Internet of Things and computing, has helped Ant Financial and their ecosystem partners to serve the unbanked and underbanked. By the end of March 2018, together with their JV partners, Ant Financial served 870 million users worldwide. Brands under Ant Financial include Alipay, Ant Fortune, Yu’e Bao, Zhima Credit, MYbank and Ant Financial Cloud.'"
      ]
     },
     "execution_count": 29,
     "metadata": {},
     "output_type": "execute_result"
    }
   ],
   "source": [
    "re.sub(r'\\n',\"\",patternOfDescription.findall(text[0])[0])"
   ]
  },
  {
   "cell_type": "code",
   "execution_count": 30,
   "metadata": {
    "hidden": true
   },
   "outputs": [],
   "source": [
    "patternOfCategory = re.compile(r'Category  \\n(.+)')"
   ]
  },
  {
   "cell_type": "code",
   "execution_count": 31,
   "metadata": {
    "hidden": true
   },
   "outputs": [
    {
     "data": {
      "text/plain": [
       "'Multi'"
      ]
     },
     "execution_count": 31,
     "metadata": {},
     "output_type": "execute_result"
    }
   ],
   "source": [
    "patternOfCategory.findall(text[0])[0]"
   ]
  },
  {
   "cell_type": "code",
   "execution_count": 38,
   "metadata": {
    "hidden": true
   },
   "outputs": [],
   "source": [
    "patternOfKeyPeople = re.compile(r'Key People  \\n([\\s\\S]+)\\nWebsite')"
   ]
  },
  {
   "cell_type": "code",
   "execution_count": 39,
   "metadata": {
    "hidden": true
   },
   "outputs": [
    {
     "data": {
      "text/plain": [
       "'Eric Jing'"
      ]
     },
     "execution_count": 39,
     "metadata": {},
     "output_type": "execute_result"
    }
   ],
   "source": [
    "re.sub(r'\\n',\",\",patternOfKeyPeople.findall(text[0])[0])"
   ]
  },
  {
   "cell_type": "code",
   "execution_count": 40,
   "metadata": {
    "hidden": true
   },
   "outputs": [],
   "source": [
    "patternOfOwnership  = re.compile(r'Ownership  \\n(.+)')"
   ]
  },
  {
   "cell_type": "code",
   "execution_count": 41,
   "metadata": {
    "hidden": true
   },
   "outputs": [
    {
     "data": {
      "text/plain": [
       "'Private'"
      ]
     },
     "execution_count": 41,
     "metadata": {},
     "output_type": "execute_result"
    }
   ],
   "source": [
    "patternOfOwnership.findall(text[0])[0]"
   ]
  },
  {
   "cell_type": "markdown",
   "metadata": {},
   "source": [
    "## get information"
   ]
  },
  {
   "cell_type": "code",
   "execution_count": 86,
   "metadata": {},
   "outputs": [],
   "source": [
    "def get50LeadingCompanyInformation(text):\n",
    "    patternOfName = re.compile(r'\\d\\d\\n(.+)\\n')\n",
    "    patternOfDescription = re.compile(r'At a Glance\\n([\\s\\S]+)\\nNotable Investors')\n",
    "    patternOfYear = re.compile(r'Year Founded  \\n(.+)\\n')\n",
    "    patternOfLocation = re.compile(r'Located  \\n(.+)\\n')\n",
    "    patternOfWebsite = re.compile(r'Website  \\n(.+)\\n')\n",
    "    patternOfCategory = re.compile(r'Category  \\n(.+)')\n",
    "    patternOfOwnership  = re.compile(r'Ownership  \\n(.+)')\n",
    "    patternOfKeyPeople = re.compile(r'Key People  \\n([\\s\\S]+)\\nWebsite')\n",
    "    patternOfInvestors = re.compile(r'Notable Investors\\n([\\s\\S]+)\\nCategory')\n",
    "    try:\n",
    "        Name = patternOfName.findall(text)[0]\n",
    "    except:\n",
    "        Name =None\n",
    "    try:\n",
    "        Description = re.sub(r'\\n',\"\",patternOfDescription.findall(text)[0])\n",
    "    except:\n",
    "        Description = None\n",
    "    try:\n",
    "        Year = patternOfYear.findall(text)[0]\n",
    "    except:\n",
    "        Year = None\n",
    "    try:\n",
    "        Location = patternOfLocation.findall(text)[0]\n",
    "    except:\n",
    "        Location = None\n",
    "    try:   \n",
    "        Website = patternOfWebsite.findall(text)[0]\n",
    "    except:\n",
    "        Website = None\n",
    "    try:\n",
    "        Category = patternOfCategory.findall(text)[0]\n",
    "    except:\n",
    "        Category = None\n",
    "    try:\n",
    "        Ownership = patternOfOwnership.findall(text)[0]\n",
    "    except:\n",
    "        Ownership = None\n",
    "    try:\n",
    "        Keypeople = re.sub(r'\\n',\",\",patternOfKeyPeople.findall(text)[0])\n",
    "    except:\n",
    "        Keypeople = None\n",
    "    try:\n",
    "        Investors = re.sub(r'\\n',\"\",patternOfInvestors.findall(text)[0])\n",
    "    except:\n",
    "        Investors = None\n",
    "    Information = {'Name': Name,'Description': Description,'Year': Year,'Location': Location,'Website': Website,'Category':Category,'Ownership':Ownership,'Keypeople':Keypeople,'Investors':Investors}\n",
    "    return Information\n",
    "    #return Name,Description,Year,Location,Website,Category,Ownership,Keypeople,Investors\n",
    "    #return Information = {'Name': Name,'Description': Description,'Year': Year,'Location': Location,'Website': Website,'Category':Category,'Ownership':Ownership,'Keypeople':Keypeople,'Investors':Investors}"
   ]
  },
  {
   "cell_type": "code",
   "execution_count": 87,
   "metadata": {},
   "outputs": [],
   "source": [
    "def get50EmergingCompanyInformation(text):\n",
    "    patternOfName = re.compile(r'\\ue801\\n(.+)\\n')\n",
    "    patternOfDescription = re.compile(r'At a Glance\\n([\\s\\S]+)\\nNotable Investors')\n",
    "    patternOfYear = re.compile(r'Year Founded  \\n(.+)\\n')\n",
    "    patternOfLocation = re.compile(r'Located  \\n(.+)\\n')\n",
    "    patternOfWebsite = re.compile(r'Website  \\n(.+)\\n')\n",
    "    patternOfCategory = re.compile(r'Category  \\n(.+)')\n",
    "    patternOfOwnership  = re.compile(r'Ownership  \\n(.+)')\n",
    "    patternOfKeyPeople = re.compile(r'Key People  \\n([\\s\\S]+)\\nWebsite')\n",
    "    patternOfInvestors = re.compile(r'Notable Investors\\n([\\s\\S]+)\\nCategory')\n",
    "    try:\n",
    "        Name = patternOfName.findall(text)[0]\n",
    "    except:\n",
    "        Name =None\n",
    "    try:\n",
    "        Description = re.sub(r'\\n',\"\",patternOfDescription.findall(text)[0])\n",
    "    except:\n",
    "        Description = None\n",
    "    try:\n",
    "        Year = patternOfYear.findall(text)[0]\n",
    "    except:\n",
    "        Year = None\n",
    "    try:\n",
    "        Location = patternOfLocation.findall(text)[0]\n",
    "    except:\n",
    "        Location = None\n",
    "    try:   \n",
    "        Website = patternOfWebsite.findall(text)[0]\n",
    "    except:\n",
    "        Website = None\n",
    "    try:\n",
    "        Category = patternOfCategory.findall(text)[0]\n",
    "    except:\n",
    "        Category = None\n",
    "    try:\n",
    "        Ownership = patternOfOwnership.findall(text)[0]\n",
    "    except:\n",
    "        Ownership = None\n",
    "    try:\n",
    "        Keypeople = re.sub(r'\\n',\",\",patternOfKeyPeople.findall(text)[0])\n",
    "    except:\n",
    "        Keypeople = None\n",
    "    try:\n",
    "        Investors = re.sub(r'\\n',\"\",patternOfInvestors.findall(text)[0])\n",
    "    except:\n",
    "        Investors = None\n",
    "    Information = {'Name': Name,'Description': Description,'Year': Year,'Location': Location,'Website': Website,'Category':Category,'Ownership':Ownership,'Keypeople':Keypeople,'Investors':Investors}\n",
    "    return Information"
   ]
  },
  {
   "cell_type": "code",
   "execution_count": 88,
   "metadata": {
    "scrolled": true
   },
   "outputs": [
    {
     "name": "stdout",
     "output_type": "stream",
     "text": [
      "1\n",
      "2\n",
      "3\n",
      "4\n",
      "5\n",
      "6\n",
      "7\n",
      "8\n",
      "9\n",
      "10\n",
      "11\n",
      "12\n",
      "13\n",
      "14\n",
      "15\n",
      "16\n",
      "17\n",
      "18\n",
      "19\n",
      "20\n",
      "21\n",
      "22\n",
      "23\n",
      "24\n",
      "25\n",
      "26\n",
      "27\n",
      "28\n",
      "29\n",
      "30\n",
      "31\n",
      "32\n",
      "33\n",
      "34\n",
      "35\n",
      "36\n",
      "37\n",
      "38\n",
      "39\n",
      "40\n",
      "41\n",
      "42\n",
      "43\n",
      "44\n",
      "45\n",
      "46\n",
      "47\n",
      "48\n",
      "49\n",
      "50\n",
      "51\n",
      "52\n",
      "53\n",
      "54\n",
      "55\n",
      "56\n",
      "57\n",
      "58\n",
      "59\n",
      "60\n",
      "61\n",
      "62\n",
      "63\n",
      "64\n",
      "65\n",
      "66\n",
      "67\n",
      "68\n",
      "69\n",
      "70\n",
      "71\n",
      "72\n",
      "73\n",
      "74\n",
      "75\n",
      "76\n",
      "77\n",
      "78\n",
      "79\n",
      "80\n",
      "81\n",
      "82\n",
      "83\n",
      "84\n",
      "85\n",
      "86\n",
      "87\n",
      "88\n",
      "89\n",
      "90\n",
      "91\n",
      "92\n",
      "93\n",
      "94\n",
      "95\n",
      "96\n",
      "97\n",
      "98\n",
      "99\n",
      "100\n"
     ]
    }
   ],
   "source": [
    "Company100Information = []\n",
    "a = 0\n",
    "for i in text[0:50]:\n",
    "    a += 1\n",
    "    Company100Information.append(get50LeadingCompanyInformation(i))\n",
    "    print(a)\n",
    "for i in text[50:100]:\n",
    "    a += 1\n",
    "    Company100Information.append(get50EmergingCompanyInformation(i))\n",
    "    print(a)\n",
    "    #getCompanyInformation(i)\n",
    "    #print(Name,Description,Year,Location,Website,Category,Ownership,Keypeople,Investors)\n",
    "    #CompanyInformation = {'Name':Name,'Description':Description,'Year':Year,'Location':Location,'Website':Website,'Category':Category,'Ownership':Ownership,'Keypeople':Keypeople,'Investors':Investors}\n",
    "   # Company100Information.append(Information)"
   ]
  },
  {
   "cell_type": "code",
   "execution_count": 73,
   "metadata": {},
   "outputs": [
    {
     "data": {
      "text/plain": [
       "[{'Name': 'Ant Financial',\n",
       "  'Description': 'Ant Financial Services Group is dedicated to using technology to bring the world equal opportunities. Their technologies, including blockchain, artificial intelligence, sercurity, Internet of Things and computing, has helped Ant Financial and their ecosystem partners to serve the unbanked and underbanked. By the end of March 2018, together with their JV partners, Ant Financial served 870 million users worldwide. Brands under Ant Financial include Alipay, Ant Fortune, Yu’e Bao, Zhima Credit, MYbank and Ant Financial Cloud.',\n",
       "  'Year': '2004',\n",
       "  'Location': 'China',\n",
       "  'Website': 'antgroup.com',\n",
       "  'Category': 'Multi',\n",
       "  'Ownership': 'Private',\n",
       "  'Keypeople': 'Eric Jing',\n",
       "  'Investors': 'Temasek Holdings, GIC, China Investment Corp (CIC), CCB Trust, China Life, China Post Group, China Development Bank Capital, Primavera Capital Group, National Social Security Fund (NSSF)'},\n",
       " {'Name': 'JD Finance',\n",
       "  'Description': None,\n",
       "  'Year': '2013',\n",
       "  'Location': 'China',\n",
       "  'Website': 'jr.jd.com',\n",
       "  'Category': 'Multi',\n",
       "  'Ownership': 'Private',\n",
       "  'Keypeople': 'Shengqiang Chen',\n",
       "  'Investors': None},\n",
       " {'Name': 'Grab',\n",
       "  'Description': 'Grab is one of the most frequently used offline-to-online (O2O) mobile platforms in Southeast Asia, evolving from a ride-hailing platform to an everyday super app that provides essential services to consumers in this region. commute.  Grab launched its proprietary digital payments platform, GrabPay, in 2016 to facilitate ride-hailing payments and has since expanded to enable peer-to-peer fund transfers, merchant transactions, insurance and micro-lending services.  ',\n",
       "  'Year': '2012',\n",
       "  'Location': 'Singapore',\n",
       "  'Website': 'grab.com',\n",
       "  'Category': 'Multi',\n",
       "  'Ownership': 'Private',\n",
       "  'Keypeople': 'Anthony Tan',\n",
       "  'Investors': 'Toyota Motor Corporation, Vulcan Capital, Ping An Capital, Oppenheimer Funds, Macquarie Capital, Lightspeed Ventures Partners, All-Stars Investment, SoftBankTagline Go cashless. Pay seamlessly.'},\n",
       " {'Name': 'Du Xiaoman Financial',\n",
       "  'Description': None,\n",
       "  'Year': '2015',\n",
       "  'Location': 'China',\n",
       "  'Website': 'jinrong.baidu.com',\n",
       "  'Category': 'Multi',\n",
       "  'Ownership': 'Private',\n",
       "  'Keypeople': 'Zhu Guang  ',\n",
       "  'Investors': 'TPG, Carlyle GroupAt a GlanceTagline Xiaoxiao Finance Located  ChinaYear Founded  2015Key People  Zhu Guang  Website  jinrong.baidu.com'},\n",
       " {'Name': 'SoFi',\n",
       "  'Description': 'Social Finance Inc. SoFi is an online finance company that provides lending products including student loan refinancing, mortgages, and personal loans. SoFi’s unconventional approach to underwriting considers account merit, employment records and a series of other key factors, creating a more holistic way of serving their customers. Individual and institutional investors are also able to positively impact social groups and the broader community while also gaining attractive rates of return. In June 2018, the company began offering customers a checking account and debit card under a new offering called SoFi Money.\\xa0',\n",
       "  'Year': '2011',\n",
       "  'Location': 'United States',\n",
       "  'Website': 'sofi.com',\n",
       "  'Category': 'Lending',\n",
       "  'Ownership': 'Private',\n",
       "  'Keypeople': 'Anthony Noto',\n",
       "  'Investors': 'RPM Ventures, RSC Capital, SoftBank, Third Point Ventures, Silver Lake Partners, DCM Ventures'},\n",
       " {'Name': 'Oscar Health',\n",
       "  'Description': 'Oscar, brainchild of US technology and healthcare experts, is transforming the current state of the US healthcare system. The company is applying big data and machine learning to reinvent preventative health care management and claims processing in an effort to increase transparency and reduce the cost of healthcare.\\xa0Known for offering individual cover under the Affordable Care Act, Oscar plans on getting into Medicare Advantage in 2020, a deviation from the current offerings in individual and employer insurance markets.',\n",
       "  'Year': '2013',\n",
       "  'Location': 'United States',\n",
       "  'Website': 'hioscar.com',\n",
       "  'Category': 'Insurance',\n",
       "  'Ownership': 'Private',\n",
       "  'Keypeople': 'Mario Schlosser,Joshua Kushner',\n",
       "  'Investors': 'Alphabet (Google Holding Company), Thrive Capital, General Catalyst Partners, Khosla Ventures, CapitalG, and Fidelity Investments, Founders Fund '},\n",
       " {'Name': 'Nubank',\n",
       "  'Description': 'Tagline You control your finances.Located  BrazilYear Founded  2013Key People  David VélezWebsite  www.nubank.com.brCategory  Neo-BankOwnership  PrivateRank Last Year  12Staff👤  👤  👤  👤  👤 Nubank offers a mobile phone application that controls its own platinum Mastercard credit card, providing a seamless and simple spending experience. With 100% digital channels and reduced paperwork frictions, Nubank does not charge fees for it’s card usage and can be used in more than 30 million channels across the world. Over the last five years, Nubank has built a portfolio of 5 million customers for its no-fee credit card, while 2.5 million people have signed up for the company’s digital bank account, launched a year ago. The company is positioned as one of the top 5 credit card issuers in Brazil and the largest challenger bank in the world outside Asia. ',\n",
       "  'Year': '2013',\n",
       "  'Location': 'Brazil',\n",
       "  'Website': 'www.nubank.com.br',\n",
       "  'Category': 'Neo-Bank',\n",
       "  'Ownership': 'Private',\n",
       "  'Keypeople': 'David Vélez',\n",
       "  'Investors': None},\n",
       " {'Name': 'Robinhood',\n",
       "  'Description': 'Robinhood is a zero fee stock trading app that also offers ETFs, options and, as of February this year, cryptocurrency trading. They enable users with a zero commission model to transact US stocks and ETFs. By slimming down the investment process and removing excessive brokerage costs, their users can easily access the financial markets.\\xa0In May, Robinhood surpassed its rival E-Trade with 5 million brokerage accounts and $150 billion in transaction volume.',\n",
       "  'Year': '2013',\n",
       "  'Location': 'United States',\n",
       "  'Website': 'www.robinhood.com',\n",
       "  'Category': 'Wealth',\n",
       "  'Ownership': 'Private',\n",
       "  'Keypeople': 'Baiju Bhatt,Vladimir Tenev,Nate Rodland',\n",
       "  'Investors': 'DST Global, Sequoia Capital, Iconiq Capital. Index Ventures, Tim Draper, Andreessen Horowitz, Snoop DoggTagline Invest for FreeLocated  United StatesYear Founded  2013Key People  Baiju BhattVladimir TenevNate RodlandWebsite  www.robinhood.com'},\n",
       " {'Name': 'Atom Bank',\n",
       "  'Description': 'Atom Bank is the UK’s first bank designed specifically for digital, offering a range of personal and business banking products including Digital Mortgages by Atom, four market-leading Fixed Saver accounts and secured Business Lending to SMEs. The company, which has no physical branches, allows users to login using face and voice recognition and receive support from a 24/7 customer service team.\\xa0By March of this year, Atom had taken\\xa0US$1.7 billion of deposits and loaned over\\xa0US$1.5 billion to\\xa0SME businesses and homeowners in the UK.\\xa0',\n",
       "  'Year': '2014',\n",
       "  'Location': 'United Kingdom',\n",
       "  'Website': 'www.atombank.co.uk',\n",
       "  'Category': 'Neo-Bank',\n",
       "  'Ownership': 'Private',\n",
       "  'Keypeople': 'Anthony Thomson,Mark Mullen',\n",
       "  'Investors': 'BBVA, Woodford Investment Management, Toscafund Asset Management'},\n",
       " {'Name': 'Lufax Holding',\n",
       "  'Description': 'Lufax Holding is an Internet based lending and wealth management platform, originally set up by Ping An Group. Consumer lending remains a core part of its operations with a key focus on the use of big data and IT technologies to formulate advanced risk assessment models and implement risk control systems. In July of 2017 they launched their first product in Singapore, a wealth management platform. ',\n",
       "  'Year': '2011',\n",
       "  'Location': 'China',\n",
       "  'Website': 'lu.com',\n",
       "  'Category': 'Multi/Wealth',\n",
       "  'Ownership': 'Private',\n",
       "  'Keypeople': 'Li Renjie  ,Gregory Gibb,James Zheng',\n",
       "  'Investors': 'CICC, CDH Investments, Guotai Junan Securities, China Minsheng Bank, BlackPine Private Equity PartnersTagline Wealth management platform, investment and financingLocated  ChinaYear Founded  2011Key People  Li Renjie  Gregory GibbJames ZhengWebsite  lu.com'},\n",
       " {'Name': 'OneConnnect (PingAn Yizhangtong)',\n",
       "  'Description': 'OneConnect Financial Technology focuses on providing solutions for small and medium-sized banks, increasing revenue, reducing cost and risk and boost competitiveness. OneConnect has built four service platforms based on Big Data, Blockchain, Financial Cloud, Intelligent Finance and other new technologies. The four platforms - namely Direct Bank Cloud, Financial Cloud for small and micro enterprises, Interbank Asset Transaction and Personal Credit Investigation - aim to offer small and medium-sized banks one-stop comprehensive financial technology solutions. In mainland China, the company already serves 441 banks, 89 percent of the total.',\n",
       "  'Year': '2015',\n",
       "  'Location': 'China',\n",
       "  'Website': 'jryzt.com',\n",
       "  'Category': 'Other',\n",
       "  'Ownership': 'Private',\n",
       "  'Keypeople': 'Ye Wangchun',\n",
       "  'Investors': 'IDG Ventures, SBI Group'},\n",
       " {'Name': '51 Credit Card',\n",
       "  'Description': '51 Credit Card operates an app that can intelligently manage credit card bills with one click helping users to better manage their own liabilities. It also provides wealth management products, online loan applications and other personal credit-based services in a holistic manner to better serve their customer base. As of the end of 2017, it managed approximately 106.3 million credit cards, helping users complete a total of\\xa0$15.6 billion in repayment transactions. Registered users across all apps have reached 81 million.',\n",
       "  'Year': '2012',\n",
       "  'Location': 'China',\n",
       "  'Website': 'u51.com',\n",
       "  'Category': 'Wealth',\n",
       "  'Ownership': 'Public',\n",
       "  'Keypeople': 'Sun Haitao',\n",
       "  'Investors': 'Yintai Group, Harvest Capital,\\xa0Xinhu Zhongbao Co Ltd, Tiantu Capital, JD.com'},\n",
       " {'Name': 'Revolut',\n",
       "  'Description': 'Revolut is a digital banking alternative that allows users to transfer and spend money in various currencies with no fees using prepaid cards and a mobile app. The app also lets users track their spending and invest in cryptocurrencies and other financial products. With close to 2.8 million users, opening 7,000 new accounts per day, Revolut is processing $3 billion in monthly volumes.\\xa0Last month the company announced plans to expand into Asia via Japan, partnering with Tokyo-based e-commerce group Rakuten.',\n",
       "  'Year': '2015',\n",
       "  'Location': 'United Kingdom',\n",
       "  'Website': 'revolut.com',\n",
       "  'Category': 'Payments',\n",
       "  'Ownership': 'Private',\n",
       "  'Keypeople': 'Nikolay Storonsky',\n",
       "  'Investors': 'DST Global, Sprints Capital, Ribbit Capital, Greyhound Capital,\\xa0Index Ventures, Balderton CapitalTagline Your digital banking alternativeLocated  United KingdomYear Founded  2015Key People  Nikolay StoronskyWebsite  revolut.com'},\n",
       " {'Name': 'Compass',\n",
       "  'Description': 'Compass is a real estate technology company with a powerful end-to-end platform that supports the entire buying and selling workflow. The platform uses Big Data and cutting edge algorithms to provide the most accurate pricing for homes and the most efficient route to selling at the highest price. The company plans to be in each of the top U.S. cities by the end of the year and earlier this year made a move into the commercial real estate market.',\n",
       "  'Year': '2012',\n",
       "  'Location': 'United States',\n",
       "  'Website': 'compass.com',\n",
       "  'Category': 'Payments',\n",
       "  'Ownership': 'Private',\n",
       "  'Keypeople': 'Ori Allon, Robert Reffkin, Ugo ,Di Girolamo',\n",
       "  'Investors': 'SoftBank Vision Fund, Qatar Investment Authority, IVP (Institutional Venture Partners), Fidelity Investments'},\n",
       " {'Name': 'Stripe',\n",
       "  'Description': 'Stripe offers a means of accepting payments online and in mobile apps, utilising bank accounts from local and international cards. The company processes billions of dollars per annum, serving thousands of companies across a broad range of sizes. By facilitating frictionless transactions, Stripe addresses a problem rooted in code and design, not finance. Its products have expanded to include credit cards, subscription-based billing and debit cards. In July this year, the company partnered with digital payments providers Alipay and WeChat Pay to enable merchants using its platform globally to accept payments from hundreds of millions of Chinese customers.',\n",
       "  'Year': '2011',\n",
       "  'Location': 'United States',\n",
       "  'Website': 'stripe.com',\n",
       "  'Category': 'Payments',\n",
       "  'Ownership': 'Private',\n",
       "  'Keypeople': 'John Collison,Patrick Collison',\n",
       "  'Investors': 'Tiger Global Management, Thirve Capital, Sequoia Capital, Kleiner Perkins, DST Global'},\n",
       " {'Name': 'Clover Health',\n",
       "  'Description': 'Clover Health is a data-driven\\xa0health insurance startup focused on lowering costs and producing improved health outcomes. The company uses analytics and custom software to direct clinical staff to proactively fill in gaps in the care of elderly and low-income members.\\xa0Its technology has an 85 percent accuracy rate in identifying patients at risk of being admitted to hospital in the next 28 days - an unmatched level of precision. Currently, Clover services members of the U.S. Medicare Advantage Program, which has 18 million members in total.',\n",
       "  'Year': '2013',\n",
       "  'Location': 'United States',\n",
       "  'Website': 'cloverhealth.com',\n",
       "  'Category': 'Insurance',\n",
       "  'Ownership': 'Private',\n",
       "  'Keypeople': 'Vivek Garipalli,Kris Gale',\n",
       "  'Investors': 'Greenoaks Capital, Refactor Capital, Nexus Venture Partners, DNA Capital, Wildcat Venture Partners, Sequoia Capital, First Round Capital'},\n",
       " {'Name': 'Adyen',\n",
       "  'Description': 'Adyen is an innovative player in the payments industry providing advanced solutions to both online and physical stores across the globe. The platform enables streamlined global payment transactions, improving customer experience, processes and ultimately enhancing business performance. Mobile and Point-of-Sale avenues are available with over 187 transaction currencies and 250 payment methods. In 2017 alone, the company processed payment volumes of $127 billion.',\n",
       "  'Year': '2006',\n",
       "  'Location': 'Netherlands',\n",
       "  'Website': 'adyen.com',\n",
       "  'Category': 'Payments',\n",
       "  'Ownership': 'Public',\n",
       "  'Keypeople': 'Pieter van der Does,Arnout Schuijff,Sam Halse',\n",
       "  'Investors': 'IIndex Ventures, Felicis Ventures, Temasek Holdings, General AtlanticTagline Wherever people payLocated  NetherlandsYear Founded  2006Key People  Pieter van der DoesArnout SchuijffSam HalseWebsite  adyen.com'},\n",
       " {'Name': 'Policybazaar',\n",
       "  'Description': 'PolicyBazaar, initially founded as an information portal for learning about insurance, now operates India’s leading digital insurance brand and a marketplace that aggregates and selects deals from across the industry. PolicyBazaar now accounts for\\xa025% of all life insurance policies being taken out in India and processes almost 300,000 transactions per month.',\n",
       "  'Year': '2008',\n",
       "  'Location': 'India',\n",
       "  'Website': 'policybazaar.com',\n",
       "  'Category': 'Insurance',\n",
       "  'Ownership': 'Private',\n",
       "  'Keypeople': 'Alok Bansal,Yashish Dahiya',\n",
       "  'Investors': 'SoftBank Vision Fund, Info Edge, Temasek Holdings, Wellington Management, Tiger Global Management'},\n",
       " {'Name': 'Klarna',\n",
       "  'Description': 'Klarna is a leading European provider of e-commerce payment options which distinguishes payers from buyers. This allows buyers to pay for pre-ordered items upon or post receipt which can create a safer after-delivery payment solution. Klarna is particularly effective in absorbing all credit and fraud risk for online stores, guaranteeing sellers that they will safely receive their transaction funds. Having grown to 60 million users, the company recently announced that it is gearing up to launch a hybrid payments-credit card around the world, a move poised to transform the payments processor into a fully fledged digital bank.',\n",
       "  'Year': '2005',\n",
       "  'Location': 'Sweden',\n",
       "  'Website': 'klarna.com',\n",
       "  'Category': 'Payments',\n",
       "  'Ownership': 'Private',\n",
       "  'Keypeople': 'Sebastian Siemiatkowsk,Victor Jacobsson ,Niklas Adalberth',\n",
       "  'Investors': 'H&M Clothing Company,\\xa0Permira,\\xa0Creandum,\\xa0VISA'},\n",
       " {'Name': 'ACORN Oaknorth Holdings',\n",
       "  'Description': 'OakNorth specializes in small-and-medium-enterprise lending using its data and technology platform, ACORN machine. The platform leverages process excellence, machine learning, and technology to drive data-driven decision making across the loan lifecycle to help automate banking services. To date the company has lent over $2.2 billion to UK businesses. The ACORN machine has been embedded with banking partners across multiple countries, enabling them to replicate OakNorth’s success in the UK, in their own markets.',\n",
       "  'Year': '2015',\n",
       "  'Location': 'United Kingdom',\n",
       "  'Website': 'oaknorth.com',\n",
       "  'Category': 'Lending',\n",
       "  'Ownership': 'Private',\n",
       "  'Keypeople': 'Joel Perlman,Rishi Khosla',\n",
       "  'Investors': 'Toscafund Asset Management, Coltrane Asset Management, Clermont Group'},\n",
       " {'Name': 'Kreditech Holding',\n",
       "  'Description': 'Kreditech Holdings, a scoring company specialising in micro and instalment loans, uses maching-learning to provide access to better credit for the underbanked. The business adopts big data, proprietary algorithms and automated workflows to acquire, identify and assist customers within minutes or even seconds. Self-learning algorithms support the sophistication of technology to provide optimal customer service, minimise costs, improve accuracy and take on new customer data for continuous improvements. ',\n",
       "  'Year': '2012',\n",
       "  'Location': 'Germany',\n",
       "  'Website': 'kreditech.com',\n",
       "  'Category': 'Lending',\n",
       "  'Ownership': 'Private',\n",
       "  'Keypeople': 'Alexander Muller,Sebastian Diemer,Rene Griemens',\n",
       "  'Investors': 'PayU, Rakuten, International Finance Corporation, J.C. Flowers & Co., Victoria Park Capital, Värde Partners, Kreos Capital, Global Founders Capital, Blumberg Capital'},\n",
       " {'Name': 'Monzo',\n",
       "  'Description': None,\n",
       "  'Year': '2015',\n",
       "  'Location': 'United Kingdom',\n",
       "  'Website': 'monzo.com',\n",
       "  'Category': 'Neo-Bank',\n",
       "  'Ownership': 'Private',\n",
       "  'Keypeople': 'Jonas Huckestein ,Tom Blomfield',\n",
       "  'Investors': 'Goodwater Capital, Thirve Capital, Stripe, Passion Capital, Orange Digital Ventures, Crankstart FoundationAt a GlanceTagline The bank of futureLocated  United KingdomYear Founded  2015Key People  Jonas Huckestein Tom BlomfieldWebsite  monzo.com'},\n",
       " {'Name': 'WeLab',\n",
       "  'Description': 'WeLab’s mission is to innovate traditional credit services in order to better serve consumers with a cheaper, faster and more hassle-free way of borrowing money. The company’s lending platforms are powered by WeDefend, the company’s proprietary risk management technology, which combines machine learning, big data technologies, and unstructured data to deliver a streamlined risk management and customer experience. The company acts as a platform for users to apply for credit using their mobile phones. Since founding, the company has grown to over 30 million customers in Hong Kong and mainland China.',\n",
       "  'Year': '2013',\n",
       "  'Location': 'China',\n",
       "  'Website': 'welab.co',\n",
       "  'Category': 'Lending',\n",
       "  'Ownership': 'Private',\n",
       "  'Keypeople': 'Simon Loong,Kelly Wong ,Frances Kang Tzu-ping',\n",
       "  'Investors': 'International Finance Corporation, Alibaba Entrepreneurs Fund, Credit Suisse,\\xa0Khazanah Nasional, Lakestar, ING Group, Guangdong Technology Financial Group'},\n",
       " {'Name': 'Number26 (N26)',\n",
       "  'Description': 'N26 offers a mobile banking app, operating without a single physical branch, and doesn’t charge fees on transactions. It has a number of products on it’s platform including a basic current account, international money transfer, investment, overdraft, and cash withdrawal and deposit at stores. Expanding into the U.K. in August of this year, the company expects to enter the U.S. market in the first quarter of 2019. With more than 1.5 million customers signed up to the platform they recently launced ‘Spaces’, a new feature allowing users to set aside money based on their personal preferences and needs, across all geographies. ',\n",
       "  'Year': '2013',\n",
       "  'Location': 'Germany',\n",
       "  'Website': 'number26.eu',\n",
       "  'Category': 'Neo-Bank',\n",
       "  'Ownership': 'Private',\n",
       "  'Keypeople': 'Maximilian Tayenthal ,Valentin Stalf',\n",
       "  'Investors': 'Tencent Holdings, Allianz X, Greyhound Capital,\\xa0Horizon Ventures, Valar Ventures'},\n",
       " {'Name': 'WealthSimple',\n",
       "  'Description': 'Wealthsimple is a rapidly growing online investment manager that allows simple, cost effective and accessible investing. Largely aimed at millenials, Wealthsimple offers personalized portfolios of diversified, low-fee, ETFs are created for each client, and automation technologies are utilised to manage and maintain them. The company also offers an on-demand advice and help channel via phone, email or text under their ‘Wealth Concierge’ brand. Newly expanded to the U.S. and the U.K., the company now has over a billion dollars in assets under management.',\n",
       "  'Year': '2014',\n",
       "  'Location': 'Canada',\n",
       "  'Website': 'wealthsimple.com',\n",
       "  'Category': 'Wealth',\n",
       "  'Ownership': 'Private',\n",
       "  'Keypeople': 'Michael Katchen ,Dave Nugent',\n",
       "  'Investors': 'Impression Ventures, Power Financial Corporation'},\n",
       " {'Name': 'AfterPay Touch',\n",
       "  'Description': None,\n",
       "  'Year': '2014',\n",
       "  'Location': 'Australia',\n",
       "  'Website': 'afterpay.com.au',\n",
       "  'Category': 'Payments',\n",
       "  'Ownership': 'Public',\n",
       "  'Keypeople': 'Nick Molnar,Anthony Eisen',\n",
       "  'Investors': None},\n",
       " {'Name': 'Dianrong',\n",
       "  'Description': 'Dianrong designs and customizes lending products and services with their sophisticated infrastructure, factoring in industry-specific data and insights. Online risk-management and operation tools are key components of the product and service offerings. These offerings include loan originations, investment products, and marketplace lending solutions. Dianrong originates US$500 million in monthly assets for 4 million retail lenders. Earlier this year the company announced that the next version of its supply chain finance solution will be made available on Corda, R3’s blockchain platform for finance and business.',\n",
       "  'Year': '2012',\n",
       "  'Location': 'China',\n",
       "  'Website': 'dianrong.com',\n",
       "  'Category': 'Lending',\n",
       "  'Ownership': 'Private',\n",
       "  'Keypeople': None,\n",
       "  'Investors': 'Dalian Finance Industry Investment Group (DFIIG),\\xa0Orix Asia Capital Ltd, CITIC Securities,\\xa0AMTD Group'},\n",
       " {'Name': 'VivaRepublica (Toss)',\n",
       "  'Description': 'Viva Republica, through its mobile appToss, provides the simplest P2P mobile payments platform in Korea. \\xa0According to the company, their registered user base has doubled over the past year reaching eight million consumers, while the app is processing $1.4 billion in transaction volume per month.  Adding to its success in P2P payments, the company has launched over 10 financials services to become a consumer mobile financial services platform. Toss partners with incumbent financial institutions and other fintech players to provide users with services that cover all facets of their financial lives.',\n",
       "  'Year': '2013',\n",
       "  'Location': 'Korea',\n",
       "  'Website': 'toss.im',\n",
       "  'Category': 'Payments',\n",
       "  'Ownership': 'Private',\n",
       "  'Keypeople': 'Seung Geon Lee',\n",
       "  'Investors': 'Sequoia Capital China, GIC, PayPal, Goodwater Capital, Bessemer Venture Capital, Altos Ventures'},\n",
       " {'Name': 'QUOINE',\n",
       "  'Description': 'QUOINE provides trading, exchange, and next-generation financial services powered by blockchain technology. It was the first global cryptocurrency exchange to be officially licensed by the Japan Financial Service Authority. Moreover, its existing trading platforms, Qryptos and Quoinex, are among the most advanced in the world. Last month the company launched Liquid, a cryptocurrency one-stop trading portal, which will allow users to access a worldwide network of cryptocurrency exchanges. Liquid allows users to match trades across multiple transactions and cryptocurrencies. Currently QUOINE processes annual transactions worth over $50 billion.Tagline Financial Services on the BlockchainLocated  JapanYear Founded  2014Key People  Mike KayamoriMario Gomez-LozadaWebsite  quoine.comCategory  WealthOwnership  PrivateRank Last Year  New to the listStaff👤  👤  👤  👤  👤 ',\n",
       "  'Year': '2014',\n",
       "  'Location': 'Japan',\n",
       "  'Website': 'quoine.com',\n",
       "  'Category': 'Wealth',\n",
       "  'Ownership': 'Private',\n",
       "  'Keypeople': 'Mike Kayamori,Mario Gomez-Lozada',\n",
       "  'Investors': None},\n",
       " {'Name': 'Kabbage',\n",
       "  'Description': 'Kabbage is an online lender who’s vision is to dynamically deliver products that small businesses need to operate and stay connected to the data that drives the underwriting process for lines of credit. The company recently announced that it has lent a total of US$5 billion to its customers, including US$1 billion that entrepreneurs have applied for on night and weekends - when traditional banks are closed. Emerging as an enabler of larger financial institutions, Kabbage recently announced a partnership with Canadian financial services giant Scotiabank that will allow clients in both Canada and Mexico to apply for small business loans of up to $100,000.',\n",
       "  'Year': '2008',\n",
       "  'Location': 'United States',\n",
       "  'Website': 'kabbage.com',\n",
       "  'Category': 'Lending',\n",
       "  'Ownership': 'Private',\n",
       "  'Keypeople': 'Rob Frohwein,Marc Gorlin,Kathryn Petralia',\n",
       "  'Investors': 'SoftBank, Reverence, Capital Partners, Yuan Capital, UPS Strategic Enterprise Fund, Thomvest Ventures, Scotiabank, Santander InnoVentures'},\n",
       " {'Name': 'Affirm',\n",
       "  'Description': 'Affirm is a point-of-sale lender who partners with brands and retailers online and in-store to offer shoppers a simple-interest or no-interest payment option on purchases up to $17500. The company charges no hidden fees or compounding interest, targeting customers of all ages and FICO scores, as well as groups that are traditionally underserved.The company already partners with over 1,200 merchants and in 2017 surpassed $1 billion in loan volume. It has reached millions of customers.',\n",
       "  'Year': '2012',\n",
       "  'Location': 'United States',\n",
       "  'Website': 'affirm.com',\n",
       "  'Category': 'Lending',\n",
       "  'Ownership': 'Private',\n",
       "  'Keypeople': 'Max Levchin',\n",
       "  'Investors': 'GIC, Spark Capital, Ribbit Capital, Lightspeed Venture Capital, Khosla Ventures, Founders FundTagline Pay over time, on your termsLocated  United StatesYear Founded  2012Key People  Max LevchinWebsite  affirm.com'},\n",
       " {'Name': 'OurCrowd',\n",
       "  'Description': 'OurCrowd provides an equity crowdfunding platform for accredited investors to access and invest in Israeli companies as well as other businesses from around the world. OurCrowd identifies opportunities, invests its own capital and creates a bridge between startups and an accredited pool of 10,000 international and domestic investors. They are currently backing 150 startups across the globe and have helped 20 startups sucessfully exit. The company now has offices in seven countries and earlier this year hit a major milestone surpassing US$1 billion in assets under management.',\n",
       "  'Year': '2012',\n",
       "  'Location': 'Israel',\n",
       "  'Website': 'ourcrowd.com',\n",
       "  'Category': 'Wealth',\n",
       "  'Ownership': 'Private',\n",
       "  'Keypeople': 'John Medved,Steven Blumgart',\n",
       "  'Investors': 'Israel Seed Partners, Alta Berkley Venture Partners'},\n",
       " {'Name': 'SolarisBank',\n",
       "  'Description': 'One of the first technology companies in Europe to procure a German banking license, solarisBank operates as an API-accessible banking business. The company enables businesses to offer fully digital and fully compliant financial services to their end-customers. Their suite of banking services include bank accounts, KYC services, algorithmic scoring, transactions and even payment cards. Supporting the growth of the digital economy is a key component of solarisBank’s vision.',\n",
       "  'Year': '2016',\n",
       "  'Location': 'Germany',\n",
       "  'Website': 'solarisbank.de',\n",
       "  'Category': 'Neo-Bank',\n",
       "  'Ownership': 'Private',\n",
       "  'Keypeople': 'Andreas Bittner,Marko Wenthin,Roland Folz',\n",
       "  'Investors': 'BBVA, Visa, SBI Group, Lakestar, Arvato Financial Solutions, ABN AMRO Digital Impact FundTagline Enabling your business to offer financial servicesLocated  GermanyYear Founded  2016Key People  Andreas BittnerMarko WenthinRoland FolzWebsite  solarisbank.de'},\n",
       " {'Name': 'Future Finance',\n",
       "  'Description': 'Future Finance is Europe’s leading student lender providing competitive tailored loans to that range in size and are designed to pay for everything from living expenses to tuition costs. Funds are released within 24 hours. Since 2013 the company has lent over\\xa0US$85 million to students and expects to issue between US$53-$94 million in student loans just in 2018.',\n",
       "  'Year': '2013',\n",
       "  'Location': 'Ireland',\n",
       "  'Website': 'futurefinance.com',\n",
       "  'Category': 'Lending',\n",
       "  'Ownership': 'Private',\n",
       "  'Keypeople': 'Olga Dolchenko',\n",
       "  'Investors': 'KCK, S-Cubed Capital, Invus, Fenway Summer Ventures, Goldman Sachs'},\n",
       " {'Name': 'Neyber',\n",
       "  'Description': 'Neyber creates partnerships with employers in order to provide employees with a range of financial management products, including salary-deducted loans and financial education. Since 2015 the company has lent over US$90 million, to the employees of clients like UK Police Service, London City Airport, Anglian Water and NHS Trusts. Last month Neyber partnered with robo-advisor Smarterly to launch investment portal SmarterCare for business loans which will offer an investment ISA to employees allowing them to invest directly from their salary at no cost to their employer.',\n",
       "  'Year': '2014',\n",
       "  'Location': 'United Kingdom',\n",
       "  'Website': 'neyber.co.uk',\n",
       "  'Category': 'Wealth',\n",
       "  'Ownership': 'Private',\n",
       "  'Keypeople': 'Martin Ijaha,Ezechi Britton,Monica Kalia',\n",
       "  'Investors': 'Goldman Sachs, Wadhawan Global Capital, Police MutualTagline An Employee Benefit To Improve Financial WellbeingLocated  United KingdomYear Founded  2014Key People  Martin IjahaEzechi BrittonMonica KaliaWebsite  neyber.co.uk'},\n",
       " {'Name': 'ZhongAn',\n",
       "  'Description': None,\n",
       "  'Year': '2013',\n",
       "  'Location': 'China',\n",
       "  'Website': 'zhongan.com',\n",
       "  'Category': 'Insurance',\n",
       "  'Ownership': 'Public',\n",
       "  'Keypeople': 'Chen Jin,Xu Wei ,Jiang Xing',\n",
       "  'Investors': 'SoftBank Vision FundAt a GlanceTagline Tailored InsuranceLocated  ChinaYear Founded  2013Key People  Chen JinXu Wei Jiang XingWebsite  zhongan.com'},\n",
       " {'Name': 'TransferWise',\n",
       "  'Description': 'TransferWise is a money transfer service allowing private individuals and businesses to send money abroad without hidden charges. The company, which has been profitable since early 2017, moves more than US$1B around the world each month through it’s platform.\\xa0 The company has partnerned with the likes of Monzo, N26 and Estonia’s LHV which will see Transferwise power international payments for the challenger banks. Earlier this year the company also launched\\xa0their borderless debit card in the UK with plans for a European roll out.',\n",
       "  'Year': '2010',\n",
       "  'Location': 'United Kingdom',\n",
       "  'Website': 'transferwise.com',\n",
       "  'Category': 'Payments',\n",
       "  'Ownership': 'Private',\n",
       "  'Keypeople': 'Kristo Kaarman,Taavet Hirikus',\n",
       "  'Investors': 'Old Mutual Global Investors, IVP (Institutional Venture Partners), World Innovation Lab (WiL), Virgin Group, Sapphire Ventures, Baillie Gifford'},\n",
       " {'Name': 'Pushpay',\n",
       "  'Description': 'Pushpay provides a donor management system, including donor tools, finance tools and a custom community app, to the faith sector, non-profit organisations and education providers in the US, Canada, Australia and New Zealand. Our leading solutions simplify engagement, payments and administration, enabling our Customers to increase participation and build stronger relationships with their communities.',\n",
       "  'Year': '2011',\n",
       "  'Location': 'New Zealand, United States',\n",
       "  'Website': 'pushpay.com',\n",
       "  'Category': 'Payments',\n",
       "  'Ownership': 'Public',\n",
       "  'Keypeople': 'Chris Heaslip',\n",
       "  'Investors': 'Christopher & Banks'},\n",
       " {'Name': 'League Inc.',\n",
       "  'Description': 'League revolutionises health insurance into an innovative, digital solution by providing options to tailor health-related accounts on a streamlined mobile platform. Their suite of apps is designed to reduce the total operating costs for companies to deliver benefits programs, the apps include a customizable digital wallet, behavioural-based health rewards and a marketplace where members can get deals on health and wellness products. League is currently licensed to operate in all 50 US states and plans to begin operations in the United Kingdom and European Union next year.',\n",
       "  'Year': '2014',\n",
       "  'Location': 'Canada',\n",
       "  'Website': 'league.com',\n",
       "  'Category': 'Insurance',\n",
       "  'Ownership': 'Private',\n",
       "  'Keypeople': 'Michael Serbinis,Dan Leibu,Todd Humphrey,Dan Galperin',\n",
       "  'Investors': 'Telus Ventures, Wittington Ventures, RBC Venture Partners, OMERS, Infinite Potential GroupTagline Better Employee Benefits for Your BusinessLocated  CanadaYear Founded  2014Key People  Michael SerbinisDan LeibuTodd HumphreyDan GalperinWebsite  league.com'},\n",
       " {'Name': 'Circle',\n",
       "  'Description': 'Circle provides an application for users to take up payment tools for Bitcoin and other digital currency services. Working to revolutionise consumer finance for users (e.g. businesses and charities), Circle is deploying simple, free technology for storing and using money. Through Circle’s mobile apps, people across the globe are able to transfer money, with greater easy and security as well as zero fees. With products such as Circle Pay, Poloniex and Circle Trade already being adopted, Circle are also on the brink of releasing investment app Circle Invest in Europe after success in the US.',\n",
       "  'Year': '2013',\n",
       "  'Location': 'United States',\n",
       "  'Website': 'circle.com',\n",
       "  'Category': 'Payments',\n",
       "  'Ownership': 'Private',\n",
       "  'Keypeople': 'Jeremy Allaire,Sean Neville',\n",
       "  'Investors': 'Bitmain, Tusk Ventures, Pantera Capital, IDG Capital, General Catalyst, Digital Currency Group'},\n",
       " {'Name': 'Lendingkart',\n",
       "  'Description': 'Lendingkart allows entrepreneurs to easily access working capital finance options, eliminating or reducing their concerns or worries about cash flow gaps. Big data analysis and technology tools create a more efficient and effective way of evaluating one’s credit worthiness, subsequently offering other related services. A potential client can have their credit risk profile evaluated and assessed, from their existing cash flows and business growth. Thereafter, a short term revolving credit line can be arranged as working capital. After a significant debt funding injection, the company is looking to expand it’s reach to over 1,200 cities across India.',\n",
       "  'Year': '2014',\n",
       "  'Location': 'India',\n",
       "  'Website': 'lendingkart.com',\n",
       "  'Category': 'Lending',\n",
       "  'Ownership': 'Private',\n",
       "  'Keypeople': 'Harshvardhan Lunia,Mukul Sachan',\n",
       "  'Investors': 'Fullerton Financial Holdings,\\xa0Darrin Capital Management, Saama Capital,\\xa0Bertelsmann India Investments'},\n",
       " {'Name': 'Opendoor',\n",
       "  'Description': 'Opendoor makes it possible to receive an offer on a home in just a few clicks, and sell in a matter of days, removing all of the headaches, uncertainties, and risks from the transaction. Whether selling, buying, or trading a home, Opendoor dramatically simplifies the process and avoids customers being stuck waiting to sell their house before they can move or are forced to juggle two house payments. Currently operating in 10 markets, it plans to expand to over 50.',\n",
       "  'Year': '2014',\n",
       "  'Location': 'United States',\n",
       "  'Website': 'opendoor.com',\n",
       "  'Category': 'Payments',\n",
       "  'Ownership': 'Private',\n",
       "  'Keypeople': 'Eric Wu,Ian Wong ,Justin Ross ',\n",
       "  'Investors': 'Softbank Vision Fund,\\xa0Lennar Corporation, General Atlantic, Access Technology Ventures, Khosla Ventures, Y Combinator'},\n",
       " {'Name': 'Metromile',\n",
       "  'Description': 'Metromile is revolutionizing car insurance through technology with its pay-per-mile insurance model. The company offers a device called the Metromile Pulse that plugs into a car to monitor its hours on the road. Based on this data, Metromile offers drivers tailored insurance plans. Last July the company debuted Ava, an automated assistant that uses car sensor data to verify insurance claims on the spot. Using data derived from Pulse, Ava reconstructs the scene of the accident to establish what happened and can automatically approve payments in the matter of seconds.',\n",
       "  'Year': '2011',\n",
       "  'Location': 'United States',\n",
       "  'Website': 'metromile.com',\n",
       "  'Category': 'Insurance',\n",
       "  'Ownership': 'Private',\n",
       "  'Keypeople': None,\n",
       "  'Investors': 'Tokio Marine, Holdings, Intact Financial Corporation, Section 32, Index Ventures,\\xa0First Round Capital'},\n",
       " {'Name': 'Folio',\n",
       "  'Description': 'Folio offers an online security brokerage service in Japan, specialising in thematic investing. With the mission to make investing barrier-free, Folio has built a securities brokerage platform from scratch. The platform enables users to compile a diversified portfolio, managing their assets through a robo-advisor, but also by choosing themes depending on what they are interested in or want to support. ',\n",
       "  'Year': '2015',\n",
       "  'Location': 'Japan',\n",
       "  'Website': 'folio-sec.com',\n",
       "  'Category': 'Wealth',\n",
       "  'Ownership': 'Private',\n",
       "  'Keypeople': None,\n",
       "  'Investors': 'Goldman Sachs, SMBC Venture Capital, Draper Nexus Ventures, Dentsu Ventures, DCM VenturesTagline A Next-Generation Investment ServiceLocated  JapanYear Founded  2015Key People  Shinichiro KaiShunichi KajiwaraHajime Hirono  Website  folio-sec.com'},\n",
       " {'Name': 'Lendix',\n",
       "  'Description': 'Lendix assists private, professional and institutional investors in achieving attractive returns, and helps SMBs seek simple and efficient funding options beyond the traditional offers from banking institutions. Upon project approval and interest rate determination, a project is submitted to a platform for investors to access. The average time for financing completion is less than 10 days.\\xa0The company has also developed a tool called Iris, that they hope will become the biggest intelligence database for European companies.',\n",
       "  'Year': '2014',\n",
       "  'Location': 'France',\n",
       "  'Website': 'en.lendix.com',\n",
       "  'Category': 'Lending',\n",
       "  'Ownership': 'Private',\n",
       "  'Keypeople': 'Olivier Goy  ',\n",
       "  'Investors': 'Idinvest, Allianz, CIR SpA, Partech Ventures, Weber Investissement, Zencap, Matmut, Decaux Freres Investissement'},\n",
       " {'Name': 'GuiaBolso',\n",
       "  'Description': 'GuiaBolso empowers users in Brazil to better control and understand their financial health and well-being. With an approach towards automation, the company has adopted a solution to personal finance management which can assist customers on their path to financial freedom and improve their relationship with money. Their app links customers bank accounts, creates transparency for banking transactions, builds and categorises goals and manages them on an automatic basis. Guiabolso’s 3.5 million customers also have the option to alter, remove and grow their accounts to control cash expenditures.',\n",
       "  'Year': '2012',\n",
       "  'Location': 'Brazil',\n",
       "  'Website': 'guiabolso.com',\n",
       "  'Category': 'Lending',\n",
       "  'Ownership': 'Private',\n",
       "  'Keypeople': 'Benjamin Gleason ,Thiago Alvarez',\n",
       "  'Investors': 'Carlos Curioni, e.Bricks Ventures, Valor Capital Group, Daniel Martins, Florian Otto, Kaszek Ventures, Ed Baker, Omidyar Network'},\n",
       " {'Name': 'Starling Bank',\n",
       "  'Description': 'Starling Bank is a mobile-only bank offering personal, joint and business accounts. They are a fully licensed bank and in 2017 became the first mobile only bank to be granted approval from the PRA and FCA to offer customers financial products including loans, insurance, mortgages, ISAs and other investment products, all from within its app.\\xa0Earlier this year they inducted the first wave of fintech startups to its Marketplace, providing customers with in-app access to a cornucopia of third party insurers, pension providers, investment platforms and mortgage brokers.\\xa0This year Starling has grown its user accounts by almost 500 percent to over 210,000.',\n",
       "  'Year': '2014',\n",
       "  'Location': 'United Kingdom',\n",
       "  'Website': 'starlingbank.com',\n",
       "  'Category': 'Neo-Bank',\n",
       "  'Ownership': 'Private',\n",
       "  'Keypeople': 'Anne Boden\\xa0 ',\n",
       "  'Investors': 'Harald McPikeTagline See your money in a new wayLocated  United KingdomYear Founded  2014Key People  Anne Boden\\xa0 Website  starlingbank.com'},\n",
       " {'Name': 'Coinbase',\n",
       "  'Description': 'Coinbase enables digital currency transactions between traders, consumers and merchants via an online platform. The company’s mission is to create a globally accessible, open financial system. By allowing individual bitcoin wallets and enabling connected bank accounts, Coinbase ensures an improved buying and selling experience. The platform also offers a range of payment processing options that can manage high traffic levels on the internet.',\n",
       "  'Year': '2012',\n",
       "  'Location': 'United States',\n",
       "  'Website': 'coinbase.com',\n",
       "  'Category': 'Payments',\n",
       "  'Ownership': 'Private',\n",
       "  'Keypeople': 'Brian Armstrong,Fred Ehrsam',\n",
       "  'Investors': 'Y Combinator, FundersClub, SV Angel, Union Square Ventures, Digital Currency Group, Andreessen Horowitz, Union Square Ventures, Reinventure Group'},\n",
       " {'Name': 'Airwallex',\n",
       "  'Description': 'Airwallex facilitates cross-border transactions by offering secure payments facilities that allow customers to fix exchange rates for each transaction to reduce currency volatility. The software also integrates with an invoice and payments system through an online web portal. Their US$80M Series B raise in July of this year is the second-largest funding round in Australian history.',\n",
       "  'Year': '2015',\n",
       "  'Location': 'Australia',\n",
       "  'Website': 'airwallex.com',\n",
       "  'Category': 'Payments',\n",
       "  'Ownership': 'Private',\n",
       "  'Keypeople': 'Lucy Yueting Liu,Jack Zhang ,Jacob Dai',\n",
       "  'Investors': 'Tencent Holdings, Sequoia China, Square Peg Capital, MasterCardTagline Forex and International Payments, Re-ImaginedLocated  AustraliaYear Founded  2015Key People  Lucy Yueting LiuJack Zhang Jacob DaiWebsite  airwallex.com'},\n",
       " {'Name': 'Lemonade',\n",
       "  'Description': 'Lemonade is a licensed insurance carrier which uses artificial intelligence and bots to minimize paperwork and speed up the claims process for renters and homeowners.\\xa0Lemonade sold $10 million in policies last year and offers them in 19 U.S. states and the district of Colombia. Appealing to millienials the company has pioneered a “Giveback” feature whereby customers join cohorts, and if any premium remains after paying the cohort’s claims, fees, and reinsurance, that money goes to a collectively designated charity.',\n",
       "  'Year': '2015',\n",
       "  'Location': 'United States',\n",
       "  'Website': 'lemonade.com',\n",
       "  'Category': 'Insurance',\n",
       "  'Ownership': 'Private',\n",
       "  'Keypeople': 'Daniel Schreiber,Shai Wininger',\n",
       "  'Investors': 'SoftBank, Tusk Ventures, Sequoia Capital Israel, General Catalyst, GV (formerly Google Ventures), XL Innovate'},\n",
       " {'Name': 'Key People  ',\n",
       "  'Description': 'AgriDigital is an integrated commodity management solution for the global grains industry. They combine high-end technical and industry expertise with beautiful design and intuitive work flows to provide seamless solutions to complex commodity, logistical, risk and customer management issues. Through applied blockchain technologies, distributed ledgers and smart contracts, AgriDigital provides real time payment to growers, increased efficiencies for brokers, flexible supply chain for buyers and financiers, and paddock to plate transparency for consumers.',\n",
       "  'Year': '2015',\n",
       "  'Location': 'Australia',\n",
       "  'Website': 'agridigital.io',\n",
       "  'Category': 'Payments',\n",
       "  'Ownership': 'Private',\n",
       "  'Keypeople': None,\n",
       "  'Investors': 'Square Peg CapitalWebsite  agridigital.io'},\n",
       " {'Name': 'Key People  ',\n",
       "  'Description': 'Anyfin enables anyone to competitively refinance their existing loans.\\xa0With a combination of AI, publicly available consumer data, and with additional information garnered through taking a photo of your existing loan statement, they give a more complete picture than just your credit score alone, which is the main data point used by most original lenders.Anyfin pays off your old debt and issues a new loan with better terms. They earn money on the interest rate from the credits. Starting by helping borrowers lower their monthly costs, Anyfin’s aim is to put a stop to shady business dealings often caused by high interest rates. ',\n",
       "  'Year': '2017',\n",
       "  'Location': 'Sweden',\n",
       "  'Website': 'anyfin.com',\n",
       "  'Category': 'Lending',\n",
       "  'Ownership': 'Private',\n",
       "  'Keypeople': 'Mikael Hussain,Sven Perkmann,Filip Polhem',\n",
       "  'Investors': 'Northzone, Accel, Global Founders CapitalTagline Picture. A better loan.Located  SwedenYear Founded  2017Key People  Mikael HussainSven PerkmannFilip PolhemWebsite  anyfin.com'},\n",
       " {'Name': 'Key People  ',\n",
       "  'Description': 'Aqeed is an insurance technology company that aims to make insurance simple, transparent, and accessible. They are the first digital insurance platform in the region that allows customers to not only buy their insurance online but manage and service it as well. Customers can now compare, customize and buy in less than 2 minutes.',\n",
       "  'Year': '2017',\n",
       "  'Location': 'United Arab Emirates',\n",
       "  'Website': 'aqeed.com',\n",
       "  'Category': 'Insurance',\n",
       "  'Ownership': 'Private',\n",
       "  'Keypeople': 'Hadi Radwan,Abi Nader',\n",
       "  'Investors': 'Equitrust - Choueiri Group Investment FundTagline Insurance Made SimpleLocated  United Arab EmiratesYear Founded  2017Key People  Hadi RadwanAbi NaderWebsite  aqeed.com'},\n",
       " {'Name': 'Key People  ',\n",
       "  'Description': 'Bankera is developing a bank to be the bridge between the traditional world and the blockchain technology. Bankera will offer three core services: payments, loans and deposits and investment solutions such as exchange-traded funds, crypto-funds as well as roboadvisory solutions for wealth management. With a high-skilled and dedicated team, innovative solutions and a strong foundation - Spectrocoin, a leading cryptocurrencey exchange and blockchain wallet, Bankera is working towards its goal of becoming a blockchain-based bank.',\n",
       "  'Year': '2017',\n",
       "  'Location': 'Lithuania',\n",
       "  'Website': 'bankera.com',\n",
       "  'Category': 'Neo-Bank',\n",
       "  'Ownership': 'Private',\n",
       "  'Keypeople': 'Vytautas Karalevicius',\n",
       "  'Investors': 'Last round of funding via an ICOTagline Banking for the blockchain era.Located  LithuaniaYear Founded  2017Key People  Vytautas KaraleviciusWebsite  bankera.com'},\n",
       " {'Name': 'Key People  ',\n",
       "  'Description': 'Blackmoon is a blockchain-based investment platform driven by a team of professionals with years of experience in investments, asset management and blockchain technology.Blackmoon aims to create and maintain the world’s best framework for tokenized investment funds to deliver new opportunities in both the real world and crypto economies. This brings blockchain flexibility to fiat instruments, and the benefits of accumulated financial wisdom to crypto investments.',\n",
       "  'Year': '2015',\n",
       "  'Location': 'Malta',\n",
       "  'Website': 'blackmoonplatform.com',\n",
       "  'Category': 'Financial Services',\n",
       "  'Ownership': 'Private',\n",
       "  'Keypeople': None,\n",
       "  'Investors': 'ICO, Target Global, Flint Capital, A&NN InvestmentsWebsite  blackmoonplatform.com'},\n",
       " {'Name': 'Key People  ',\n",
       "  'Description': 'Based in New York, BlockFi is a secured non-bank lender offering USD loans to cryptoasset owners who collateralize the loan with their cryptoassets. Their products bring additional liquidity to the blockchain asset sector and meet needs of both individuals and institutions holding blockchain assets. BlockFi holds clients’ Bitcoin and Ether with a registered custodian and issuing loans in USD to their bank accounts. They are currently lending in over 45 US states and will soon be expanding into international markets.',\n",
       "  'Year': '2017',\n",
       "  'Location': 'United States',\n",
       "  'Website': 'blockfi.com',\n",
       "  'Category': 'Lending',\n",
       "  'Ownership': 'Private',\n",
       "  'Keypeople': 'Zac Prince,Flori Marquez',\n",
       "  'Investors': 'Galaxy Investment Partners, ConsenSys VenturesTagline Loans backed by your cryptocurrencyLocated  United StatesYear Founded  2017Key People  Zac PrinceFlori MarquezWebsite  blockfi.com'},\n",
       " {'Name': 'Key People  ',\n",
       "  'Description': 'Brex is rebuilding B2B financial products, starting with a corporate credit card for technology companies. Brex helps startups of all sizes to instantly get a credit card that has 20x higher limits, completely automates expense management, kills receipt tracking and magically integrates with accounting systems.',\n",
       "  'Year': '2017',\n",
       "  'Location': 'United States',\n",
       "  'Website': 'www.brex.com',\n",
       "  'Category': 'Payments',\n",
       "  'Ownership': 'Private',\n",
       "  'Keypeople': 'Henrique Dubugras,Pedro Franceschi',\n",
       "  'Investors': 'Greenoaks Capital, DST Global, Y Combinator, Ribbit Capital, Peter Thiel, Greyhound Capital, Y CombinatorTagline Corporate Cards for StartupsLocated  United StatesYear Founded  2017Key People  Henrique DubugrasPedro FranceschiWebsite  www.brex.com'},\n",
       " {'Name': 'Key People  ',\n",
       "  'Description': 'Cashaa is a next generation banking platform for the next billion. Cashaa is creating a better bank, challenging legacy banking by building an app and products with input from their community of users.  Their blockchain based platform enables its community to store, save, spend, recieve, borrow and get insured, with a simplified user experience in a legally compliant way.',\n",
       "  'Year': '2016',\n",
       "  'Location': 'United Kingdom',\n",
       "  'Website': 'cashaa.com',\n",
       "  'Category': 'Neo-Bank',\n",
       "  'Ownership': 'Private',\n",
       "  'Keypeople': None,\n",
       "  'Investors': 'Celestial Holdings, 2F Capital Ltd (most recently an ICO)Website  cashaa.com'},\n",
       " {'Name': 'Key People  ',\n",
       "  'Description': 'Cellulant is an award-winning mobile commerce company operating a one-stop payments ecosystem in Africa; connecting businesses and governents to increasingly mobile consumers. \\xa0Cellulant now operates in 11 countries, with roughly 12% of Africa’s mobile consumers now able to make payments using their services and products.\\xa0They are also building Agrikore, a blockchain based smart-contracting, payments marketplace system that ensures that everone in agriculture can do business in a trusted environment.',\n",
       "  'Year': '2004',\n",
       "  'Location': 'Kenya',\n",
       "  'Website': 'cellulant.com',\n",
       "  'Category': 'Payments',\n",
       "  'Ownership': 'Private',\n",
       "  'Keypeople': 'Bolaji Akinboro,Ken Njoroge',\n",
       "  'Investors': 'The Rise Fund, Satya Capital, Endeavour Catalyst, Velocity Capital & Progression AfricaTagline Life is MobileLocated  KenyaYear Founded  2004Key People  Bolaji AkinboroKen NjorogeWebsite  cellulant.com'},\n",
       " {'Name': 'Key People  ',\n",
       "  'Description': 'Cleo is an artificial intelligence startup that offers an intelligent assistant to help users to manage their finances.\\xa0With over 600,000 active users across the UK, US & Canada, their mission is to become the default interface for millenials interacting with and managing their money.',\n",
       "  'Year': '2015',\n",
       "  'Location': 'United Kingdom',\n",
       "  'Website': 'meetcleo.com',\n",
       "  'Category': 'Wealth',\n",
       "  'Ownership': 'Private',\n",
       "  'Keypeople': 'Aleksandra Wozniak,Barnaby Hussey-Yeo',\n",
       "  'Investors': 'Balderton Capital, LocalGlobeTagline Your\\xa0AI pal, giving you a hand with your money.Located  United KingdomYear Founded  2015Key People  Aleksandra WozniakBarnaby Hussey-YeoWebsite  meetcleo.com'},\n",
       " {'Name': 'Key People  ',\n",
       "  'Description': 'Coya offers scalable protection at the point of need with an AI risk guardian and simple, transparent, and personalised insurance cover. Users can become insured with only a few simple clicks. Coya will soon offer “micro-policies” that allow clients to insure individual objects for only a few days or even hours.',\n",
       "  'Year': '2016',\n",
       "  'Location': 'Germany',\n",
       "  'Website': 'coya.com',\n",
       "  'Category': 'Insurance',\n",
       "  'Ownership': 'Private',\n",
       "  'Keypeople': 'Andrew Shaw,Peter Hagen,Sebastian Villarroel',\n",
       "  'Investors': 'Valar Ventures, La Famiglia, e.venturesTagline Join the future of InsuranceLocated  GermanyYear Founded  2016Key People  Andrew ShawPeter HagenSebastian VillarroelWebsite  coya.com'},\n",
       " {'Name': 'Key People  ',\n",
       "  'Description': 'Crypterium is developing a mobile app that allows instant payments in cryptocurrencey using existing payment infrastructure such as NFC or QR codes. It allows users to issue a virtual card, bind it to their crypto account, link it to Apple Pay, Samsung Pay or Android Pay, and pay with crypto by simply using a smartphone.',\n",
       "  'Year': '2017',\n",
       "  'Location': 'Estonia',\n",
       "  'Website': 'crypterium.com',\n",
       "  'Category': 'Payments',\n",
       "  'Ownership': 'Private',\n",
       "  'Keypeople': None,\n",
       "  'Investors': 'Last round of funding via an ICOWebsite  crypterium.com'},\n",
       " {'Name': 'Key People  ',\n",
       "  'Description': 'The largest Fintech company in Korea, DAYLI aims to provide financial services that enrich the customers’ daily lives through proprietary technology and service capabilities in artificial intelligence and blockchain, robo-advisors, financial platforms and cryptocurrency. The company is working on creating an ecosystem called ICON that will allow government departments, universities, hospitals, securities, banks and any private company to interact without third-party networks that charge transaction fees or delay the process.  Tagline Finance to enrich everyday life.Located  KoreaYear Founded  2015Key People  Sean Seunghyun ShinKevin Kangmin ParkWebsite  daylifg.comCategory  WealthOwnership  PrivateStaff👤  👤  👤  👤  👤 ',\n",
       "  'Year': '2015',\n",
       "  'Location': 'Korea',\n",
       "  'Website': 'daylifg.com',\n",
       "  'Category': 'Wealth',\n",
       "  'Ownership': 'Private',\n",
       "  'Keypeople': 'Sean Seunghyun Shin,Kevin Kangmin Park',\n",
       "  'Investors': None},\n",
       " {'Name': 'Key People  ',\n",
       "  'Description': 'Dreams is a neo-bank that makes saving, spending and lending money easy, engaging and social.\\xa0With a focus on user experience and behavioral science, users in Norway and Sweden have now saved over US$100M with Dreams.',\n",
       "  'Year': '2013',\n",
       "  'Location': 'Sweden',\n",
       "  'Website': 'getdreams.com',\n",
       "  'Category': 'Wealth',\n",
       "  'Ownership': 'Private',\n",
       "  'Keypeople': None,\n",
       "  'Investors': 'Martin RandelWebsite  getdreams.com'},\n",
       " {'Name': 'Key People  ',\n",
       "  'Description': 'Funding Societies is an online platform that connects investors with small businesses that need funds, solving the financial inclusion issue by making credit-worthy SMEs bankable. Currently operating in South East Asia they are the first P2P platform to receive operating licenses from regulators in Singapore, Indonesia and Malaysia.\\xa0This year they completed a US$25M Series B round lead by SoftBank, the\\xa0largest raised by a P2P lending platform in Southeast Asia.',\n",
       "  'Year': '2015',\n",
       "  'Location': 'Singapore',\n",
       "  'Website': 'fundingsocieties.com',\n",
       "  'Category': 'Lending',\n",
       "  'Ownership': 'Private',\n",
       "  'Keypeople': None,\n",
       "  'Investors': 'Softbank Ventures Korea, Sequoia Capital India, Qualgro VC, Line Corporation, Golden Gate VenturesWebsite  fundingsocieties.com'},\n",
       " {'Name': 'Key People  ',\n",
       "  'Description': 'Geru is a marketplace lender offering personal unsecured term loans for prime and near prime borrowerers through a fast, simple and transparent online experience. Brazil’s first fully digital payroll loan product, Geru developed its own credit score model using conventional and alternative data. In March this year, the company introduced payroll loans, under which employers discount instalments from pay checks, in a partnership with French bank BNP Pariba’s Cetelem consumer credit unit.',\n",
       "  'Year': '2013',\n",
       "  'Location': 'Brazil',\n",
       "  'Website': 'geru.com.br',\n",
       "  'Category': 'Lending',\n",
       "  'Ownership': 'Private',\n",
       "  'Keypeople': 'Sandro Reiss,Tomas Correa,Karin Thies  ',\n",
       "  'Investors': 'Chromo InvestTagline The smart way to get a loan.Located  BrazilYear Founded  2013Key People  Sandro ReissTomas CorreaKarin Thies  Website  geru.com.br'},\n",
       " {'Name': 'Key People  ',\n",
       "  'Description': 'InstaReM provides fast, secure and cost-effective digital cross-border money transfer services to individuals and businesses. InstaReM has created a unique payment mesh in Asia, which is being leveraged by individuals and corporates. The company also offers a configurable, multi-featured platform MassPay that helps corporates and SME users to manage and control their high-volume remittances to multiple beneficiaries in multiple currencies via a seamless process, enabling them to reduce cross-border money transfer costs by up to 80%.',\n",
       "  'Year': '2014',\n",
       "  'Location': 'Singapore',\n",
       "  'Website': 'instarem.com',\n",
       "  'Category': 'Payments',\n",
       "  'Ownership': 'Private',\n",
       "  'Keypeople': 'Michael Bermingham,Prajit Nanu',\n",
       "  'Investors': 'Silicon Valley Bank, GSR Ventures, Vertex Ventures, SBI-FMO Fund, Global Founders CapitalTagline Send & SaveLocated  SingaporeYear Founded  2014Key People  Michael BerminghamPrajit NanuWebsite  instarem.com'},\n",
       " {'Name': 'Key People  ',\n",
       "  'Description': 'Konfío is an online lending platform that helps micro-businesses in Latin America who don’t have access to credit to obtain affordable loans. Their proprietary algorithm processes thousands of data points to measure creditworthiness and approves loans in real-time, allowing each applicant to save two months on average.   Their mission is to boost the regional economy with productive loans for young promising businesses who need it the most.',\n",
       "  'Year': '2013',\n",
       "  'Location': 'Mexico',\n",
       "  'Website': 'konfio.mx',\n",
       "  'Category': 'Lending',\n",
       "  'Ownership': 'Private',\n",
       "  'Keypeople': 'David Arana,Francisco Padilla',\n",
       "  'Investors': 'Vostok Emerging Finance, Quona Capital, QED Investors, Kaszek Ventures, Jaguar VenturesTagline A new financial service experience for SMEs.Located  MexicoYear Founded  2013Key People  David AranaFrancisco PadillaWebsite  konfio.mx'},\n",
       " {'Name': 'Key People  ',\n",
       "  'Description': 'Operated by fintech company FinAccel, Kredivo functions like a digital credit card, enabling consumers without a credit card to shop online on credit and pay later in instalments.  Kredivo has built a modern API to let retailers give their customers innovative financing options. They now have over half a million approved users, have credit scored nearly two million e-commerce consumers, and is available at over 200 merchants.',\n",
       "  'Year': '2016',\n",
       "  'Location': 'Indonesia',\n",
       "  'Website': 'kredivo.com',\n",
       "  'Category': 'Payments',\n",
       "  'Ownership': 'Private',\n",
       "  'Keypeople': 'Akshay Garg',\n",
       "  'Investors': 'SquarePeg Capital, Openspace Ventures, MDI Ventures, Jungle Ventures, GMO Venture PartnersTagline Buy Now, Pay Later Located  IndonesiaYear Founded  2016Key People  Akshay GargWebsite  kredivo.com'},\n",
       " {'Name': 'Key People  ',\n",
       "  'Description': 'KyberNetwork is a new system which allows the exchange and conversion of digital assets. The system provides rich payment APIs and a new contract wallet that allow anyone to seamlessly receive payments from any token. Users can also mitigate the risks of price fluctuations in the cryptocurrency world with their derivative trading. Kyber’s on-chain liquidity protocol allows decentralized token swaps to be integrated into any application, enabling value exchange to be performed seamlessly between all parties in the ecosystem. ',\n",
       "  'Year': '2017',\n",
       "  'Location': 'Singapore',\n",
       "  'Website': 'kyber.network',\n",
       "  'Category': 'Payments',\n",
       "  'Ownership': 'Private',\n",
       "  'Keypeople': None,\n",
       "  'Investors': 'ICO, 8 Decimal CapitalWebsite  kyber.network'},\n",
       " {'Name': 'Key People  ',\n",
       "  'Description': 'Liwwa Inc is the first peer-to-peer lending platform in the MENA region, connecting small and medium businesses who need capital with fixed-income investors. The company’s peer-to-peer lease-to-own model addresses the capital access and interest-free investor return opportunities. Liwwa conducts in-house reviews of a small business’s creditability and enables them to pay a monthly fee to investors.\\xa0Since 2015, Liwwa has enabled businesses to raise more than US$8M through over 220 loans.',\n",
       "  'Year': '2013',\n",
       "  'Location': 'Jordan',\n",
       "  'Website': 'liwwa.com',\n",
       "  'Category': 'Wealth',\n",
       "  'Ownership': 'Private',\n",
       "  'Keypeople': 'Ahmed Moor,Samer Atiani',\n",
       "  'Investors': 'Silicon Badia, FMO,\\xa0DASH VenturesTagline Lend to Small BusinessesLocated  JordanYear Founded  2013Key People  Ahmed MoorSamer AtianiWebsite  liwwa.com'},\n",
       " {'Name': 'Key People  ',\n",
       "  'Description': None,\n",
       "  'Year': '2016',\n",
       "  'Location': 'Australia',\n",
       "  'Website': 'lookwhoscharging.com.au',\n",
       "  'Category': 'Other',\n",
       "  'Ownership': 'Private',\n",
       "  'Keypeople': None,\n",
       "  'Investors': None},\n",
       " {'Name': 'Key People  ',\n",
       "  'Description': 'Tagline Mobile MoneyLocated  VietnamYear Founded  2013Key People  Pham Thanh DucWebsite  www.momo.vnCategory  PaymentsOwnership  PrivateStaff👤  👤  👤  👤  👤 Company DescriptionMomo offers a mobile, electronic wallet and payment application for iOS and Android devices. Its products help customers in Vietnam make nationwide cash transfers, pay more than 100 types of bills, recharge mobile phone accounts, settle personal loans, and purchase services such as software license and online game cards, airline and movie tickets, etc. The company’s payment system partners with 24 domestic banks and foreign payment networks, including JCB, MasterCard, and Visa. They are both the largest and the fastest-growing of Vietnams’s payment providers with over 8 million customers and a growth rate of 15% in monthly transaction volume and user base.',\n",
       "  'Year': '2013',\n",
       "  'Location': 'Vietnam',\n",
       "  'Website': 'www.momo.vn',\n",
       "  'Category': 'Payments',\n",
       "  'Ownership': 'Private',\n",
       "  'Keypeople': 'Pham Thanh Duc',\n",
       "  'Investors': None},\n",
       " {'Name': 'Key People  ',\n",
       "  'Description': 'Tagline Advice about money from an expert on-demand.Located  AustraliaYear Founded  2015Key People  Joel RobbieWebsite  nod.moneyCategory  OtherOwnership  PrivateStaff👤  👤  👤  👤  👤 Nod is a natural language artificial intelligence platform helping busineses in the financial advice and accounting industries to transform how they serve clients. Their software platform makes it easy for clients to connect with their advisers from wherever they are, and produces compliant documents for financial advisers and accountants in real-time to help them get advice to their clients as efficiently as possible, delighting them along the way.  Nod has also built some innovative adviser-side technology including an automated fact-find process and an AI engine that produces compliant statement of advice documents.',\n",
       "  'Year': '2015',\n",
       "  'Location': 'Australia',\n",
       "  'Website': 'nod.money',\n",
       "  'Category': 'Other',\n",
       "  'Ownership': 'Private',\n",
       "  'Keypeople': 'Joel Robbie',\n",
       "  'Investors': None},\n",
       " {'Name': 'Key People  ',\n",
       "  'Description': 'Omise is Thailand’s leading online payment enabler offering a wide range of processing solutions for any business need.\\xa0Being the only PCI 3.0 compliant startup in Thailand, allows Omise to tokenize cards for one-click payments and ongoing subscriptions bringing greater simplicity and ease to the existing process, which can be convoluted and frustrating. They offer a set of APIs and developer resources that can allow new merchants to be online and accepting payment within 24 hours.',\n",
       "  'Year': '2013',\n",
       "  'Location': 'Thailand',\n",
       "  'Website': 'www.omise.co',\n",
       "  'Category': 'Payments',\n",
       "  'Ownership': 'Private',\n",
       "  'Keypeople': 'Ezra Don Harinsut,Jun Hasegawa',\n",
       "  'Investors': 'ICO, SBI Asset Management, SMDV, SBI Asset Management, Golden Gate Ventures, Ascend Venture GroupTagline Payment Gateway for AsiaLocated  ThailandYear Founded  2013Key People  Ezra Don HarinsutJun HasegawaWebsite  www.omise.co'},\n",
       " {'Name': 'Key People  ',\n",
       "  'Description': 'Tagline A simple app for bill paymentLocated  NorwayYear Founded  2016Key People  Espen GrimstadWebsite  payr.noCategory  PaymentsOwnership  PrivateStaff👤  👤  👤  👤  👤 Payr is building innovative banking sevices for consumers and businesses. Their first product is a payment service making it easier to pay bills for people in the Nordics.  Their next generation payment platform empowers consumers to pay invoices in flexible and smart ways. Customers can pay any invoice using bank account, debit or credit card or digital wallets, saving them time and money. Payr also improves invoice payments by providing truly independent price and quality comparison, enabling simpler and fast switching to providers that offer greater value to their customers. To service providers we greatly reduce the cost per acquisition on customer referrals. To invoice issuers we eliminate the invoicing costs.',\n",
       "  'Year': '2016',\n",
       "  'Location': 'Norway',\n",
       "  'Website': 'payr.no',\n",
       "  'Category': 'Payments',\n",
       "  'Ownership': 'Private',\n",
       "  'Keypeople': 'Espen Grimstad',\n",
       "  'Investors': None},\n",
       " {'Name': 'Key People  ',\n",
       "  'Description': 'PaySense is a consumer lending platform that gives users credit in a customised manner. PaySense EMI, their personalised line of credit, is similar to a personal loan and can be used to make instant purchases, whether online or offline, through affordable EMI plans. The upper limit of credit disbursed is Rs 2 lakh, which will soon be increased to rs 5 lakh.',\n",
       "  'Year': '2015',\n",
       "  'Location': 'India',\n",
       "  'Website': 'gopaysense.com',\n",
       "  'Category': 'Lending',\n",
       "  'Ownership': 'Private',\n",
       "  'Keypeople': None,\n",
       "  'Investors': 'PayU, Nexus Venture Partners, Jungle VenturesWebsite  gopaysense.com'},\n",
       " {'Name': 'Key People  ',\n",
       "  'Description': 'PayTabs has established itself as a leading global payments provider. An innovative economy payment processing and fraud prevention company built to provide buyers and sellers an advanced technology to pay and get paid. It’s focus is on assisting small and medium businesses to make simple and secure transactions online. ',\n",
       "  'Year': '2014',\n",
       "  'Location': 'Bahrain',\n",
       "  'Website': 'paytabs.com',\n",
       "  'Category': 'Payments',\n",
       "  'Ownership': 'Private',\n",
       "  'Keypeople': 'Abdulaziz Fahad Al Jouf',\n",
       "  'Investors': 'Saudi Aramco Entrepreneurship VenturesTagline Accept Payments OnlineLocated  BahrainYear Founded  2014Key People  Abdulaziz Fahad Al JoufWebsite  paytabs.com'},\n",
       " {'Name': 'Key People  ',\n",
       "  'Description': 'Pleo offers a simple, seamless spending solution for employees. Admins can easily delegate payment cards to their employees while being able to set individual limits on each card. Employees can capture receipts on the fly using their phone, then software matches receipts with expenses automatically. The entire company’s spending can be tracked in real time and all expenses can easily be synced with the company’s accounting software.  With over 1500 companies having adopted Pleo they will soon expand their services from the UK and Denmark into other European countries. Tagline Say goodbye to expense reportsLocated  DenmarkYear Founded  2015Key People  Jeppe RindomNiccolo PerraWebsite  pleo.ioCategory  PaymentsOwnership  PrivateStaff👤  👤  👤  👤  👤 ',\n",
       "  'Year': '2015',\n",
       "  'Location': 'Denmark',\n",
       "  'Website': 'pleo.io',\n",
       "  'Category': 'Payments',\n",
       "  'Ownership': 'Private',\n",
       "  'Keypeople': 'Jeppe Rindom,Niccolo Perra',\n",
       "  'Investors': None},\n",
       " {'Name': 'Key People  ',\n",
       "  'Description': 'Polymath Network (Polymath) is a decentralized protocol that makes it easier to raise capital and create security tokens. The Polymath ST-20 standard embeds regulatory requirements into the tokens themselves, restricting trading to verified participants only. The protocol simplifies the complex technical challenges of creating a security token and aims to bring the multi-trillion dollar financial securities market to the blockchain.Tagline The Future of SecuritiesLocated  BarbadosYear Founded  2017Key People  Chris HousserTrevor KoverkoWebsite  polymath.networkCategory  PaymentsOwnership  PrivateStaff👤  👤  👤  👤  👤 ',\n",
       "  'Year': '2017',\n",
       "  'Location': 'Barbados',\n",
       "  'Website': 'polymath.network',\n",
       "  'Category': 'Payments',\n",
       "  'Ownership': 'Private',\n",
       "  'Keypeople': 'Chris Housser,Trevor Koverko',\n",
       "  'Investors': None},\n",
       " {'Name': 'Key People  ',\n",
       "  'Description': '+Simple is an insurance Robo-Broker for freelancers, small and medium businesses. Answer 5-10 questions and their technology will generate a tailor-made and competitive insurance package which can include 5-10 products in one single policy. Customers can sign and pay for their policies within minutes on a seamless e-commerce interface. +Simple also manages their clients claims.',\n",
       "  'Year': '2015',\n",
       "  'Location': 'France',\n",
       "  'Website': 'plussimple.fr',\n",
       "  'Category': 'Insurance',\n",
       "  'Ownership': 'Private',\n",
       "  'Keypeople': None,\n",
       "  'Investors': 'Idinvest Partners,\\xa0OneRagtime, Anthemis GroupWebsite  plussimple.fr'},\n",
       " {'Name': 'Key People  ',\n",
       "  'Description': 'The Power Ledger is bringing P2P solar energy trading blockchain technology to the world. Their platform allows renewable energy asset owners to decide who they want to sell their surplus energy to and at what price. Using blockchain technology they provide a transparent, auditable and automated market trading and clearing mechanism for the benefit of producers and consumers. Their technology enables the sale of surplus renewable energy generated at residential and commercial developments (including multi-unit/multi-tenanted) and at homes and businesses connected to existing electricity distribution networks, or within micro-grids. ',\n",
       "  'Year': '2016',\n",
       "  'Location': 'Australia',\n",
       "  'Website': 'powerledger.io',\n",
       "  'Category': 'Payments',\n",
       "  'Ownership': 'Private',\n",
       "  'Keypeople': None,\n",
       "  'Investors': 'Last round of funding via an ICOWebsite  powerledger.io'},\n",
       " {'Name': 'Key People  ',\n",
       "  'Description': 'Pundi X empowers blockchain developers and token holders to transact cryptocurrency and services at any physical store in the world.The world’s first comprehensive offline cryptocurrency sales solutions, Pundi X aims to become cryptocurrencey’s largest offline sales network.',\n",
       "  'Year': '2017',\n",
       "  'Location': 'Indonesia',\n",
       "  'Website': 'pundix.com',\n",
       "  'Category': 'Payments',\n",
       "  'Ownership': 'Private',\n",
       "  'Keypeople': None,\n",
       "  'Investors': 'Last round of funding via an ICOWebsite  pundix.com'},\n",
       " {'Name': 'Key People  ',\n",
       "  'Description': 'Quantexa enables companies and institutions to make better decisions from their data. Their revolutionary technology is based on the latest developments in big data software and uses real-time entity resolution with network analytics and AI to knit together vast and disparate data sets and derive actionable intelligence.It is led by a team of experts with a collective experience of over a century in advanced analytics and data focused solutions.',\n",
       "  'Year': '2016',\n",
       "  'Location': 'United Kingdom',\n",
       "  'Website': 'quantexa.com',\n",
       "  'Category': 'Other',\n",
       "  'Ownership': 'Private',\n",
       "  'Keypeople': 'Vishal Marria,Imam Hoque',\n",
       "  'Investors': 'Dawn Capital,\\xa0HSBC, Albion Capital GroupTagline Connecting data. Empowering decisions.Located  United KingdomYear Founded  2016Key People  Vishal MarriaImam HoqueWebsite  quantexa.com'},\n",
       " {'Name': 'Key People  ',\n",
       "  'Description': None,\n",
       "  'Year': '2012',\n",
       "  'Location': 'United Kingdom',\n",
       "  'Website': 'recordsure.com',\n",
       "  'Category': 'Other',\n",
       "  'Ownership': 'Private',\n",
       "  'Keypeople': 'Joanne Smith',\n",
       "  'Investors': None},\n",
       " {'Name': 'Key People  ',\n",
       "  'Description': 'Ripio, formerly known as Bitpagos, is a financial payments company that provides electronic payment solutions for businesses in Latin America. It offers a range of financial services for the emerging markets using the blockchain technology to make a more accessible financial system. The company helps merchants process international transactions with credit cards or bitcoins for a fraction of the cost, as well as helping consumers buy bitcoins instantly with cash. In 2016 it launched Ripio Credit Network, a now global peer-to-peer credit network based on co-signed smart contracts and blockchain technology.',\n",
       "  'Year': '2013',\n",
       "  'Location': 'Argentina',\n",
       "  'Website': 'ripiocredit.network',\n",
       "  'Category': 'Payments',\n",
       "  'Ownership': 'Private',\n",
       "  'Keypeople': 'Luciana Gruszeczka,Mugur Marculescu,Sebastian Serrano',\n",
       "  'Investors': 'ICO, Digital Finance Group, Fenbushi Capital, Draper Associates, Boost VCTagline Buy bitcoins easily.Located  ArgentinaYear Founded  2013Key People  Luciana GruszeczkaMugur MarculescuSebastian SerranoWebsite  ripiocredit.network'},\n",
       " {'Name': 'Key People  ',\n",
       "  'Description': None,\n",
       "  'Year': '2014',\n",
       "  'Location': 'France',\n",
       "  'Website': 'shift-technology.com',\n",
       "  'Category': 'Other',\n",
       "  'Ownership': 'Private',\n",
       "  'Keypeople': 'David Durrleman,Eric Sibony,Jeremy Jawish',\n",
       "  'Investors': 'General Catalyst, Accel, Iris Capital, Elaia PartnersAt a GlanceTagline Fight fraud with AILocated  FranceYear Founded  2014Key People  David DurrlemanEric SibonyJeremy JawishWebsite  shift-technology.com'},\n",
       " {'Name': 'Key People  ',\n",
       "  'Description': 'Singapore Life is an independent life insurance company and is the first local independent insurer to be licensed by the Monetary Authority of Singapore since 1970. Singapore Life features robust digital robo-underwriting and identity verification capabilities that dynamically expedite the application and approval process.\\xa0The purchase journey is intuitive and secure, can be done without assitance.',\n",
       "  'Year': '2014',\n",
       "  'Location': 'Singapore',\n",
       "  'Website': 'singlife.com',\n",
       "  'Category': 'Insurance',\n",
       "  'Ownership': 'Private',\n",
       "  'Keypeople': 'Walter de Oude,Ray Ferguson',\n",
       "  'Investors': 'Impact Capital Holdings, IPGL, Caber PartnersTagline Good value life insurance that you actually needLocated  SingaporeYear Founded  2014Key People  Walter de OudeRay FergusonWebsite  singlife.com'},\n",
       " {'Name': 'Key People  ',\n",
       "  'Description': 'Tagline Giving credit where it’s dueLocated  United StatesYear Founded  2011Key People  Shivani SiroyaWebsite  tala.coCategory  OtherOwnership  PrivateStaff👤  👤  👤  👤  👤 Tala provides a credit scoring and reporting platform to financial services institutions in emerging countries. Traditional credit doesn’t work in emerging markets; mobile does. Tala’s technologies are unlocking trillions of dollars in purchasing power in the world’s fastest growing economies. Through their mobile app and unique channel, they gather an average of 10,000 discrete data points per user to provide personalized offers and deliver real-time credit. Tala has now delivered over 6 million loans to nearly 1.3 million customers totalling more than $300 million.',\n",
       "  'Year': '2011',\n",
       "  'Location': 'United States',\n",
       "  'Website': 'tala.co',\n",
       "  'Category': 'Other',\n",
       "  'Ownership': 'Private',\n",
       "  'Keypeople': 'Shivani Siroya',\n",
       "  'Investors': None},\n",
       " {'Name': 'Key People  ',\n",
       "  'Description': 'Tagline Overcome credit card debtLocated  United StatesYear Founded  2015Key People  Jason BrownJasper PlatzWebsite  meettally.comCategory  PaymentsOwnership  PrivateStaff👤  👤  👤  👤  👤 Tally wants to automate their customers financial lives, starting with credit cards. It is the first app to unbundle the credit card, putting power back into the hands of consumers. Tally analyses users’ financial profiles to determine a way to pay down a consumer’s credit card debt and then takes action based on this information. Tally also has its own underwriting and financing\\xa0models, which allow it to pass on savings. Earlier this year\\xa0the company launched Tally Advisor its first in-app, robo-advisor enterprise. The feature helps users come up with a specific date for when they will be debt-free and adjusts if and when users encounter financial setbacks or have increased cash flow.',\n",
       "  'Year': '2015',\n",
       "  'Location': 'United States',\n",
       "  'Website': 'meettally.com',\n",
       "  'Category': 'Payments',\n",
       "  'Ownership': 'Private',\n",
       "  'Keypeople': 'Jason Brown,Jasper Platz',\n",
       "  'Investors': None},\n",
       " {'Name': 'Key People  ',\n",
       "  'Description': 'TenX aims to let you send and spend crypto money anywhere, anytime. Their cryptocurrency payment platform achieves this via the TenX mobile wallet, debit card bank account, ATM access and more. The wallet can be loaded with a variety of different cryptocurrencies, including Bitcoin, Ethereum and Dash. Available as an Android, iOS, and web app, the wallet supports TenX’s principle of always-on user access. The company allows users to spend at over 42 million points of acceptance online and offline, in almost 200 countries around the world.',\n",
       "  'Year': '2015',\n",
       "  'Location': 'Singapore',\n",
       "  'Website': 'tenx.tech',\n",
       "  'Category': 'Payments',\n",
       "  'Ownership': 'Private',\n",
       "  'Keypeople': None,\n",
       "  'Investors': 'ICO, Chain CapitalWebsite  tenx.tech'},\n",
       " {'Name': 'Key People  ',\n",
       "  'Description': None,\n",
       "  'Year': '2013',\n",
       "  'Location': 'South Africa',\n",
       "  'Website': 'thisisme.com',\n",
       "  'Category': 'Other',\n",
       "  'Ownership': 'Private',\n",
       "  'Keypeople': 'David Thomas,Juan Furmie,Nadeem Shahid',\n",
       "  'Investors': None},\n",
       " {'Name': 'Key People  ',\n",
       "  'Description': 'Tide is the UK’s only mobile-first banking service exclusively targeting small and medium enterprise customers. Tide’s unique selling point is that it provides a less expensive and faster service to smaller businesses who lack the staffing to run the accounting and admin sides of their busineseses efficiently. Since launching in 2017, Tide has acquired nearly 40,000 small business customers and surpassed 1B pounds of transactions in March of this year.',\n",
       "  'Year': '2015',\n",
       "  'Location': 'United Kingdom',\n",
       "  'Website': 'tide.co',\n",
       "  'Category': 'Wealth',\n",
       "  'Ownership': 'Private',\n",
       "  'Keypeople': 'George Bevis',\n",
       "  'Investors': 'Augmentum Fintech, Passion Capital, Creandum,\\xa0Anthemis Group, LocalGlobeTagline Business banking re-designed.Located  United KingdomYear Founded  2015Key People  George BevisWebsite  tide.co'},\n",
       " {'Name': 'Key People  ',\n",
       "  'Description': 'Tagline Get ready to invest for real.Located  ChinaYear Founded  2014Key People  Wu TianhuaWebsite  itiger.comCategory  WealthOwnership  PrivateStaff👤  👤  👤  👤  👤 Tiger Brokers is an online brokerage that allows Chinese investors at home and abroad, to trade stocks in the U.S, Hong Kong and mainland China market via the stock connect scheme between Hong Kong and mainland stock exchanges. It offers lower financing costs and commission fees to attract investors. It also has an online community for investors to share information and trading experience.  33 months after its launch, the accumulated trading volume of its mobile app reached $150 billion. Earlier this year the company became an official strategic partner of NASDAQ data to distribute its US stock market data to the Chinese online world. ',\n",
       "  'Year': '2014',\n",
       "  'Location': 'China',\n",
       "  'Website': 'itiger.com',\n",
       "  'Category': 'Wealth',\n",
       "  'Ownership': 'Private',\n",
       "  'Keypeople': 'Wu Tianhua',\n",
       "  'Investors': None},\n",
       " {'Name': 'Key People  ',\n",
       "  'Description': 'Tpaga is a mobile wallet for the unbanked. It allows consumers in Latin America to store money via cash kiosk and then use it to pay for utility bills, cell phone top-ups, groceries and even gas station merchants.Earlier this year they became the first mobile wallet in Latin America to allow consumers to pay for groceries without having a bank account, and now allow unbanked businesses to start receiving payment without a POS system.',\n",
       "  'Year': '2015',\n",
       "  'Location': 'Colombia',\n",
       "  'Website': 'tpaga.co',\n",
       "  'Category': 'Payments',\n",
       "  'Ownership': 'Private',\n",
       "  'Keypeople': None,\n",
       "  'Investors': 'Y Combinator, Toro Ventures, Hack VC, Greyhound Capital, Green Visor CapitalWebsite  tpaga.co'},\n",
       " {'Name': 'Key People  ',\n",
       "  'Description': None,\n",
       "  'Year': '2016',\n",
       "  'Location': 'Australia',\n",
       "  'Website': 'tradeledger.io',\n",
       "  'Category': 'Lending',\n",
       "  'Ownership': 'Private',\n",
       "  'Keypeople': 'Martin McCann,Matthias Born',\n",
       "  'Investors': None},\n",
       " {'Name': 'Key People  ',\n",
       "  'Description': 'Varo Money, is a financial technology company and mobile banking business that helps customers cover their expenses, pay their bills, and build their wealth over time.\\xa0Working with Bancorp Bank, the company offers FDIC-insured bank accounts with no monthly maintenance fees and no ATM withdrawal fees for money withdrawn at more than 55,000 Allpoint ATMs. In September of this year the company announced that is had been granted a preliminary approval of its application for a national bank charter by the Office of the Controller of the Currency which would make it the first all-mobile national bank in the US, pending the OCC’s final approval.',\n",
       "  'Year': '2015',\n",
       "  'Location': 'United States',\n",
       "  'Website': 'varomoney.com',\n",
       "  'Category': 'Neo-Bank',\n",
       "  'Ownership': 'Private',\n",
       "  'Keypeople': 'Colin Walsh,Kolya Klymenko',\n",
       "  'Investors': 'Warburg Pincus, The Rise Fund, Manatt Venture FundTagline Fee Free, the Only Way to BankLocated  United StatesYear Founded  2015Key People  Colin WalshKolya KlymenkoWebsite  varomoney.com'},\n",
       " {'Name': 'Key People  ',\n",
       "  'Description': 'Wallet.ng is a digital wallet/payments product that allows users to make payments, transfer funds, pay bills and withdraw from ATMs - all using their phone number. With over 5,000 users they are primarily targeting students, entrepreneurs, young professionals and expats.Last month alone they processed\\xa0N234 million across just 17,000 transactions and have seen an average of 78% month-on-month growth in transaction volume and value since January 2018.',\n",
       "  'Year': '2016',\n",
       "  'Location': 'Nigeria',\n",
       "  'Website': 'wallet.ng',\n",
       "  'Category': 'Wealth',\n",
       "  'Ownership': 'Private',\n",
       "  'Keypeople': 'John Oke',\n",
       "  'Investors': 'MicrotractionTagline Send Money, Receive Money and make payments using a phone numberLocated  NigeriaYear Founded  2016Key People  John OkeWebsite  wallet.ng'},\n",
       " {'Name': 'Key People  ',\n",
       "  'Description': 'Wave Money, a joint venture between Telenor, FMI, Yoma Bank and Singapore Exchange list Yoma Strategic Holdings and operates as a mobile financial services provider. Wave Money is a financial service platform targeting the unbanked population in Myanmar. It is the first company to be regulated under the Mobile Financial Services Regulation and to secure a licence from the Central Bank of Myanmar.Tagline Easy and instant money transferLocated  MyanmarYear Founded  2015Key People  Brad JonesWebsite  wavemoney.com.mmCategory  PaymentsOwnership  PrivateStaff👤  👤  👤  👤  👤 ',\n",
       "  'Year': '2015',\n",
       "  'Location': 'Myanmar',\n",
       "  'Website': 'wavemoney.com.mm',\n",
       "  'Category': 'Payments',\n",
       "  'Ownership': 'Private',\n",
       "  'Keypeople': 'Brad Jones',\n",
       "  'Investors': None},\n",
       " {'Name': 'Key People  ',\n",
       "  'Description': None,\n",
       "  'Year': '2014',\n",
       "  'Location': 'China',\n",
       "  'Website': 'webank.com',\n",
       "  'Category': 'Neo-Bank',\n",
       "  'Ownership': 'Private',\n",
       "  'Keypeople': 'Gu Min,Gary Fang,Li Nanqing',\n",
       "  'Investors': 'Tencent HoldingsAt a GlanceTagline TenCent’s bankLocated  ChinaYear Founded  2014Key People  Gu MinGary FangLi NanqingWebsite  webank.com'}]"
      ]
     },
     "execution_count": 73,
     "metadata": {},
     "output_type": "execute_result"
    }
   ],
   "source": [
    "Company100Information"
   ]
  },
  {
   "cell_type": "code",
   "execution_count": 79,
   "metadata": {},
   "outputs": [],
   "source": [
    "import json"
   ]
  },
  {
   "cell_type": "code",
   "execution_count": 90,
   "metadata": {},
   "outputs": [],
   "source": [
    "with open('Company100Information.json', 'w') as f:\n",
    "        json.dump(Company100Information, f, indent=4)"
   ]
  },
  {
   "cell_type": "code",
   "execution_count": 91,
   "metadata": {},
   "outputs": [],
   "source": [
    "!start Company100Information.json"
   ]
  },
  {
   "cell_type": "markdown",
   "metadata": {},
   "source": [
    "## test"
   ]
  },
  {
   "cell_type": "code",
   "execution_count": 2,
   "metadata": {},
   "outputs": [],
   "source": [
    "import minecart"
   ]
  },
  {
   "cell_type": "code",
   "execution_count": 67,
   "metadata": {},
   "outputs": [],
   "source": [
    "# minecart units are 1/72 inch, measured from bottom-left of the page\n",
    "ROW_BORDERS = (\n",
    " 72 * 0, # Bottom row starts 1 inch from the bottom of the page\n",
    " 72 * 6.5, # Second row starts 3 inches from the bottom of the page\n",
    " 72 * 11.125, # Third row starts 5 inches from the bottom of the page\n",
    " #72 * 7, # Third row ends 7 inches from the bottom of the page\n",
    ")\n",
    "COLUMN_BORDERS = (\n",
    " 72 * 0, # Third col ends 8 inches from the left of the page\n",
    " 72 * 4, # Third col starts 6 inches from the left of the page\n",
    " 72 * 8, # Second col starts 4 inches from the left of the page \n",
    " #72 * 2, # First col starts 2 inches from the left of the page\n",
    ") # reversed so that BOXES is ordered properly\n",
    "BOXES = [\n",
    " (left, bot, right, top)\n",
    " for top, bot in zip(ROW_BORDERS, ROW_BORDERS[1:])\n",
    " for left, right in zip(COLUMN_BORDERS, COLUMN_BORDERS[1:])\n",
    "]"
   ]
  },
  {
   "cell_type": "code",
   "execution_count": 68,
   "metadata": {},
   "outputs": [
    {
     "data": {
      "text/plain": [
       "[(0, 468.0, 288, 0),\n",
       " (288, 468.0, 576, 0),\n",
       " (0, 801.0, 288, 468.0),\n",
       " (288, 801.0, 576, 468.0)]"
      ]
     },
     "execution_count": 68,
     "metadata": {},
     "output_type": "execute_result"
    }
   ],
   "source": [
    "BOXES"
   ]
  },
  {
   "cell_type": "code",
   "execution_count": 192,
   "metadata": {},
   "outputs": [],
   "source": [
    "?minecart.Document.get_page"
   ]
  },
  {
   "cell_type": "code",
   "execution_count": 70,
   "metadata": {},
   "outputs": [],
   "source": [
    "def extract_output(page):\n",
    "    \"\"\"\n",
    "     Reads the text from page and splits it into the 9 cells.\n",
    "     Returns a list with 9 entries: \n",
    "     [A, B, C, D, E, F, G, H, I]\n",
    "     Each item in the tuple contains a string with all of the\n",
    "     text found in the cell.\n",
    "    \"\"\"\n",
    "    res = []\n",
    "    for box in BOXES:\n",
    "        strings = list(page.letterings.iter_in_bbox(box))\n",
    "     # We sort from top-to-bottom and then from left-to-right, based\n",
    "     # on the strings' top left corner\n",
    "        strings.sort(key=lambda x: (-x.bbox[2], x.bbox[0]))\n",
    "        res.append(\"\".join(strings).replace(u\"xa0\",\"\").strip())\n",
    "    \n",
    "    return res"
   ]
  },
  {
   "cell_type": "code",
   "execution_count": 196,
   "metadata": {},
   "outputs": [
    {
     "data": {
      "text/plain": [
       "'Company DescriptionJD Finance began operating as an independent company in October 2013. Positioned as a digital technology company serving financial institutions, JD Finance is dedicated to providing digital, online and offline all-scenario servicesaround three key points - data, user and connectivity, by means of such emerging technologies as big data, AI, cloud computing, blockchain and IoT. By so doing, it is aimed to empower financial institutions to improve efficiency, reduce costs and increase income in the core value sections like scenario expansion, customer acquisition, operation, risk control, and R&D, and propel the industry to comprehensively stride into the digital finance era.  Notable investors:CICC, BOCGI ,China Securities, CITIC Capital, Sequoia Capital China, China Harvest Investments and China Taiping Insurance.'"
      ]
     },
     "execution_count": 196,
     "metadata": {},
     "output_type": "execute_result"
    }
   ],
   "source": [
    "a"
   ]
  },
  {
   "cell_type": "code",
   "execution_count": 7,
   "metadata": {
    "scrolled": true
   },
   "outputs": [
    {
     "ename": "KeyError",
     "evalue": "'DeviceN'",
     "output_type": "error",
     "traceback": [
      "\u001b[1;31m---------------------------------------------------------------------------\u001b[0m",
      "\u001b[1;31mKeyError\u001b[0m                                  Traceback (most recent call last)",
      "\u001b[1;32m<ipython-input-7-d9db516a96d4>\u001b[0m in \u001b[0;36m<module>\u001b[1;34m\u001b[0m\n\u001b[0;32m      5\u001b[0m \u001b[1;33m\u001b[0m\u001b[0m\n\u001b[0;32m      6\u001b[0m \u001b[0ma\u001b[0m \u001b[1;33m=\u001b[0m \u001b[1;34m\"\"\u001b[0m\u001b[1;33m\u001b[0m\u001b[1;33m\u001b[0m\u001b[0m\n\u001b[1;32m----> 7\u001b[1;33m \u001b[1;32mfor\u001b[0m \u001b[0mi\u001b[0m \u001b[1;32min\u001b[0m \u001b[0mdoc\u001b[0m\u001b[1;33m.\u001b[0m\u001b[0mget_page\u001b[0m\u001b[1;33m(\u001b[0m\u001b[1;36m0\u001b[0m\u001b[1;33m)\u001b[0m\u001b[1;33m.\u001b[0m\u001b[0mletterings\u001b[0m\u001b[1;33m.\u001b[0m\u001b[0miter_in_bbox\u001b[0m\u001b[1;33m(\u001b[0m\u001b[1;33m(\u001b[0m\u001b[1;36m30\u001b[0m\u001b[1;33m,\u001b[0m \u001b[1;36m30\u001b[0m\u001b[1;33m,\u001b[0m \u001b[1;36m300\u001b[0m\u001b[1;33m,\u001b[0m \u001b[1;36m376\u001b[0m\u001b[1;33m)\u001b[0m\u001b[1;33m)\u001b[0m\u001b[1;33m:\u001b[0m\u001b[1;33m\u001b[0m\u001b[1;33m\u001b[0m\u001b[0m\n\u001b[0m\u001b[0;32m      8\u001b[0m     \u001b[0ma\u001b[0m \u001b[1;33m=\u001b[0m \u001b[0ma\u001b[0m \u001b[1;33m+\u001b[0m \u001b[0mi\u001b[0m\u001b[1;33m\u001b[0m\u001b[1;33m\u001b[0m\u001b[0m\n\u001b[0;32m      9\u001b[0m \u001b[0mprint\u001b[0m\u001b[1;33m(\u001b[0m\u001b[0ma\u001b[0m\u001b[1;33m)\u001b[0m\u001b[1;33m\u001b[0m\u001b[1;33m\u001b[0m\u001b[0m\n",
      "\u001b[1;32mE:\\anaconda\\lib\\site-packages\\minecart\\miner.py\u001b[0m in \u001b[0;36mget_page\u001b[1;34m(self, num)\u001b[0m\n\u001b[0;32m    351\u001b[0m         \u001b[1;32mfor\u001b[0m \u001b[0mi\u001b[0m\u001b[1;33m,\u001b[0m \u001b[0mpage\u001b[0m \u001b[1;32min\u001b[0m \u001b[0menumerate\u001b[0m\u001b[1;33m(\u001b[0m\u001b[0mself\u001b[0m\u001b[1;33m.\u001b[0m\u001b[0mdoc\u001b[0m\u001b[1;33m.\u001b[0m\u001b[0mget_pages\u001b[0m\u001b[1;33m(\u001b[0m\u001b[1;33m)\u001b[0m\u001b[1;33m)\u001b[0m\u001b[1;33m:\u001b[0m\u001b[1;33m\u001b[0m\u001b[1;33m\u001b[0m\u001b[0m\n\u001b[0;32m    352\u001b[0m             \u001b[1;32mif\u001b[0m \u001b[0mi\u001b[0m \u001b[1;33m==\u001b[0m \u001b[0mnum\u001b[0m\u001b[1;33m:\u001b[0m\u001b[1;33m\u001b[0m\u001b[1;33m\u001b[0m\u001b[0m\n\u001b[1;32m--> 353\u001b[1;33m                 \u001b[0mself\u001b[0m\u001b[1;33m.\u001b[0m\u001b[0minterpreter\u001b[0m\u001b[1;33m.\u001b[0m\u001b[0mprocess_page\u001b[0m\u001b[1;33m(\u001b[0m\u001b[0mpage\u001b[0m\u001b[1;33m)\u001b[0m\u001b[1;33m\u001b[0m\u001b[1;33m\u001b[0m\u001b[0m\n\u001b[0m\u001b[0;32m    354\u001b[0m                 \u001b[1;32mreturn\u001b[0m \u001b[0mself\u001b[0m\u001b[1;33m.\u001b[0m\u001b[0mdevice\u001b[0m\u001b[1;33m.\u001b[0m\u001b[0mpage\u001b[0m\u001b[1;33m\u001b[0m\u001b[1;33m\u001b[0m\u001b[0m\n",
      "\u001b[1;32mE:\\anaconda\\lib\\site-packages\\pdfminer\\pdfinterp.py\u001b[0m in \u001b[0;36mprocess_page\u001b[1;34m(self, page)\u001b[0m\n\u001b[0;32m    640\u001b[0m             \u001b[0mctm\u001b[0m \u001b[1;33m=\u001b[0m \u001b[1;33m(\u001b[0m\u001b[1;36m1\u001b[0m\u001b[1;33m,\u001b[0m\u001b[1;36m0\u001b[0m\u001b[1;33m,\u001b[0m\u001b[1;36m0\u001b[0m\u001b[1;33m,\u001b[0m\u001b[1;36m1\u001b[0m\u001b[1;33m,\u001b[0m \u001b[1;33m-\u001b[0m\u001b[0mx0\u001b[0m\u001b[1;33m,\u001b[0m\u001b[1;33m-\u001b[0m\u001b[0my0\u001b[0m\u001b[1;33m)\u001b[0m\u001b[1;33m\u001b[0m\u001b[1;33m\u001b[0m\u001b[0m\n\u001b[0;32m    641\u001b[0m         \u001b[0mself\u001b[0m\u001b[1;33m.\u001b[0m\u001b[0mdevice\u001b[0m\u001b[1;33m.\u001b[0m\u001b[0mbegin_page\u001b[0m\u001b[1;33m(\u001b[0m\u001b[0mpage\u001b[0m\u001b[1;33m,\u001b[0m \u001b[0mctm\u001b[0m\u001b[1;33m)\u001b[0m\u001b[1;33m\u001b[0m\u001b[1;33m\u001b[0m\u001b[0m\n\u001b[1;32m--> 642\u001b[1;33m         \u001b[0mself\u001b[0m\u001b[1;33m.\u001b[0m\u001b[0mrender_contents\u001b[0m\u001b[1;33m(\u001b[0m\u001b[0mpage\u001b[0m\u001b[1;33m.\u001b[0m\u001b[0mresources\u001b[0m\u001b[1;33m,\u001b[0m \u001b[0mpage\u001b[0m\u001b[1;33m.\u001b[0m\u001b[0mcontents\u001b[0m\u001b[1;33m,\u001b[0m \u001b[0mctm\u001b[0m\u001b[1;33m=\u001b[0m\u001b[0mctm\u001b[0m\u001b[1;33m)\u001b[0m\u001b[1;33m\u001b[0m\u001b[1;33m\u001b[0m\u001b[0m\n\u001b[0m\u001b[0;32m    643\u001b[0m         \u001b[0mself\u001b[0m\u001b[1;33m.\u001b[0m\u001b[0mdevice\u001b[0m\u001b[1;33m.\u001b[0m\u001b[0mend_page\u001b[0m\u001b[1;33m(\u001b[0m\u001b[0mpage\u001b[0m\u001b[1;33m)\u001b[0m\u001b[1;33m\u001b[0m\u001b[1;33m\u001b[0m\u001b[0m\n\u001b[0;32m    644\u001b[0m \u001b[1;33m\u001b[0m\u001b[0m\n",
      "\u001b[1;32mE:\\anaconda\\lib\\site-packages\\pdfminer\\pdfinterp.py\u001b[0m in \u001b[0;36mrender_contents\u001b[1;34m(self, resources, streams, ctm)\u001b[0m\n\u001b[0;32m    648\u001b[0m     \u001b[1;32mdef\u001b[0m \u001b[0mrender_contents\u001b[0m\u001b[1;33m(\u001b[0m\u001b[0mself\u001b[0m\u001b[1;33m,\u001b[0m \u001b[0mresources\u001b[0m\u001b[1;33m,\u001b[0m \u001b[0mstreams\u001b[0m\u001b[1;33m,\u001b[0m \u001b[0mctm\u001b[0m\u001b[1;33m=\u001b[0m\u001b[0mMATRIX_IDENTITY\u001b[0m\u001b[1;33m)\u001b[0m\u001b[1;33m:\u001b[0m\u001b[1;33m\u001b[0m\u001b[1;33m\u001b[0m\u001b[0m\n\u001b[0;32m    649\u001b[0m         \u001b[0mlogger\u001b[0m\u001b[1;33m.\u001b[0m\u001b[0mdebug\u001b[0m\u001b[1;33m(\u001b[0m\u001b[1;34m'render_contents: resources=%r, streams=%r, ctm=%r'\u001b[0m\u001b[1;33m,\u001b[0m \u001b[0mresources\u001b[0m\u001b[1;33m,\u001b[0m \u001b[0mstreams\u001b[0m\u001b[1;33m,\u001b[0m \u001b[0mctm\u001b[0m\u001b[1;33m)\u001b[0m\u001b[1;33m\u001b[0m\u001b[1;33m\u001b[0m\u001b[0m\n\u001b[1;32m--> 650\u001b[1;33m         \u001b[0mself\u001b[0m\u001b[1;33m.\u001b[0m\u001b[0minit_resources\u001b[0m\u001b[1;33m(\u001b[0m\u001b[0mresources\u001b[0m\u001b[1;33m)\u001b[0m\u001b[1;33m\u001b[0m\u001b[1;33m\u001b[0m\u001b[0m\n\u001b[0m\u001b[0;32m    651\u001b[0m         \u001b[0mself\u001b[0m\u001b[1;33m.\u001b[0m\u001b[0minit_state\u001b[0m\u001b[1;33m(\u001b[0m\u001b[0mctm\u001b[0m\u001b[1;33m)\u001b[0m\u001b[1;33m\u001b[0m\u001b[1;33m\u001b[0m\u001b[0m\n\u001b[0;32m    652\u001b[0m         \u001b[0mself\u001b[0m\u001b[1;33m.\u001b[0m\u001b[0mexecute\u001b[0m\u001b[1;33m(\u001b[0m\u001b[0mlist_value\u001b[0m\u001b[1;33m(\u001b[0m\u001b[0mstreams\u001b[0m\u001b[1;33m)\u001b[0m\u001b[1;33m)\u001b[0m\u001b[1;33m\u001b[0m\u001b[1;33m\u001b[0m\u001b[0m\n",
      "\u001b[1;32mE:\\anaconda\\lib\\site-packages\\minecart\\miner.py\u001b[0m in \u001b[0;36minit_resources\u001b[1;34m(self, resources)\u001b[0m\n\u001b[0;32m    146\u001b[0m         \u001b[1;31m# entries in the csmap with this name with the original color spaces.\u001b[0m\u001b[1;33m\u001b[0m\u001b[1;33m\u001b[0m\u001b[1;33m\u001b[0m\u001b[0m\n\u001b[0;32m    147\u001b[0m         \u001b[1;32mfor\u001b[0m \u001b[0mcsname\u001b[0m\u001b[1;33m,\u001b[0m \u001b[0mspec\u001b[0m \u001b[1;32min\u001b[0m \u001b[0mpdfminer\u001b[0m\u001b[1;33m.\u001b[0m\u001b[0mpdftypes\u001b[0m\u001b[1;33m.\u001b[0m\u001b[0mdict_value\u001b[0m\u001b[1;33m(\u001b[0m\u001b[0mspaces\u001b[0m\u001b[1;33m)\u001b[0m\u001b[1;33m.\u001b[0m\u001b[0mitems\u001b[0m\u001b[1;33m(\u001b[0m\u001b[1;33m)\u001b[0m\u001b[1;33m:\u001b[0m\u001b[1;33m\u001b[0m\u001b[1;33m\u001b[0m\u001b[0m\n\u001b[1;32m--> 148\u001b[1;33m             \u001b[0mself\u001b[0m\u001b[1;33m.\u001b[0m\u001b[0mcsmap\u001b[0m\u001b[1;33m[\u001b[0m\u001b[0mcsname\u001b[0m\u001b[1;33m]\u001b[0m \u001b[1;33m=\u001b[0m \u001b[0mcolor\u001b[0m\u001b[1;33m.\u001b[0m\u001b[0mmake_color_space\u001b[0m\u001b[1;33m(\u001b[0m\u001b[0mspec\u001b[0m\u001b[1;33m)\u001b[0m\u001b[1;33m\u001b[0m\u001b[1;33m\u001b[0m\u001b[0m\n\u001b[0m\u001b[0;32m    149\u001b[0m         self.csmap.update(\n\u001b[0;32m    150\u001b[0m             \u001b[1;33m(\u001b[0m\u001b[0mname\u001b[0m\u001b[1;33m,\u001b[0m \u001b[0mcolor\u001b[0m\u001b[1;33m.\u001b[0m\u001b[0mFAMILIES\u001b[0m\u001b[1;33m[\u001b[0m\u001b[0mname\u001b[0m\u001b[1;33m]\u001b[0m\u001b[1;33m.\u001b[0m\u001b[0mmake_space\u001b[0m\u001b[1;33m(\u001b[0m\u001b[1;33m)\u001b[0m\u001b[1;33m)\u001b[0m\u001b[1;33m\u001b[0m\u001b[1;33m\u001b[0m\u001b[0m\n",
      "\u001b[1;32mE:\\anaconda\\lib\\site-packages\\minecart\\color.py\u001b[0m in \u001b[0;36mmake_color_space\u001b[1;34m(spec)\u001b[0m\n\u001b[0;32m    567\u001b[0m         \u001b[0mname\u001b[0m \u001b[1;33m=\u001b[0m \u001b[0mpdfminer\u001b[0m\u001b[1;33m.\u001b[0m\u001b[0mpsparser\u001b[0m\u001b[1;33m.\u001b[0m\u001b[0mliteral_name\u001b[0m\u001b[1;33m(\u001b[0m\u001b[0mspec\u001b[0m\u001b[1;33m)\u001b[0m\u001b[1;33m\u001b[0m\u001b[1;33m\u001b[0m\u001b[0m\n\u001b[0;32m    568\u001b[0m         \u001b[0mparams\u001b[0m \u001b[1;33m=\u001b[0m \u001b[1;33m[\u001b[0m\u001b[1;33m]\u001b[0m\u001b[1;33m\u001b[0m\u001b[1;33m\u001b[0m\u001b[0m\n\u001b[1;32m--> 569\u001b[1;33m     \u001b[1;32mreturn\u001b[0m \u001b[0mFAMILIES\u001b[0m\u001b[1;33m[\u001b[0m\u001b[0mname\u001b[0m\u001b[1;33m]\u001b[0m\u001b[1;33m.\u001b[0m\u001b[0mmake_space\u001b[0m\u001b[1;33m(\u001b[0m\u001b[0mparams\u001b[0m\u001b[1;33m)\u001b[0m\u001b[1;33m\u001b[0m\u001b[1;33m\u001b[0m\u001b[0m\n\u001b[0m",
      "\u001b[1;31mKeyError\u001b[0m: 'DeviceN'"
     ]
    }
   ],
   "source": [
    "doc = minecart.Document(open(\"Fintech100-12-111.pdf\", 'rb'))\n",
    "\n",
    "a = \"\"\n",
    "for i in doc.get_page(0).letterings.iter_in_bbox((30, 30, 300, 376)):\n",
    "    a = a + i\n",
    "print(a)\n",
    "\"\"\"\n",
    "for box in BOXES:\n",
    " strings = list(page.letterings.iter_in_bbox(box))\n",
    " # We sort from top-to-bottom and then from left-to-right, based\n",
    " # on the strings' top left corner\n",
    " strings.sort(key=lambda x: (-x.bbox[3], x.bbox[0]))\n",
    " res.append(\"\".join(strings).replace(u\"xa0\",\"\").strip())\n",
    "\"\"\"   "
   ]
  },
  {
   "cell_type": "code",
   "execution_count": 215,
   "metadata": {},
   "outputs": [
    {
     "ename": "AttributeError",
     "evalue": "'PDFGraphicState' object has no attribute 'fill_color'",
     "output_type": "error",
     "traceback": [
      "\u001b[1;31m---------------------------------------------------------------------------\u001b[0m",
      "\u001b[1;31mAttributeError\u001b[0m                            Traceback (most recent call last)",
      "\u001b[1;32m<ipython-input-215-a5e5f358e50f>\u001b[0m in \u001b[0;36m<module>\u001b[1;34m\u001b[0m\n\u001b[1;32m----> 1\u001b[1;33m \u001b[0mdoc\u001b[0m\u001b[1;33m.\u001b[0m\u001b[0mget_page\u001b[0m\u001b[1;33m(\u001b[0m\u001b[1;36m15\u001b[0m\u001b[1;33m)\u001b[0m\u001b[1;33m\u001b[0m\u001b[1;33m\u001b[0m\u001b[0m\n\u001b[0m",
      "\u001b[1;32mE:\\anaconda\\lib\\site-packages\\minecart\\miner.py\u001b[0m in \u001b[0;36mget_page\u001b[1;34m(self, num)\u001b[0m\n\u001b[0;32m    348\u001b[0m         \u001b[1;32mfor\u001b[0m \u001b[0mi\u001b[0m\u001b[1;33m,\u001b[0m \u001b[0mpage\u001b[0m \u001b[1;32min\u001b[0m \u001b[0menumerate\u001b[0m\u001b[1;33m(\u001b[0m\u001b[0mself\u001b[0m\u001b[1;33m.\u001b[0m\u001b[0mdoc\u001b[0m\u001b[1;33m.\u001b[0m\u001b[0mget_pages\u001b[0m\u001b[1;33m(\u001b[0m\u001b[1;33m)\u001b[0m\u001b[1;33m)\u001b[0m\u001b[1;33m:\u001b[0m\u001b[1;33m\u001b[0m\u001b[1;33m\u001b[0m\u001b[0m\n\u001b[0;32m    349\u001b[0m             \u001b[1;32mif\u001b[0m \u001b[0mi\u001b[0m \u001b[1;33m==\u001b[0m \u001b[0mnum\u001b[0m\u001b[1;33m:\u001b[0m\u001b[1;33m\u001b[0m\u001b[1;33m\u001b[0m\u001b[0m\n\u001b[1;32m--> 350\u001b[1;33m                 \u001b[0mself\u001b[0m\u001b[1;33m.\u001b[0m\u001b[0minterpreter\u001b[0m\u001b[1;33m.\u001b[0m\u001b[0mprocess_page\u001b[0m\u001b[1;33m(\u001b[0m\u001b[0mpage\u001b[0m\u001b[1;33m)\u001b[0m\u001b[1;33m\u001b[0m\u001b[1;33m\u001b[0m\u001b[0m\n\u001b[0m\u001b[0;32m    351\u001b[0m                 \u001b[1;32mreturn\u001b[0m \u001b[0mself\u001b[0m\u001b[1;33m.\u001b[0m\u001b[0mdevice\u001b[0m\u001b[1;33m.\u001b[0m\u001b[0mpage\u001b[0m\u001b[1;33m\u001b[0m\u001b[1;33m\u001b[0m\u001b[0m\n",
      "\u001b[1;32mE:\\anaconda\\lib\\site-packages\\pdfminer\\pdfinterp.py\u001b[0m in \u001b[0;36mprocess_page\u001b[1;34m(self, page)\u001b[0m\n\u001b[0;32m    640\u001b[0m             \u001b[0mctm\u001b[0m \u001b[1;33m=\u001b[0m \u001b[1;33m(\u001b[0m\u001b[1;36m1\u001b[0m\u001b[1;33m,\u001b[0m\u001b[1;36m0\u001b[0m\u001b[1;33m,\u001b[0m\u001b[1;36m0\u001b[0m\u001b[1;33m,\u001b[0m\u001b[1;36m1\u001b[0m\u001b[1;33m,\u001b[0m \u001b[1;33m-\u001b[0m\u001b[0mx0\u001b[0m\u001b[1;33m,\u001b[0m\u001b[1;33m-\u001b[0m\u001b[0my0\u001b[0m\u001b[1;33m)\u001b[0m\u001b[1;33m\u001b[0m\u001b[1;33m\u001b[0m\u001b[0m\n\u001b[0;32m    641\u001b[0m         \u001b[0mself\u001b[0m\u001b[1;33m.\u001b[0m\u001b[0mdevice\u001b[0m\u001b[1;33m.\u001b[0m\u001b[0mbegin_page\u001b[0m\u001b[1;33m(\u001b[0m\u001b[0mpage\u001b[0m\u001b[1;33m,\u001b[0m \u001b[0mctm\u001b[0m\u001b[1;33m)\u001b[0m\u001b[1;33m\u001b[0m\u001b[1;33m\u001b[0m\u001b[0m\n\u001b[1;32m--> 642\u001b[1;33m         \u001b[0mself\u001b[0m\u001b[1;33m.\u001b[0m\u001b[0mrender_contents\u001b[0m\u001b[1;33m(\u001b[0m\u001b[0mpage\u001b[0m\u001b[1;33m.\u001b[0m\u001b[0mresources\u001b[0m\u001b[1;33m,\u001b[0m \u001b[0mpage\u001b[0m\u001b[1;33m.\u001b[0m\u001b[0mcontents\u001b[0m\u001b[1;33m,\u001b[0m \u001b[0mctm\u001b[0m\u001b[1;33m=\u001b[0m\u001b[0mctm\u001b[0m\u001b[1;33m)\u001b[0m\u001b[1;33m\u001b[0m\u001b[1;33m\u001b[0m\u001b[0m\n\u001b[0m\u001b[0;32m    643\u001b[0m         \u001b[0mself\u001b[0m\u001b[1;33m.\u001b[0m\u001b[0mdevice\u001b[0m\u001b[1;33m.\u001b[0m\u001b[0mend_page\u001b[0m\u001b[1;33m(\u001b[0m\u001b[0mpage\u001b[0m\u001b[1;33m)\u001b[0m\u001b[1;33m\u001b[0m\u001b[1;33m\u001b[0m\u001b[0m\n\u001b[0;32m    644\u001b[0m \u001b[1;33m\u001b[0m\u001b[0m\n",
      "\u001b[1;32mE:\\anaconda\\lib\\site-packages\\pdfminer\\pdfinterp.py\u001b[0m in \u001b[0;36mrender_contents\u001b[1;34m(self, resources, streams, ctm)\u001b[0m\n\u001b[0;32m    650\u001b[0m         \u001b[0mself\u001b[0m\u001b[1;33m.\u001b[0m\u001b[0minit_resources\u001b[0m\u001b[1;33m(\u001b[0m\u001b[0mresources\u001b[0m\u001b[1;33m)\u001b[0m\u001b[1;33m\u001b[0m\u001b[1;33m\u001b[0m\u001b[0m\n\u001b[0;32m    651\u001b[0m         \u001b[0mself\u001b[0m\u001b[1;33m.\u001b[0m\u001b[0minit_state\u001b[0m\u001b[1;33m(\u001b[0m\u001b[0mctm\u001b[0m\u001b[1;33m)\u001b[0m\u001b[1;33m\u001b[0m\u001b[1;33m\u001b[0m\u001b[0m\n\u001b[1;32m--> 652\u001b[1;33m         \u001b[0mself\u001b[0m\u001b[1;33m.\u001b[0m\u001b[0mexecute\u001b[0m\u001b[1;33m(\u001b[0m\u001b[0mlist_value\u001b[0m\u001b[1;33m(\u001b[0m\u001b[0mstreams\u001b[0m\u001b[1;33m)\u001b[0m\u001b[1;33m)\u001b[0m\u001b[1;33m\u001b[0m\u001b[1;33m\u001b[0m\u001b[0m\n\u001b[0m\u001b[0;32m    653\u001b[0m \u001b[1;33m\u001b[0m\u001b[0m\n\u001b[0;32m    654\u001b[0m     \u001b[1;32mdef\u001b[0m \u001b[0mexecute\u001b[0m\u001b[1;33m(\u001b[0m\u001b[0mself\u001b[0m\u001b[1;33m,\u001b[0m \u001b[0mstreams\u001b[0m\u001b[1;33m)\u001b[0m\u001b[1;33m:\u001b[0m\u001b[1;33m\u001b[0m\u001b[1;33m\u001b[0m\u001b[0m\n",
      "\u001b[1;32mE:\\anaconda\\lib\\site-packages\\pdfminer\\pdfinterp.py\u001b[0m in \u001b[0;36mexecute\u001b[1;34m(self, streams)\u001b[0m\n\u001b[0;32m    673\u001b[0m                         \u001b[1;31m# logger.debug('exec: %s %r', name, args)\u001b[0m\u001b[1;33m\u001b[0m\u001b[1;33m\u001b[0m\u001b[1;33m\u001b[0m\u001b[0m\n\u001b[0;32m    674\u001b[0m                         \u001b[1;32mif\u001b[0m \u001b[0mlen\u001b[0m\u001b[1;33m(\u001b[0m\u001b[0margs\u001b[0m\u001b[1;33m)\u001b[0m \u001b[1;33m==\u001b[0m \u001b[0mnargs\u001b[0m\u001b[1;33m:\u001b[0m\u001b[1;33m\u001b[0m\u001b[1;33m\u001b[0m\u001b[0m\n\u001b[1;32m--> 675\u001b[1;33m                             \u001b[0mfunc\u001b[0m\u001b[1;33m(\u001b[0m\u001b[1;33m*\u001b[0m\u001b[0margs\u001b[0m\u001b[1;33m)\u001b[0m\u001b[1;33m\u001b[0m\u001b[1;33m\u001b[0m\u001b[0m\n\u001b[0m\u001b[0;32m    676\u001b[0m                     \u001b[1;32melse\u001b[0m\u001b[1;33m:\u001b[0m\u001b[1;33m\u001b[0m\u001b[1;33m\u001b[0m\u001b[0m\n\u001b[0;32m    677\u001b[0m                         \u001b[1;31m# logger.debug('exec: %s', name)\u001b[0m\u001b[1;33m\u001b[0m\u001b[1;33m\u001b[0m\u001b[1;33m\u001b[0m\u001b[0m\n",
      "\u001b[1;32mE:\\anaconda\\lib\\site-packages\\pdfminer\\pdfinterp.py\u001b[0m in \u001b[0;36mdo_Do\u001b[1;34m(self, xobjid)\u001b[0m\n\u001b[0;32m    618\u001b[0m             \u001b[0mresources\u001b[0m \u001b[1;33m=\u001b[0m \u001b[0mdict_value\u001b[0m\u001b[1;33m(\u001b[0m\u001b[0mxobj\u001b[0m\u001b[1;33m.\u001b[0m\u001b[0mget\u001b[0m\u001b[1;33m(\u001b[0m\u001b[1;34m'Resources'\u001b[0m\u001b[1;33m)\u001b[0m\u001b[1;33m)\u001b[0m \u001b[1;32mor\u001b[0m \u001b[0mself\u001b[0m\u001b[1;33m.\u001b[0m\u001b[0mresources\u001b[0m\u001b[1;33m.\u001b[0m\u001b[0mcopy\u001b[0m\u001b[1;33m(\u001b[0m\u001b[1;33m)\u001b[0m\u001b[1;33m\u001b[0m\u001b[1;33m\u001b[0m\u001b[0m\n\u001b[0;32m    619\u001b[0m             \u001b[0mself\u001b[0m\u001b[1;33m.\u001b[0m\u001b[0mdevice\u001b[0m\u001b[1;33m.\u001b[0m\u001b[0mbegin_figure\u001b[0m\u001b[1;33m(\u001b[0m\u001b[0mxobjid\u001b[0m\u001b[1;33m,\u001b[0m \u001b[0mbbox\u001b[0m\u001b[1;33m,\u001b[0m \u001b[0mmatrix\u001b[0m\u001b[1;33m)\u001b[0m\u001b[1;33m\u001b[0m\u001b[1;33m\u001b[0m\u001b[0m\n\u001b[1;32m--> 620\u001b[1;33m             \u001b[0minterpreter\u001b[0m\u001b[1;33m.\u001b[0m\u001b[0mrender_contents\u001b[0m\u001b[1;33m(\u001b[0m\u001b[0mresources\u001b[0m\u001b[1;33m,\u001b[0m \u001b[1;33m[\u001b[0m\u001b[0mxobj\u001b[0m\u001b[1;33m]\u001b[0m\u001b[1;33m,\u001b[0m \u001b[0mctm\u001b[0m\u001b[1;33m=\u001b[0m\u001b[0mmult_matrix\u001b[0m\u001b[1;33m(\u001b[0m\u001b[0mmatrix\u001b[0m\u001b[1;33m,\u001b[0m \u001b[0mself\u001b[0m\u001b[1;33m.\u001b[0m\u001b[0mctm\u001b[0m\u001b[1;33m)\u001b[0m\u001b[1;33m)\u001b[0m\u001b[1;33m\u001b[0m\u001b[1;33m\u001b[0m\u001b[0m\n\u001b[0m\u001b[0;32m    621\u001b[0m             \u001b[0mself\u001b[0m\u001b[1;33m.\u001b[0m\u001b[0mdevice\u001b[0m\u001b[1;33m.\u001b[0m\u001b[0mend_figure\u001b[0m\u001b[1;33m(\u001b[0m\u001b[0mxobjid\u001b[0m\u001b[1;33m)\u001b[0m\u001b[1;33m\u001b[0m\u001b[1;33m\u001b[0m\u001b[0m\n\u001b[0;32m    622\u001b[0m         \u001b[1;32melif\u001b[0m \u001b[0msubtype\u001b[0m \u001b[1;32mis\u001b[0m \u001b[0mLITERAL_IMAGE\u001b[0m \u001b[1;32mand\u001b[0m \u001b[1;34m'Width'\u001b[0m \u001b[1;32min\u001b[0m \u001b[0mxobj\u001b[0m \u001b[1;32mand\u001b[0m \u001b[1;34m'Height'\u001b[0m \u001b[1;32min\u001b[0m \u001b[0mxobj\u001b[0m\u001b[1;33m:\u001b[0m\u001b[1;33m\u001b[0m\u001b[1;33m\u001b[0m\u001b[0m\n",
      "\u001b[1;32mE:\\anaconda\\lib\\site-packages\\pdfminer\\pdfinterp.py\u001b[0m in \u001b[0;36mrender_contents\u001b[1;34m(self, resources, streams, ctm)\u001b[0m\n\u001b[0;32m    650\u001b[0m         \u001b[0mself\u001b[0m\u001b[1;33m.\u001b[0m\u001b[0minit_resources\u001b[0m\u001b[1;33m(\u001b[0m\u001b[0mresources\u001b[0m\u001b[1;33m)\u001b[0m\u001b[1;33m\u001b[0m\u001b[1;33m\u001b[0m\u001b[0m\n\u001b[0;32m    651\u001b[0m         \u001b[0mself\u001b[0m\u001b[1;33m.\u001b[0m\u001b[0minit_state\u001b[0m\u001b[1;33m(\u001b[0m\u001b[0mctm\u001b[0m\u001b[1;33m)\u001b[0m\u001b[1;33m\u001b[0m\u001b[1;33m\u001b[0m\u001b[0m\n\u001b[1;32m--> 652\u001b[1;33m         \u001b[0mself\u001b[0m\u001b[1;33m.\u001b[0m\u001b[0mexecute\u001b[0m\u001b[1;33m(\u001b[0m\u001b[0mlist_value\u001b[0m\u001b[1;33m(\u001b[0m\u001b[0mstreams\u001b[0m\u001b[1;33m)\u001b[0m\u001b[1;33m)\u001b[0m\u001b[1;33m\u001b[0m\u001b[1;33m\u001b[0m\u001b[0m\n\u001b[0m\u001b[0;32m    653\u001b[0m \u001b[1;33m\u001b[0m\u001b[0m\n\u001b[0;32m    654\u001b[0m     \u001b[1;32mdef\u001b[0m \u001b[0mexecute\u001b[0m\u001b[1;33m(\u001b[0m\u001b[0mself\u001b[0m\u001b[1;33m,\u001b[0m \u001b[0mstreams\u001b[0m\u001b[1;33m)\u001b[0m\u001b[1;33m:\u001b[0m\u001b[1;33m\u001b[0m\u001b[1;33m\u001b[0m\u001b[0m\n",
      "\u001b[1;32mE:\\anaconda\\lib\\site-packages\\pdfminer\\pdfinterp.py\u001b[0m in \u001b[0;36mexecute\u001b[1;34m(self, streams)\u001b[0m\n\u001b[0;32m    676\u001b[0m                     \u001b[1;32melse\u001b[0m\u001b[1;33m:\u001b[0m\u001b[1;33m\u001b[0m\u001b[1;33m\u001b[0m\u001b[0m\n\u001b[0;32m    677\u001b[0m                         \u001b[1;31m# logger.debug('exec: %s', name)\u001b[0m\u001b[1;33m\u001b[0m\u001b[1;33m\u001b[0m\u001b[1;33m\u001b[0m\u001b[0m\n\u001b[1;32m--> 678\u001b[1;33m                         \u001b[0mfunc\u001b[0m\u001b[1;33m(\u001b[0m\u001b[1;33m)\u001b[0m\u001b[1;33m\u001b[0m\u001b[1;33m\u001b[0m\u001b[0m\n\u001b[0m\u001b[0;32m    679\u001b[0m                 \u001b[1;32melse\u001b[0m\u001b[1;33m:\u001b[0m\u001b[1;33m\u001b[0m\u001b[1;33m\u001b[0m\u001b[0m\n\u001b[0;32m    680\u001b[0m                     \u001b[0mhandle_error\u001b[0m\u001b[1;33m(\u001b[0m\u001b[0mPDFInterpreterError\u001b[0m\u001b[1;33m,\u001b[0m \u001b[1;34m'Unknown operator: %r'\u001b[0m \u001b[1;33m%\u001b[0m \u001b[0mname\u001b[0m\u001b[1;33m)\u001b[0m\u001b[1;33m\u001b[0m\u001b[1;33m\u001b[0m\u001b[0m\n",
      "\u001b[1;32mE:\\anaconda\\lib\\site-packages\\pdfminer\\pdfinterp.py\u001b[0m in \u001b[0;36mdo_f\u001b[1;34m(self)\u001b[0m\n\u001b[0;32m    397\u001b[0m     \u001b[1;31m# fill\u001b[0m\u001b[1;33m\u001b[0m\u001b[1;33m\u001b[0m\u001b[1;33m\u001b[0m\u001b[0m\n\u001b[0;32m    398\u001b[0m     \u001b[1;32mdef\u001b[0m \u001b[0mdo_f\u001b[0m\u001b[1;33m(\u001b[0m\u001b[0mself\u001b[0m\u001b[1;33m)\u001b[0m\u001b[1;33m:\u001b[0m\u001b[1;33m\u001b[0m\u001b[1;33m\u001b[0m\u001b[0m\n\u001b[1;32m--> 399\u001b[1;33m         \u001b[0mself\u001b[0m\u001b[1;33m.\u001b[0m\u001b[0mdevice\u001b[0m\u001b[1;33m.\u001b[0m\u001b[0mpaint_path\u001b[0m\u001b[1;33m(\u001b[0m\u001b[0mself\u001b[0m\u001b[1;33m.\u001b[0m\u001b[0mgraphicstate\u001b[0m\u001b[1;33m,\u001b[0m \u001b[1;32mFalse\u001b[0m\u001b[1;33m,\u001b[0m \u001b[1;32mTrue\u001b[0m\u001b[1;33m,\u001b[0m \u001b[1;32mFalse\u001b[0m\u001b[1;33m,\u001b[0m \u001b[0mself\u001b[0m\u001b[1;33m.\u001b[0m\u001b[0mcurpath\u001b[0m\u001b[1;33m)\u001b[0m\u001b[1;33m\u001b[0m\u001b[1;33m\u001b[0m\u001b[0m\n\u001b[0m\u001b[0;32m    400\u001b[0m         \u001b[0mself\u001b[0m\u001b[1;33m.\u001b[0m\u001b[0mcurpath\u001b[0m \u001b[1;33m=\u001b[0m \u001b[1;33m[\u001b[0m\u001b[1;33m]\u001b[0m\u001b[1;33m\u001b[0m\u001b[1;33m\u001b[0m\u001b[0m\n\u001b[0;32m    401\u001b[0m     \u001b[1;31m# fill (obsolete)\u001b[0m\u001b[1;33m\u001b[0m\u001b[1;33m\u001b[0m\u001b[1;33m\u001b[0m\u001b[0m\n",
      "\u001b[1;32mE:\\anaconda\\lib\\site-packages\\minecart\\miner.py\u001b[0m in \u001b[0;36mpaint_path\u001b[1;34m(self, graphicstate, stroked, filled, evenodd, path)\u001b[0m\n\u001b[0;32m    244\u001b[0m             \u001b[0mdevice_path\u001b[0m\u001b[1;33m.\u001b[0m\u001b[0mappend\u001b[0m\u001b[1;33m(\u001b[0m\u001b[0mtuple\u001b[0m\u001b[1;33m(\u001b[0m\u001b[0mnew_seg\u001b[0m\u001b[1;33m)\u001b[0m\u001b[1;33m)\u001b[0m\u001b[1;33m\u001b[0m\u001b[1;33m\u001b[0m\u001b[0m\n\u001b[0;32m    245\u001b[0m         \u001b[0mstroke\u001b[0m \u001b[1;33m=\u001b[0m \u001b[0mStrokeState\u001b[0m\u001b[1;33m.\u001b[0m\u001b[0mfrom_gs\u001b[0m\u001b[1;33m(\u001b[0m\u001b[0mgraphicstate\u001b[0m\u001b[1;33m)\u001b[0m \u001b[1;32mif\u001b[0m \u001b[0mstroked\u001b[0m \u001b[1;32melse\u001b[0m \u001b[1;32mNone\u001b[0m\u001b[1;33m\u001b[0m\u001b[1;33m\u001b[0m\u001b[0m\n\u001b[1;32m--> 246\u001b[1;33m         \u001b[0mfill\u001b[0m \u001b[1;33m=\u001b[0m \u001b[0mFillState\u001b[0m\u001b[1;33m.\u001b[0m\u001b[0mfrom_gs\u001b[0m\u001b[1;33m(\u001b[0m\u001b[0mgraphicstate\u001b[0m\u001b[1;33m)\u001b[0m \u001b[1;32mif\u001b[0m \u001b[0mfilled\u001b[0m \u001b[1;32melse\u001b[0m \u001b[1;32mNone\u001b[0m\u001b[1;33m\u001b[0m\u001b[1;33m\u001b[0m\u001b[0m\n\u001b[0m\u001b[0;32m    247\u001b[0m         \u001b[0mself\u001b[0m\u001b[1;33m.\u001b[0m\u001b[0mpage\u001b[0m\u001b[1;33m.\u001b[0m\u001b[0madd_shape\u001b[0m\u001b[1;33m(\u001b[0m\u001b[0mShape\u001b[0m\u001b[1;33m(\u001b[0m\u001b[0mstroke\u001b[0m\u001b[1;33m,\u001b[0m \u001b[0mfill\u001b[0m\u001b[1;33m,\u001b[0m \u001b[0mevenodd\u001b[0m\u001b[1;33m,\u001b[0m \u001b[0mdevice_path\u001b[0m\u001b[1;33m)\u001b[0m\u001b[1;33m)\u001b[0m\u001b[1;33m\u001b[0m\u001b[1;33m\u001b[0m\u001b[0m\n\u001b[0;32m    248\u001b[0m \u001b[1;33m\u001b[0m\u001b[0m\n",
      "\u001b[1;32mE:\\anaconda\\lib\\site-packages\\minecart\\miner.py\u001b[0m in \u001b[0;36mfrom_gs\u001b[1;34m(cls, graphics)\u001b[0m\n\u001b[0;32m     89\u001b[0m         \u001b[1;34m\"Creates a new FillState from a ColoredState object.\"\u001b[0m\u001b[1;33m\u001b[0m\u001b[1;33m\u001b[0m\u001b[0m\n\u001b[0;32m     90\u001b[0m         \u001b[0mret\u001b[0m \u001b[1;33m=\u001b[0m \u001b[0mcls\u001b[0m\u001b[1;33m(\u001b[0m\u001b[1;33m)\u001b[0m\u001b[1;33m\u001b[0m\u001b[1;33m\u001b[0m\u001b[0m\n\u001b[1;32m---> 91\u001b[1;33m         \u001b[0mret\u001b[0m\u001b[1;33m.\u001b[0m\u001b[0mcolor\u001b[0m \u001b[1;33m=\u001b[0m \u001b[0mgraphics\u001b[0m\u001b[1;33m.\u001b[0m\u001b[0mfill_color\u001b[0m\u001b[1;33m\u001b[0m\u001b[1;33m\u001b[0m\u001b[0m\n\u001b[0m\u001b[0;32m     92\u001b[0m         \u001b[1;32mreturn\u001b[0m \u001b[0mret\u001b[0m\u001b[1;33m\u001b[0m\u001b[1;33m\u001b[0m\u001b[0m\n\u001b[0;32m     93\u001b[0m \u001b[1;33m\u001b[0m\u001b[0m\n",
      "\u001b[1;31mAttributeError\u001b[0m: 'PDFGraphicState' object has no attribute 'fill_color'"
     ]
    }
   ],
   "source": [
    "doc.get_page(15)"
   ]
  },
  {
   "cell_type": "code",
   "execution_count": 187,
   "metadata": {},
   "outputs": [
    {
     "name": "stdout",
     "output_type": "stream",
     "text": [
      "Tagline Creating a Better Future with TechnologyLocated  ChinaYear Founded  2013Key People  Shengqiang ChenWebsite  jr.jd.comCategory  MultiOwnership  PrivateRank Last Year  09Staff👤 👤 👤 👤 👤 At a Glance\n"
     ]
    }
   ],
   "source": [
    "doc = minecart.Document(open(\"Fintech100-12-111.pdf\", 'rb'))\n",
    "b = \"\"\n",
    "for i in doc.get_page(1).letterings.iter_in_bbox((300, 36, 576, 373)):\n",
    "    b = b + i\n",
    "print(b)"
   ]
  },
  {
   "cell_type": "code",
   "execution_count": 134,
   "metadata": {},
   "outputs": [
    {
     "data": {
      "text/plain": [
       "'Tagline Creating a Better Future with TechnologyLocated  ChinaYear Founded  2013Key People  Shengqiang ChenWebsite  jr.jd.comCategory  MultiOwnership  PrivateRank Last Year  09Staff👤 👤 👤 👤 👤 At a Glance'"
      ]
     },
     "execution_count": 134,
     "metadata": {},
     "output_type": "execute_result"
    }
   ],
   "source": [
    "b"
   ]
  },
  {
   "cell_type": "code",
   "execution_count": 199,
   "metadata": {},
   "outputs": [
    {
     "data": {
      "text/plain": [
       "<minecart.miner.Document at 0x22175451a20>"
      ]
     },
     "execution_count": 199,
     "metadata": {},
     "output_type": "execute_result"
    }
   ],
   "source": [
    "doc = minecart.Document(open(\"Fintech100-12-111.pdf\", 'rb'))\n",
    "#for page in doc.iter_pages():\n",
    " #   page.letterings.iter_in_bbox((300, 36, 576, 373))\n",
    "doc"
   ]
  },
  {
   "cell_type": "code",
   "execution_count": 204,
   "metadata": {},
   "outputs": [
    {
     "ename": "AttributeError",
     "evalue": "'PDFGraphicState' object has no attribute 'fill_color'",
     "output_type": "error",
     "traceback": [
      "\u001b[1;31m---------------------------------------------------------------------------\u001b[0m",
      "\u001b[1;31mAttributeError\u001b[0m                            Traceback (most recent call last)",
      "\u001b[1;32m<ipython-input-204-6e6bf0eec456>\u001b[0m in \u001b[0;36m<module>\u001b[1;34m\u001b[0m\n\u001b[0;32m      1\u001b[0m \u001b[0mdoc\u001b[0m \u001b[1;33m=\u001b[0m \u001b[0mminecart\u001b[0m\u001b[1;33m.\u001b[0m\u001b[0mDocument\u001b[0m\u001b[1;33m(\u001b[0m\u001b[0mopen\u001b[0m\u001b[1;33m(\u001b[0m\u001b[1;34m\"Fintech100-10-11.pdf\"\u001b[0m\u001b[1;33m,\u001b[0m \u001b[1;34m'rb'\u001b[0m\u001b[1;33m)\u001b[0m\u001b[1;33m)\u001b[0m\u001b[1;33m\u001b[0m\u001b[1;33m\u001b[0m\u001b[0m\n\u001b[1;32m----> 2\u001b[1;33m \u001b[0mdoc\u001b[0m\u001b[1;33m.\u001b[0m\u001b[0mget_page\u001b[0m\u001b[1;33m(\u001b[0m\u001b[1;36m1\u001b[0m\u001b[1;33m)\u001b[0m\u001b[1;33m\u001b[0m\u001b[1;33m\u001b[0m\u001b[0m\n\u001b[0m\u001b[0;32m      3\u001b[0m \u001b[1;31m#a = \"\"\u001b[0m\u001b[1;33m\u001b[0m\u001b[1;33m\u001b[0m\u001b[1;33m\u001b[0m\u001b[0m\n\u001b[0;32m      4\u001b[0m \u001b[1;31m#for i in doc.get_page(0).letterings:#.iter_in_bbox((36, 36, 300, 376)):\u001b[0m\u001b[1;33m\u001b[0m\u001b[1;33m\u001b[0m\u001b[1;33m\u001b[0m\u001b[0m\n\u001b[0;32m      5\u001b[0m  \u001b[1;31m#   a = a + i\u001b[0m\u001b[1;33m\u001b[0m\u001b[1;33m\u001b[0m\u001b[1;33m\u001b[0m\u001b[0m\n",
      "\u001b[1;32mE:\\anaconda\\lib\\site-packages\\minecart\\miner.py\u001b[0m in \u001b[0;36mget_page\u001b[1;34m(self, num)\u001b[0m\n\u001b[0;32m    348\u001b[0m         \u001b[1;32mfor\u001b[0m \u001b[0mi\u001b[0m\u001b[1;33m,\u001b[0m \u001b[0mpage\u001b[0m \u001b[1;32min\u001b[0m \u001b[0menumerate\u001b[0m\u001b[1;33m(\u001b[0m\u001b[0mself\u001b[0m\u001b[1;33m.\u001b[0m\u001b[0mdoc\u001b[0m\u001b[1;33m.\u001b[0m\u001b[0mget_pages\u001b[0m\u001b[1;33m(\u001b[0m\u001b[1;33m)\u001b[0m\u001b[1;33m)\u001b[0m\u001b[1;33m:\u001b[0m\u001b[1;33m\u001b[0m\u001b[1;33m\u001b[0m\u001b[0m\n\u001b[0;32m    349\u001b[0m             \u001b[1;32mif\u001b[0m \u001b[0mi\u001b[0m \u001b[1;33m==\u001b[0m \u001b[0mnum\u001b[0m\u001b[1;33m:\u001b[0m\u001b[1;33m\u001b[0m\u001b[1;33m\u001b[0m\u001b[0m\n\u001b[1;32m--> 350\u001b[1;33m                 \u001b[0mself\u001b[0m\u001b[1;33m.\u001b[0m\u001b[0minterpreter\u001b[0m\u001b[1;33m.\u001b[0m\u001b[0mprocess_page\u001b[0m\u001b[1;33m(\u001b[0m\u001b[0mpage\u001b[0m\u001b[1;33m)\u001b[0m\u001b[1;33m\u001b[0m\u001b[1;33m\u001b[0m\u001b[0m\n\u001b[0m\u001b[0;32m    351\u001b[0m                 \u001b[1;32mreturn\u001b[0m \u001b[0mself\u001b[0m\u001b[1;33m.\u001b[0m\u001b[0mdevice\u001b[0m\u001b[1;33m.\u001b[0m\u001b[0mpage\u001b[0m\u001b[1;33m\u001b[0m\u001b[1;33m\u001b[0m\u001b[0m\n",
      "\u001b[1;32mE:\\anaconda\\lib\\site-packages\\pdfminer\\pdfinterp.py\u001b[0m in \u001b[0;36mprocess_page\u001b[1;34m(self, page)\u001b[0m\n\u001b[0;32m    640\u001b[0m             \u001b[0mctm\u001b[0m \u001b[1;33m=\u001b[0m \u001b[1;33m(\u001b[0m\u001b[1;36m1\u001b[0m\u001b[1;33m,\u001b[0m\u001b[1;36m0\u001b[0m\u001b[1;33m,\u001b[0m\u001b[1;36m0\u001b[0m\u001b[1;33m,\u001b[0m\u001b[1;36m1\u001b[0m\u001b[1;33m,\u001b[0m \u001b[1;33m-\u001b[0m\u001b[0mx0\u001b[0m\u001b[1;33m,\u001b[0m\u001b[1;33m-\u001b[0m\u001b[0my0\u001b[0m\u001b[1;33m)\u001b[0m\u001b[1;33m\u001b[0m\u001b[1;33m\u001b[0m\u001b[0m\n\u001b[0;32m    641\u001b[0m         \u001b[0mself\u001b[0m\u001b[1;33m.\u001b[0m\u001b[0mdevice\u001b[0m\u001b[1;33m.\u001b[0m\u001b[0mbegin_page\u001b[0m\u001b[1;33m(\u001b[0m\u001b[0mpage\u001b[0m\u001b[1;33m,\u001b[0m \u001b[0mctm\u001b[0m\u001b[1;33m)\u001b[0m\u001b[1;33m\u001b[0m\u001b[1;33m\u001b[0m\u001b[0m\n\u001b[1;32m--> 642\u001b[1;33m         \u001b[0mself\u001b[0m\u001b[1;33m.\u001b[0m\u001b[0mrender_contents\u001b[0m\u001b[1;33m(\u001b[0m\u001b[0mpage\u001b[0m\u001b[1;33m.\u001b[0m\u001b[0mresources\u001b[0m\u001b[1;33m,\u001b[0m \u001b[0mpage\u001b[0m\u001b[1;33m.\u001b[0m\u001b[0mcontents\u001b[0m\u001b[1;33m,\u001b[0m \u001b[0mctm\u001b[0m\u001b[1;33m=\u001b[0m\u001b[0mctm\u001b[0m\u001b[1;33m)\u001b[0m\u001b[1;33m\u001b[0m\u001b[1;33m\u001b[0m\u001b[0m\n\u001b[0m\u001b[0;32m    643\u001b[0m         \u001b[0mself\u001b[0m\u001b[1;33m.\u001b[0m\u001b[0mdevice\u001b[0m\u001b[1;33m.\u001b[0m\u001b[0mend_page\u001b[0m\u001b[1;33m(\u001b[0m\u001b[0mpage\u001b[0m\u001b[1;33m)\u001b[0m\u001b[1;33m\u001b[0m\u001b[1;33m\u001b[0m\u001b[0m\n\u001b[0;32m    644\u001b[0m \u001b[1;33m\u001b[0m\u001b[0m\n",
      "\u001b[1;32mE:\\anaconda\\lib\\site-packages\\pdfminer\\pdfinterp.py\u001b[0m in \u001b[0;36mrender_contents\u001b[1;34m(self, resources, streams, ctm)\u001b[0m\n\u001b[0;32m    650\u001b[0m         \u001b[0mself\u001b[0m\u001b[1;33m.\u001b[0m\u001b[0minit_resources\u001b[0m\u001b[1;33m(\u001b[0m\u001b[0mresources\u001b[0m\u001b[1;33m)\u001b[0m\u001b[1;33m\u001b[0m\u001b[1;33m\u001b[0m\u001b[0m\n\u001b[0;32m    651\u001b[0m         \u001b[0mself\u001b[0m\u001b[1;33m.\u001b[0m\u001b[0minit_state\u001b[0m\u001b[1;33m(\u001b[0m\u001b[0mctm\u001b[0m\u001b[1;33m)\u001b[0m\u001b[1;33m\u001b[0m\u001b[1;33m\u001b[0m\u001b[0m\n\u001b[1;32m--> 652\u001b[1;33m         \u001b[0mself\u001b[0m\u001b[1;33m.\u001b[0m\u001b[0mexecute\u001b[0m\u001b[1;33m(\u001b[0m\u001b[0mlist_value\u001b[0m\u001b[1;33m(\u001b[0m\u001b[0mstreams\u001b[0m\u001b[1;33m)\u001b[0m\u001b[1;33m)\u001b[0m\u001b[1;33m\u001b[0m\u001b[1;33m\u001b[0m\u001b[0m\n\u001b[0m\u001b[0;32m    653\u001b[0m \u001b[1;33m\u001b[0m\u001b[0m\n\u001b[0;32m    654\u001b[0m     \u001b[1;32mdef\u001b[0m \u001b[0mexecute\u001b[0m\u001b[1;33m(\u001b[0m\u001b[0mself\u001b[0m\u001b[1;33m,\u001b[0m \u001b[0mstreams\u001b[0m\u001b[1;33m)\u001b[0m\u001b[1;33m:\u001b[0m\u001b[1;33m\u001b[0m\u001b[1;33m\u001b[0m\u001b[0m\n",
      "\u001b[1;32mE:\\anaconda\\lib\\site-packages\\pdfminer\\pdfinterp.py\u001b[0m in \u001b[0;36mexecute\u001b[1;34m(self, streams)\u001b[0m\n\u001b[0;32m    673\u001b[0m                         \u001b[1;31m# logger.debug('exec: %s %r', name, args)\u001b[0m\u001b[1;33m\u001b[0m\u001b[1;33m\u001b[0m\u001b[1;33m\u001b[0m\u001b[0m\n\u001b[0;32m    674\u001b[0m                         \u001b[1;32mif\u001b[0m \u001b[0mlen\u001b[0m\u001b[1;33m(\u001b[0m\u001b[0margs\u001b[0m\u001b[1;33m)\u001b[0m \u001b[1;33m==\u001b[0m \u001b[0mnargs\u001b[0m\u001b[1;33m:\u001b[0m\u001b[1;33m\u001b[0m\u001b[1;33m\u001b[0m\u001b[0m\n\u001b[1;32m--> 675\u001b[1;33m                             \u001b[0mfunc\u001b[0m\u001b[1;33m(\u001b[0m\u001b[1;33m*\u001b[0m\u001b[0margs\u001b[0m\u001b[1;33m)\u001b[0m\u001b[1;33m\u001b[0m\u001b[1;33m\u001b[0m\u001b[0m\n\u001b[0m\u001b[0;32m    676\u001b[0m                     \u001b[1;32melse\u001b[0m\u001b[1;33m:\u001b[0m\u001b[1;33m\u001b[0m\u001b[1;33m\u001b[0m\u001b[0m\n\u001b[0;32m    677\u001b[0m                         \u001b[1;31m# logger.debug('exec: %s', name)\u001b[0m\u001b[1;33m\u001b[0m\u001b[1;33m\u001b[0m\u001b[1;33m\u001b[0m\u001b[0m\n",
      "\u001b[1;32mE:\\anaconda\\lib\\site-packages\\pdfminer\\pdfinterp.py\u001b[0m in \u001b[0;36mdo_Do\u001b[1;34m(self, xobjid)\u001b[0m\n\u001b[0;32m    618\u001b[0m             \u001b[0mresources\u001b[0m \u001b[1;33m=\u001b[0m \u001b[0mdict_value\u001b[0m\u001b[1;33m(\u001b[0m\u001b[0mxobj\u001b[0m\u001b[1;33m.\u001b[0m\u001b[0mget\u001b[0m\u001b[1;33m(\u001b[0m\u001b[1;34m'Resources'\u001b[0m\u001b[1;33m)\u001b[0m\u001b[1;33m)\u001b[0m \u001b[1;32mor\u001b[0m \u001b[0mself\u001b[0m\u001b[1;33m.\u001b[0m\u001b[0mresources\u001b[0m\u001b[1;33m.\u001b[0m\u001b[0mcopy\u001b[0m\u001b[1;33m(\u001b[0m\u001b[1;33m)\u001b[0m\u001b[1;33m\u001b[0m\u001b[1;33m\u001b[0m\u001b[0m\n\u001b[0;32m    619\u001b[0m             \u001b[0mself\u001b[0m\u001b[1;33m.\u001b[0m\u001b[0mdevice\u001b[0m\u001b[1;33m.\u001b[0m\u001b[0mbegin_figure\u001b[0m\u001b[1;33m(\u001b[0m\u001b[0mxobjid\u001b[0m\u001b[1;33m,\u001b[0m \u001b[0mbbox\u001b[0m\u001b[1;33m,\u001b[0m \u001b[0mmatrix\u001b[0m\u001b[1;33m)\u001b[0m\u001b[1;33m\u001b[0m\u001b[1;33m\u001b[0m\u001b[0m\n\u001b[1;32m--> 620\u001b[1;33m             \u001b[0minterpreter\u001b[0m\u001b[1;33m.\u001b[0m\u001b[0mrender_contents\u001b[0m\u001b[1;33m(\u001b[0m\u001b[0mresources\u001b[0m\u001b[1;33m,\u001b[0m \u001b[1;33m[\u001b[0m\u001b[0mxobj\u001b[0m\u001b[1;33m]\u001b[0m\u001b[1;33m,\u001b[0m \u001b[0mctm\u001b[0m\u001b[1;33m=\u001b[0m\u001b[0mmult_matrix\u001b[0m\u001b[1;33m(\u001b[0m\u001b[0mmatrix\u001b[0m\u001b[1;33m,\u001b[0m \u001b[0mself\u001b[0m\u001b[1;33m.\u001b[0m\u001b[0mctm\u001b[0m\u001b[1;33m)\u001b[0m\u001b[1;33m)\u001b[0m\u001b[1;33m\u001b[0m\u001b[1;33m\u001b[0m\u001b[0m\n\u001b[0m\u001b[0;32m    621\u001b[0m             \u001b[0mself\u001b[0m\u001b[1;33m.\u001b[0m\u001b[0mdevice\u001b[0m\u001b[1;33m.\u001b[0m\u001b[0mend_figure\u001b[0m\u001b[1;33m(\u001b[0m\u001b[0mxobjid\u001b[0m\u001b[1;33m)\u001b[0m\u001b[1;33m\u001b[0m\u001b[1;33m\u001b[0m\u001b[0m\n\u001b[0;32m    622\u001b[0m         \u001b[1;32melif\u001b[0m \u001b[0msubtype\u001b[0m \u001b[1;32mis\u001b[0m \u001b[0mLITERAL_IMAGE\u001b[0m \u001b[1;32mand\u001b[0m \u001b[1;34m'Width'\u001b[0m \u001b[1;32min\u001b[0m \u001b[0mxobj\u001b[0m \u001b[1;32mand\u001b[0m \u001b[1;34m'Height'\u001b[0m \u001b[1;32min\u001b[0m \u001b[0mxobj\u001b[0m\u001b[1;33m:\u001b[0m\u001b[1;33m\u001b[0m\u001b[1;33m\u001b[0m\u001b[0m\n",
      "\u001b[1;32mE:\\anaconda\\lib\\site-packages\\pdfminer\\pdfinterp.py\u001b[0m in \u001b[0;36mrender_contents\u001b[1;34m(self, resources, streams, ctm)\u001b[0m\n\u001b[0;32m    650\u001b[0m         \u001b[0mself\u001b[0m\u001b[1;33m.\u001b[0m\u001b[0minit_resources\u001b[0m\u001b[1;33m(\u001b[0m\u001b[0mresources\u001b[0m\u001b[1;33m)\u001b[0m\u001b[1;33m\u001b[0m\u001b[1;33m\u001b[0m\u001b[0m\n\u001b[0;32m    651\u001b[0m         \u001b[0mself\u001b[0m\u001b[1;33m.\u001b[0m\u001b[0minit_state\u001b[0m\u001b[1;33m(\u001b[0m\u001b[0mctm\u001b[0m\u001b[1;33m)\u001b[0m\u001b[1;33m\u001b[0m\u001b[1;33m\u001b[0m\u001b[0m\n\u001b[1;32m--> 652\u001b[1;33m         \u001b[0mself\u001b[0m\u001b[1;33m.\u001b[0m\u001b[0mexecute\u001b[0m\u001b[1;33m(\u001b[0m\u001b[0mlist_value\u001b[0m\u001b[1;33m(\u001b[0m\u001b[0mstreams\u001b[0m\u001b[1;33m)\u001b[0m\u001b[1;33m)\u001b[0m\u001b[1;33m\u001b[0m\u001b[1;33m\u001b[0m\u001b[0m\n\u001b[0m\u001b[0;32m    653\u001b[0m \u001b[1;33m\u001b[0m\u001b[0m\n\u001b[0;32m    654\u001b[0m     \u001b[1;32mdef\u001b[0m \u001b[0mexecute\u001b[0m\u001b[1;33m(\u001b[0m\u001b[0mself\u001b[0m\u001b[1;33m,\u001b[0m \u001b[0mstreams\u001b[0m\u001b[1;33m)\u001b[0m\u001b[1;33m:\u001b[0m\u001b[1;33m\u001b[0m\u001b[1;33m\u001b[0m\u001b[0m\n",
      "\u001b[1;32mE:\\anaconda\\lib\\site-packages\\pdfminer\\pdfinterp.py\u001b[0m in \u001b[0;36mexecute\u001b[1;34m(self, streams)\u001b[0m\n\u001b[0;32m    676\u001b[0m                     \u001b[1;32melse\u001b[0m\u001b[1;33m:\u001b[0m\u001b[1;33m\u001b[0m\u001b[1;33m\u001b[0m\u001b[0m\n\u001b[0;32m    677\u001b[0m                         \u001b[1;31m# logger.debug('exec: %s', name)\u001b[0m\u001b[1;33m\u001b[0m\u001b[1;33m\u001b[0m\u001b[1;33m\u001b[0m\u001b[0m\n\u001b[1;32m--> 678\u001b[1;33m                         \u001b[0mfunc\u001b[0m\u001b[1;33m(\u001b[0m\u001b[1;33m)\u001b[0m\u001b[1;33m\u001b[0m\u001b[1;33m\u001b[0m\u001b[0m\n\u001b[0m\u001b[0;32m    679\u001b[0m                 \u001b[1;32melse\u001b[0m\u001b[1;33m:\u001b[0m\u001b[1;33m\u001b[0m\u001b[1;33m\u001b[0m\u001b[0m\n\u001b[0;32m    680\u001b[0m                     \u001b[0mhandle_error\u001b[0m\u001b[1;33m(\u001b[0m\u001b[0mPDFInterpreterError\u001b[0m\u001b[1;33m,\u001b[0m \u001b[1;34m'Unknown operator: %r'\u001b[0m \u001b[1;33m%\u001b[0m \u001b[0mname\u001b[0m\u001b[1;33m)\u001b[0m\u001b[1;33m\u001b[0m\u001b[1;33m\u001b[0m\u001b[0m\n",
      "\u001b[1;32mE:\\anaconda\\lib\\site-packages\\pdfminer\\pdfinterp.py\u001b[0m in \u001b[0;36mdo_f\u001b[1;34m(self)\u001b[0m\n\u001b[0;32m    397\u001b[0m     \u001b[1;31m# fill\u001b[0m\u001b[1;33m\u001b[0m\u001b[1;33m\u001b[0m\u001b[1;33m\u001b[0m\u001b[0m\n\u001b[0;32m    398\u001b[0m     \u001b[1;32mdef\u001b[0m \u001b[0mdo_f\u001b[0m\u001b[1;33m(\u001b[0m\u001b[0mself\u001b[0m\u001b[1;33m)\u001b[0m\u001b[1;33m:\u001b[0m\u001b[1;33m\u001b[0m\u001b[1;33m\u001b[0m\u001b[0m\n\u001b[1;32m--> 399\u001b[1;33m         \u001b[0mself\u001b[0m\u001b[1;33m.\u001b[0m\u001b[0mdevice\u001b[0m\u001b[1;33m.\u001b[0m\u001b[0mpaint_path\u001b[0m\u001b[1;33m(\u001b[0m\u001b[0mself\u001b[0m\u001b[1;33m.\u001b[0m\u001b[0mgraphicstate\u001b[0m\u001b[1;33m,\u001b[0m \u001b[1;32mFalse\u001b[0m\u001b[1;33m,\u001b[0m \u001b[1;32mTrue\u001b[0m\u001b[1;33m,\u001b[0m \u001b[1;32mFalse\u001b[0m\u001b[1;33m,\u001b[0m \u001b[0mself\u001b[0m\u001b[1;33m.\u001b[0m\u001b[0mcurpath\u001b[0m\u001b[1;33m)\u001b[0m\u001b[1;33m\u001b[0m\u001b[1;33m\u001b[0m\u001b[0m\n\u001b[0m\u001b[0;32m    400\u001b[0m         \u001b[0mself\u001b[0m\u001b[1;33m.\u001b[0m\u001b[0mcurpath\u001b[0m \u001b[1;33m=\u001b[0m \u001b[1;33m[\u001b[0m\u001b[1;33m]\u001b[0m\u001b[1;33m\u001b[0m\u001b[1;33m\u001b[0m\u001b[0m\n\u001b[0;32m    401\u001b[0m     \u001b[1;31m# fill (obsolete)\u001b[0m\u001b[1;33m\u001b[0m\u001b[1;33m\u001b[0m\u001b[1;33m\u001b[0m\u001b[0m\n",
      "\u001b[1;32mE:\\anaconda\\lib\\site-packages\\minecart\\miner.py\u001b[0m in \u001b[0;36mpaint_path\u001b[1;34m(self, graphicstate, stroked, filled, evenodd, path)\u001b[0m\n\u001b[0;32m    244\u001b[0m             \u001b[0mdevice_path\u001b[0m\u001b[1;33m.\u001b[0m\u001b[0mappend\u001b[0m\u001b[1;33m(\u001b[0m\u001b[0mtuple\u001b[0m\u001b[1;33m(\u001b[0m\u001b[0mnew_seg\u001b[0m\u001b[1;33m)\u001b[0m\u001b[1;33m)\u001b[0m\u001b[1;33m\u001b[0m\u001b[1;33m\u001b[0m\u001b[0m\n\u001b[0;32m    245\u001b[0m         \u001b[0mstroke\u001b[0m \u001b[1;33m=\u001b[0m \u001b[0mStrokeState\u001b[0m\u001b[1;33m.\u001b[0m\u001b[0mfrom_gs\u001b[0m\u001b[1;33m(\u001b[0m\u001b[0mgraphicstate\u001b[0m\u001b[1;33m)\u001b[0m \u001b[1;32mif\u001b[0m \u001b[0mstroked\u001b[0m \u001b[1;32melse\u001b[0m \u001b[1;32mNone\u001b[0m\u001b[1;33m\u001b[0m\u001b[1;33m\u001b[0m\u001b[0m\n\u001b[1;32m--> 246\u001b[1;33m         \u001b[0mfill\u001b[0m \u001b[1;33m=\u001b[0m \u001b[0mFillState\u001b[0m\u001b[1;33m.\u001b[0m\u001b[0mfrom_gs\u001b[0m\u001b[1;33m(\u001b[0m\u001b[0mgraphicstate\u001b[0m\u001b[1;33m)\u001b[0m \u001b[1;32mif\u001b[0m \u001b[0mfilled\u001b[0m \u001b[1;32melse\u001b[0m \u001b[1;32mNone\u001b[0m\u001b[1;33m\u001b[0m\u001b[1;33m\u001b[0m\u001b[0m\n\u001b[0m\u001b[0;32m    247\u001b[0m         \u001b[0mself\u001b[0m\u001b[1;33m.\u001b[0m\u001b[0mpage\u001b[0m\u001b[1;33m.\u001b[0m\u001b[0madd_shape\u001b[0m\u001b[1;33m(\u001b[0m\u001b[0mShape\u001b[0m\u001b[1;33m(\u001b[0m\u001b[0mstroke\u001b[0m\u001b[1;33m,\u001b[0m \u001b[0mfill\u001b[0m\u001b[1;33m,\u001b[0m \u001b[0mevenodd\u001b[0m\u001b[1;33m,\u001b[0m \u001b[0mdevice_path\u001b[0m\u001b[1;33m)\u001b[0m\u001b[1;33m)\u001b[0m\u001b[1;33m\u001b[0m\u001b[1;33m\u001b[0m\u001b[0m\n\u001b[0;32m    248\u001b[0m \u001b[1;33m\u001b[0m\u001b[0m\n",
      "\u001b[1;32mE:\\anaconda\\lib\\site-packages\\minecart\\miner.py\u001b[0m in \u001b[0;36mfrom_gs\u001b[1;34m(cls, graphics)\u001b[0m\n\u001b[0;32m     89\u001b[0m         \u001b[1;34m\"Creates a new FillState from a ColoredState object.\"\u001b[0m\u001b[1;33m\u001b[0m\u001b[1;33m\u001b[0m\u001b[0m\n\u001b[0;32m     90\u001b[0m         \u001b[0mret\u001b[0m \u001b[1;33m=\u001b[0m \u001b[0mcls\u001b[0m\u001b[1;33m(\u001b[0m\u001b[1;33m)\u001b[0m\u001b[1;33m\u001b[0m\u001b[1;33m\u001b[0m\u001b[0m\n\u001b[1;32m---> 91\u001b[1;33m         \u001b[0mret\u001b[0m\u001b[1;33m.\u001b[0m\u001b[0mcolor\u001b[0m \u001b[1;33m=\u001b[0m \u001b[0mgraphics\u001b[0m\u001b[1;33m.\u001b[0m\u001b[0mfill_color\u001b[0m\u001b[1;33m\u001b[0m\u001b[1;33m\u001b[0m\u001b[0m\n\u001b[0m\u001b[0;32m     92\u001b[0m         \u001b[1;32mreturn\u001b[0m \u001b[0mret\u001b[0m\u001b[1;33m\u001b[0m\u001b[1;33m\u001b[0m\u001b[0m\n\u001b[0;32m     93\u001b[0m \u001b[1;33m\u001b[0m\u001b[0m\n",
      "\u001b[1;31mAttributeError\u001b[0m: 'PDFGraphicState' object has no attribute 'fill_color'"
     ]
    }
   ],
   "source": [
    "doc = minecart.Document(open(\"Fintech100-10-11.pdf\", 'rb'))\n",
    "doc.get_page(1)\n",
    "#a = \"\"\n",
    "#for i in doc.get_page(0).letterings:#.iter_in_bbox((36, 36, 300, 376)):\n",
    " #   a = a + i\n",
    "#print(a)"
   ]
  },
  {
   "cell_type": "code",
   "execution_count": 25,
   "metadata": {},
   "outputs": [],
   "source": [
    "ROW_BORDERS = (\n",
    " 72 * 1, # Bottom row starts 1 inch from the bottom of the page\n",
    " 72 * 3, # Second row starts 3 inches from the bottom of the page\n",
    " 72 * 5, # Third row starts 5 inches from the bottom of the page\n",
    " 72 * 7, # Third row ends 7 inches from the bottom of the page\n",
    ")\n",
    "COLUMN_BORDERS = (\n",
    " 72 * 8, # Third col ends 8 inches from the left of the page\n",
    " 72 * 6, # Third col starts 6 inches from the left of the page\n",
    " 72 * 4, # Second col starts 4 inches from the left of the page \n",
    " 72 * 2, # First col starts 2 inches from the left of the page\n",
    ") # reversed so that BOXES is ordered properly\n",
    "BOXES = [\n",
    " (left, bot, right, top)\n",
    " for top, bot in zip(ROW_BORDERS, ROW_BORDERS[1:])\n",
    " for left, right in zip(COLUMN_BORDERS, COLUMN_BORDERS[1:])\n",
    "]"
   ]
  },
  {
   "cell_type": "code",
   "execution_count": 26,
   "metadata": {},
   "outputs": [
    {
     "data": {
      "text/plain": [
       "[(576, 216, 432, 72),\n",
       " (432, 216, 288, 72),\n",
       " (288, 216, 144, 72),\n",
       " (576, 360, 432, 216),\n",
       " (432, 360, 288, 216),\n",
       " (288, 360, 144, 216),\n",
       " (576, 504, 432, 360),\n",
       " (432, 504, 288, 360),\n",
       " (288, 504, 144, 360)]"
      ]
     },
     "execution_count": 26,
     "metadata": {},
     "output_type": "execute_result"
    }
   ],
   "source": [
    "BOXES"
   ]
  },
  {
   "cell_type": "code",
   "execution_count": 73,
   "metadata": {},
   "outputs": [],
   "source": [
    "# minecart units are 1/72 inch, measured from bottom-left of the page\n",
    "ROW_BORDERS = (\n",
    "    72 * 1,  # Bottom row starts 1 inch from the bottom of the page\n",
    "    72 * 3,  # Second row starts 3 inches from the bottom of the page\n",
    "    72 * 5,  # Third row starts 5 inches from the bottom of the page\n",
    "    72 * 7,  # Third row ends 7 inches from the bottom of the page\n",
    ")\n",
    "COLUMN_BORDERS = (\n",
    "    72 * 8,  # Third col ends 8 inches from the left of the page\n",
    "    72 * 6,  # Third col starts 6 inches from the left of the page\n",
    "    72 * 4,  # Second col starts 4 inches from the left of the page   \n",
    "    72 * 2,  # First col starts 2 inches from the left of the page\n",
    ")  # reversed so that BOXES is ordered properly\n",
    "BOXES = [\n",
    "    (left, bot, right, top)\n",
    "    for top, bot in zip(ROW_BORDERS, ROW_BORDERS[1:])\n",
    "    for left, right in zip(COLUMN_BORDERS, COLUMN_BORDERS[1:])\n",
    "]\n",
    "\n",
    "def extract_output(page):\n",
    "    \"\"\"\n",
    "    Reads the text from page and splits it into the 9 cells.\n",
    "\n",
    "    Returns a list with 9 entries: \n",
    "\n",
    "        [A, B, C, D, E, F, G, H, I]\n",
    "\n",
    "    Each item in the tuple contains a string with all of the\n",
    "    text found in the cell.\n",
    "\n",
    "    \"\"\"\n",
    "    res = []\n",
    "    for box in BOXES:\n",
    "        strings = list(page.letterings.iter_in_bbox(box))\n",
    "        # We sort from top-to-bottom and then from left-to-right, based\n",
    "        # on the strings' top left corner\n",
    "        strings.sort(key=lambda x: (-x.bbox[3], x.bbox[0]))\n",
    "        res.append(\" \".join(strings).replace(u\"\\xa0\", \" \").strip())\n",
    "    return res\n",
    "\n",
    "content = []\n",
    "doc = minecart.Document(open(\"Fintech100-12-111.pdf\", 'rb'))\n",
    "\n",
    "content.append(extract_output(doc.get_page(1)))"
   ]
  },
  {
   "cell_type": "code",
   "execution_count": 74,
   "metadata": {},
   "outputs": [
    {
     "data": {
      "text/plain": [
       "[['', '', '', '', '', '', '', '', '']]"
      ]
     },
     "execution_count": 74,
     "metadata": {},
     "output_type": "execute_result"
    }
   ],
   "source": [
    "content"
   ]
  },
  {
   "cell_type": "code",
   "execution_count": 39,
   "metadata": {},
   "outputs": [
    {
     "ename": "KeyError",
     "evalue": "'DeviceN'",
     "output_type": "error",
     "traceback": [
      "\u001b[1;31m---------------------------------------------------------------------------\u001b[0m",
      "\u001b[1;31mKeyError\u001b[0m                                  Traceback (most recent call last)",
      "\u001b[1;32m<ipython-input-39-d45abc638cc3>\u001b[0m in \u001b[0;36m<module>\u001b[1;34m\u001b[0m\n\u001b[0;32m      1\u001b[0m \u001b[0mpdffile\u001b[0m \u001b[1;33m=\u001b[0m \u001b[0mopen\u001b[0m\u001b[1;33m(\u001b[0m\u001b[1;34m'test.pdf'\u001b[0m\u001b[1;33m,\u001b[0m \u001b[1;34m'rb'\u001b[0m\u001b[1;33m)\u001b[0m\u001b[1;33m\u001b[0m\u001b[1;33m\u001b[0m\u001b[0m\n\u001b[0;32m      2\u001b[0m \u001b[0mdoc\u001b[0m \u001b[1;33m=\u001b[0m \u001b[0mminecart\u001b[0m\u001b[1;33m.\u001b[0m\u001b[0mDocument\u001b[0m\u001b[1;33m(\u001b[0m\u001b[0mpdffile\u001b[0m\u001b[1;33m)\u001b[0m\u001b[1;33m\u001b[0m\u001b[1;33m\u001b[0m\u001b[0m\n\u001b[1;32m----> 3\u001b[1;33m \u001b[0mpage\u001b[0m \u001b[1;33m=\u001b[0m \u001b[0mdoc\u001b[0m\u001b[1;33m.\u001b[0m\u001b[0mget_page\u001b[0m\u001b[1;33m(\u001b[0m\u001b[1;36m0\u001b[0m\u001b[1;33m)\u001b[0m\u001b[1;33m\u001b[0m\u001b[1;33m\u001b[0m\u001b[0m\n\u001b[0m\u001b[0;32m      4\u001b[0m \u001b[1;32mfor\u001b[0m \u001b[0mshape\u001b[0m \u001b[1;32min\u001b[0m \u001b[0mpage\u001b[0m\u001b[1;33m.\u001b[0m\u001b[0mshapes\u001b[0m\u001b[1;33m.\u001b[0m\u001b[0miter_in_bbox\u001b[0m\u001b[1;33m(\u001b[0m\u001b[1;33m(\u001b[0m\u001b[1;36m576\u001b[0m\u001b[1;33m,\u001b[0m \u001b[1;36m216\u001b[0m\u001b[1;33m,\u001b[0m \u001b[1;36m432\u001b[0m\u001b[1;33m,\u001b[0m \u001b[1;36m72\u001b[0m\u001b[1;33m)\u001b[0m\u001b[1;33m)\u001b[0m\u001b[1;33m:\u001b[0m\u001b[1;33m\u001b[0m\u001b[1;33m\u001b[0m\u001b[0m\n\u001b[0;32m      5\u001b[0m     \u001b[0mprint\u001b[0m\u001b[1;33m(\u001b[0m\u001b[0mshape\u001b[0m\u001b[1;33m.\u001b[0m\u001b[0mpath\u001b[0m\u001b[1;33m,\u001b[0m \u001b[0mshape\u001b[0m\u001b[1;33m.\u001b[0m\u001b[0mfill\u001b[0m\u001b[1;33m.\u001b[0m\u001b[0mcolor\u001b[0m\u001b[1;33m.\u001b[0m\u001b[0mas_rgb\u001b[0m\u001b[1;33m(\u001b[0m\u001b[1;33m)\u001b[0m\u001b[1;33m)\u001b[0m\u001b[1;33m\u001b[0m\u001b[1;33m\u001b[0m\u001b[0m\n",
      "\u001b[1;32mE:\\anaconda\\lib\\site-packages\\minecart\\miner.py\u001b[0m in \u001b[0;36mget_page\u001b[1;34m(self, num)\u001b[0m\n\u001b[0;32m    348\u001b[0m         \u001b[1;32mfor\u001b[0m \u001b[0mi\u001b[0m\u001b[1;33m,\u001b[0m \u001b[0mpage\u001b[0m \u001b[1;32min\u001b[0m \u001b[0menumerate\u001b[0m\u001b[1;33m(\u001b[0m\u001b[0mself\u001b[0m\u001b[1;33m.\u001b[0m\u001b[0mdoc\u001b[0m\u001b[1;33m.\u001b[0m\u001b[0mget_pages\u001b[0m\u001b[1;33m(\u001b[0m\u001b[1;33m)\u001b[0m\u001b[1;33m)\u001b[0m\u001b[1;33m:\u001b[0m\u001b[1;33m\u001b[0m\u001b[1;33m\u001b[0m\u001b[0m\n\u001b[0;32m    349\u001b[0m             \u001b[1;32mif\u001b[0m \u001b[0mi\u001b[0m \u001b[1;33m==\u001b[0m \u001b[0mnum\u001b[0m\u001b[1;33m:\u001b[0m\u001b[1;33m\u001b[0m\u001b[1;33m\u001b[0m\u001b[0m\n\u001b[1;32m--> 350\u001b[1;33m                 \u001b[0mself\u001b[0m\u001b[1;33m.\u001b[0m\u001b[0minterpreter\u001b[0m\u001b[1;33m.\u001b[0m\u001b[0mprocess_page\u001b[0m\u001b[1;33m(\u001b[0m\u001b[0mpage\u001b[0m\u001b[1;33m)\u001b[0m\u001b[1;33m\u001b[0m\u001b[1;33m\u001b[0m\u001b[0m\n\u001b[0m\u001b[0;32m    351\u001b[0m                 \u001b[1;32mreturn\u001b[0m \u001b[0mself\u001b[0m\u001b[1;33m.\u001b[0m\u001b[0mdevice\u001b[0m\u001b[1;33m.\u001b[0m\u001b[0mpage\u001b[0m\u001b[1;33m\u001b[0m\u001b[1;33m\u001b[0m\u001b[0m\n",
      "\u001b[1;32mE:\\anaconda\\lib\\site-packages\\pdfminer\\pdfinterp.py\u001b[0m in \u001b[0;36mprocess_page\u001b[1;34m(self, page)\u001b[0m\n\u001b[0;32m    640\u001b[0m             \u001b[0mctm\u001b[0m \u001b[1;33m=\u001b[0m \u001b[1;33m(\u001b[0m\u001b[1;36m1\u001b[0m\u001b[1;33m,\u001b[0m\u001b[1;36m0\u001b[0m\u001b[1;33m,\u001b[0m\u001b[1;36m0\u001b[0m\u001b[1;33m,\u001b[0m\u001b[1;36m1\u001b[0m\u001b[1;33m,\u001b[0m \u001b[1;33m-\u001b[0m\u001b[0mx0\u001b[0m\u001b[1;33m,\u001b[0m\u001b[1;33m-\u001b[0m\u001b[0my0\u001b[0m\u001b[1;33m)\u001b[0m\u001b[1;33m\u001b[0m\u001b[1;33m\u001b[0m\u001b[0m\n\u001b[0;32m    641\u001b[0m         \u001b[0mself\u001b[0m\u001b[1;33m.\u001b[0m\u001b[0mdevice\u001b[0m\u001b[1;33m.\u001b[0m\u001b[0mbegin_page\u001b[0m\u001b[1;33m(\u001b[0m\u001b[0mpage\u001b[0m\u001b[1;33m,\u001b[0m \u001b[0mctm\u001b[0m\u001b[1;33m)\u001b[0m\u001b[1;33m\u001b[0m\u001b[1;33m\u001b[0m\u001b[0m\n\u001b[1;32m--> 642\u001b[1;33m         \u001b[0mself\u001b[0m\u001b[1;33m.\u001b[0m\u001b[0mrender_contents\u001b[0m\u001b[1;33m(\u001b[0m\u001b[0mpage\u001b[0m\u001b[1;33m.\u001b[0m\u001b[0mresources\u001b[0m\u001b[1;33m,\u001b[0m \u001b[0mpage\u001b[0m\u001b[1;33m.\u001b[0m\u001b[0mcontents\u001b[0m\u001b[1;33m,\u001b[0m \u001b[0mctm\u001b[0m\u001b[1;33m=\u001b[0m\u001b[0mctm\u001b[0m\u001b[1;33m)\u001b[0m\u001b[1;33m\u001b[0m\u001b[1;33m\u001b[0m\u001b[0m\n\u001b[0m\u001b[0;32m    643\u001b[0m         \u001b[0mself\u001b[0m\u001b[1;33m.\u001b[0m\u001b[0mdevice\u001b[0m\u001b[1;33m.\u001b[0m\u001b[0mend_page\u001b[0m\u001b[1;33m(\u001b[0m\u001b[0mpage\u001b[0m\u001b[1;33m)\u001b[0m\u001b[1;33m\u001b[0m\u001b[1;33m\u001b[0m\u001b[0m\n\u001b[0;32m    644\u001b[0m \u001b[1;33m\u001b[0m\u001b[0m\n",
      "\u001b[1;32mE:\\anaconda\\lib\\site-packages\\pdfminer\\pdfinterp.py\u001b[0m in \u001b[0;36mrender_contents\u001b[1;34m(self, resources, streams, ctm)\u001b[0m\n\u001b[0;32m    648\u001b[0m     \u001b[1;32mdef\u001b[0m \u001b[0mrender_contents\u001b[0m\u001b[1;33m(\u001b[0m\u001b[0mself\u001b[0m\u001b[1;33m,\u001b[0m \u001b[0mresources\u001b[0m\u001b[1;33m,\u001b[0m \u001b[0mstreams\u001b[0m\u001b[1;33m,\u001b[0m \u001b[0mctm\u001b[0m\u001b[1;33m=\u001b[0m\u001b[0mMATRIX_IDENTITY\u001b[0m\u001b[1;33m)\u001b[0m\u001b[1;33m:\u001b[0m\u001b[1;33m\u001b[0m\u001b[1;33m\u001b[0m\u001b[0m\n\u001b[0;32m    649\u001b[0m         \u001b[0mlogger\u001b[0m\u001b[1;33m.\u001b[0m\u001b[0mdebug\u001b[0m\u001b[1;33m(\u001b[0m\u001b[1;34m'render_contents: resources=%r, streams=%r, ctm=%r'\u001b[0m\u001b[1;33m,\u001b[0m \u001b[0mresources\u001b[0m\u001b[1;33m,\u001b[0m \u001b[0mstreams\u001b[0m\u001b[1;33m,\u001b[0m \u001b[0mctm\u001b[0m\u001b[1;33m)\u001b[0m\u001b[1;33m\u001b[0m\u001b[1;33m\u001b[0m\u001b[0m\n\u001b[1;32m--> 650\u001b[1;33m         \u001b[0mself\u001b[0m\u001b[1;33m.\u001b[0m\u001b[0minit_resources\u001b[0m\u001b[1;33m(\u001b[0m\u001b[0mresources\u001b[0m\u001b[1;33m)\u001b[0m\u001b[1;33m\u001b[0m\u001b[1;33m\u001b[0m\u001b[0m\n\u001b[0m\u001b[0;32m    651\u001b[0m         \u001b[0mself\u001b[0m\u001b[1;33m.\u001b[0m\u001b[0minit_state\u001b[0m\u001b[1;33m(\u001b[0m\u001b[0mctm\u001b[0m\u001b[1;33m)\u001b[0m\u001b[1;33m\u001b[0m\u001b[1;33m\u001b[0m\u001b[0m\n\u001b[0;32m    652\u001b[0m         \u001b[0mself\u001b[0m\u001b[1;33m.\u001b[0m\u001b[0mexecute\u001b[0m\u001b[1;33m(\u001b[0m\u001b[0mlist_value\u001b[0m\u001b[1;33m(\u001b[0m\u001b[0mstreams\u001b[0m\u001b[1;33m)\u001b[0m\u001b[1;33m)\u001b[0m\u001b[1;33m\u001b[0m\u001b[1;33m\u001b[0m\u001b[0m\n",
      "\u001b[1;32mE:\\anaconda\\lib\\site-packages\\minecart\\miner.py\u001b[0m in \u001b[0;36minit_resources\u001b[1;34m(self, resources)\u001b[0m\n\u001b[0;32m    143\u001b[0m         \u001b[1;31m# entries in the csmap with this name with the original color spaces.\u001b[0m\u001b[1;33m\u001b[0m\u001b[1;33m\u001b[0m\u001b[1;33m\u001b[0m\u001b[0m\n\u001b[0;32m    144\u001b[0m         \u001b[1;32mfor\u001b[0m \u001b[0mcsname\u001b[0m\u001b[1;33m,\u001b[0m \u001b[0mspec\u001b[0m \u001b[1;32min\u001b[0m \u001b[0mpdfminer\u001b[0m\u001b[1;33m.\u001b[0m\u001b[0mpdftypes\u001b[0m\u001b[1;33m.\u001b[0m\u001b[0mdict_value\u001b[0m\u001b[1;33m(\u001b[0m\u001b[0mspaces\u001b[0m\u001b[1;33m)\u001b[0m\u001b[1;33m.\u001b[0m\u001b[0mitems\u001b[0m\u001b[1;33m(\u001b[0m\u001b[1;33m)\u001b[0m\u001b[1;33m:\u001b[0m\u001b[1;33m\u001b[0m\u001b[1;33m\u001b[0m\u001b[0m\n\u001b[1;32m--> 145\u001b[1;33m             \u001b[0mself\u001b[0m\u001b[1;33m.\u001b[0m\u001b[0mcsmap\u001b[0m\u001b[1;33m[\u001b[0m\u001b[0mcsname\u001b[0m\u001b[1;33m]\u001b[0m \u001b[1;33m=\u001b[0m \u001b[0mcolor\u001b[0m\u001b[1;33m.\u001b[0m\u001b[0mmake_color_space\u001b[0m\u001b[1;33m(\u001b[0m\u001b[0mspec\u001b[0m\u001b[1;33m)\u001b[0m\u001b[1;33m\u001b[0m\u001b[1;33m\u001b[0m\u001b[0m\n\u001b[0m\u001b[0;32m    146\u001b[0m         self.csmap.update(\n\u001b[0;32m    147\u001b[0m             \u001b[1;33m(\u001b[0m\u001b[0mname\u001b[0m\u001b[1;33m,\u001b[0m \u001b[0mcolor\u001b[0m\u001b[1;33m.\u001b[0m\u001b[0mFAMILIES\u001b[0m\u001b[1;33m[\u001b[0m\u001b[0mname\u001b[0m\u001b[1;33m]\u001b[0m\u001b[1;33m.\u001b[0m\u001b[0mmake_space\u001b[0m\u001b[1;33m(\u001b[0m\u001b[1;33m)\u001b[0m\u001b[1;33m)\u001b[0m\u001b[1;33m\u001b[0m\u001b[1;33m\u001b[0m\u001b[0m\n",
      "\u001b[1;32mE:\\anaconda\\lib\\site-packages\\minecart\\color.py\u001b[0m in \u001b[0;36mmake_color_space\u001b[1;34m(spec)\u001b[0m\n\u001b[0;32m    567\u001b[0m         \u001b[0mname\u001b[0m \u001b[1;33m=\u001b[0m \u001b[0mpdfminer\u001b[0m\u001b[1;33m.\u001b[0m\u001b[0mpsparser\u001b[0m\u001b[1;33m.\u001b[0m\u001b[0mliteral_name\u001b[0m\u001b[1;33m(\u001b[0m\u001b[0mspec\u001b[0m\u001b[1;33m)\u001b[0m\u001b[1;33m\u001b[0m\u001b[1;33m\u001b[0m\u001b[0m\n\u001b[0;32m    568\u001b[0m         \u001b[0mparams\u001b[0m \u001b[1;33m=\u001b[0m \u001b[1;33m[\u001b[0m\u001b[1;33m]\u001b[0m\u001b[1;33m\u001b[0m\u001b[1;33m\u001b[0m\u001b[0m\n\u001b[1;32m--> 569\u001b[1;33m     \u001b[1;32mreturn\u001b[0m \u001b[0mFAMILIES\u001b[0m\u001b[1;33m[\u001b[0m\u001b[0mname\u001b[0m\u001b[1;33m]\u001b[0m\u001b[1;33m.\u001b[0m\u001b[0mmake_space\u001b[0m\u001b[1;33m(\u001b[0m\u001b[0mparams\u001b[0m\u001b[1;33m)\u001b[0m\u001b[1;33m\u001b[0m\u001b[1;33m\u001b[0m\u001b[0m\n\u001b[0m",
      "\u001b[1;31mKeyError\u001b[0m: 'DeviceN'"
     ]
    }
   ],
   "source": [
    ">>> pdffile = open('test.pdf', 'rb')\n",
    ">>> doc = minecart.Document(pdffile)\n",
    ">>> page = doc.get_page(0)\n",
    ">>> for shape in page.shapes.iter_in_bbox((576, 216, 432, 72)):\n",
    "...     print(shape.path, shape.fill.color.as_rgb())"
   ]
  },
  {
   "cell_type": "markdown",
   "metadata": {},
   "source": [
    "## 得到每一页内容"
   ]
  },
  {
   "cell_type": "code",
   "execution_count": 3,
   "metadata": {},
   "outputs": [],
   "source": [
    "name_box = (0,688,288,835)\n",
    "description_investor_box = (30, 30, 300, 376)\n",
    "glance_box = (288,41,576,376)"
   ]
  },
  {
   "cell_type": "code",
   "execution_count": 29,
   "metadata": {},
   "outputs": [],
   "source": [
    "doc = minecart.Document(open(\"Fintech100-12-111.pdf\", 'rb'))"
   ]
  },
  {
   "cell_type": "code",
   "execution_count": 30,
   "metadata": {},
   "outputs": [
    {
     "data": {
      "text/plain": [
       "'01Ant Financial'"
      ]
     },
     "execution_count": 30,
     "metadata": {},
     "output_type": "execute_result"
    }
   ],
   "source": [
    "\"\".join(doc.get_page(0).letterings.iter_in_bbox(name_box))"
   ]
  },
  {
   "cell_type": "code",
   "execution_count": 31,
   "metadata": {},
   "outputs": [
    {
     "data": {
      "text/plain": [
       "'Company DescriptionAnt Financial Services Group is dedicated to using technology to bring the world equal opportunities. Their technologies, including blockchain, artificial intelligence, sercurity, Internet of Things and computing, has helped Ant Financial and their ecosystem partners to serve the unbanked and underbanked. By the end of March 2018, together with their JV partners, Ant Financial served 870 million users worldwide. Brands under Ant Financial include Alipay, Ant Fortune, Yu’e Bao, Zhima Credit, MYbank and Ant Financial Cloud.Notable InvestorsTemasek Holdings, GIC, China Investment Corp (CIC), CCB Trust, China Life, China Post Group, China Development Bank Capital, Primavera Capital Group, National Social Security Fund (NSSF)'"
      ]
     },
     "execution_count": 31,
     "metadata": {},
     "output_type": "execute_result"
    }
   ],
   "source": [
    "doc = minecart.Document(open(\"Fintech100-12-111.pdf\", 'rb'))\n",
    "\"\".join(doc.get_page(0).letterings.iter_in_bbox(description_investor_box))"
   ]
  },
  {
   "cell_type": "code",
   "execution_count": 32,
   "metadata": {},
   "outputs": [
    {
     "data": {
      "text/plain": [
       "'Tagline Bring small and beautiful changes to the worldLocated  ChinaYear Founded  2004Key People  Eric JingWebsite  antgroup.comCategory  MultiOwnership  PrivateRank Last Year  01Staff👤 👤 👤 👤 👤 At a Glance'"
      ]
     },
     "execution_count": 32,
     "metadata": {},
     "output_type": "execute_result"
    }
   ],
   "source": [
    "doc = minecart.Document(open(\"Fintech100-12-111.pdf\", 'rb'))\n",
    "\"\".join(doc.get_page(0).letterings.iter_in_bbox(glance_box))"
   ]
  },
  {
   "cell_type": "code",
   "execution_count": 33,
   "metadata": {},
   "outputs": [
    {
     "data": {
      "text/plain": [
       "<minecart.miner.Document at 0x1ecda540dd8>"
      ]
     },
     "execution_count": 33,
     "metadata": {},
     "output_type": "execute_result"
    }
   ],
   "source": [
    "doc"
   ]
  },
  {
   "cell_type": "code",
   "execution_count": 46,
   "metadata": {},
   "outputs": [],
   "source": [
    "file = open(\"Fintech100-12-111.pdf\", 'rb')\n",
    "doc = minecart.Document(file)\n",
    "# page_0 =doc.get_page(0)\n",
    "# page_1 =doc.get_page(1)"
   ]
  },
  {
   "cell_type": "code",
   "execution_count": 18,
   "metadata": {},
   "outputs": [
    {
     "data": {
      "text/plain": [
       "'Company DescriptionAnt Financial Services Group is dedicated to using technology to bring the world equal opportunities. Their technologies, including blockchain, artificial intelligence, sercurity, Internet of Things and computing, has helped Ant Financial and their ecosystem partners to serve the unbanked and underbanked. By the end of March 2018, together with their JV partners, Ant Financial served 870 million users worldwide. Brands under Ant Financial include Alipay, Ant Fortune, Yu’e Bao, Zhima Credit, MYbank and Ant Financial Cloud.Notable InvestorsTemasek Holdings, GIC, China Investment Corp (CIC), CCB Trust, China Life, China Post Group, China Development Bank Capital, Primavera Capital Group, National Social Security Fund (NSSF)'"
      ]
     },
     "execution_count": 18,
     "metadata": {},
     "output_type": "execute_result"
    }
   ],
   "source": [
    "\"\".join(page_0.letterings.iter_in_bbox(description_investor_box))"
   ]
  },
  {
   "cell_type": "code",
   "execution_count": 19,
   "metadata": {},
   "outputs": [
    {
     "data": {
      "text/plain": [
       "'01Ant Financial'"
      ]
     },
     "execution_count": 19,
     "metadata": {},
     "output_type": "execute_result"
    }
   ],
   "source": [
    "\"\".join(page_0.letterings.iter_in_bbox(name_box))"
   ]
  },
  {
   "cell_type": "code",
   "execution_count": 21,
   "metadata": {},
   "outputs": [
    {
     "data": {
      "text/plain": [
       "'Tagline Bring small and beautiful changes to the worldLocated  ChinaYear Founded  2004Key People  Eric JingWebsite  antgroup.comCategory  MultiOwnership  PrivateRank Last Year  01Staff👤 👤 👤 👤 👤 At a Glance'"
      ]
     },
     "execution_count": 21,
     "metadata": {},
     "output_type": "execute_result"
    }
   ],
   "source": [
    "\"\".join(page_0.letterings.iter_in_bbox(glance_box))"
   ]
  },
  {
   "cell_type": "code",
   "execution_count": 37,
   "metadata": {},
   "outputs": [],
   "source": [
    "name = []\n",
    "a = 0\n",
    "while a <100:\n",
    "    page =doc.get_page(a)\n",
    "    name.append(\"\".join(page.letterings.iter_in_bbox(name_box)))\n",
    "    a += 1"
   ]
  },
  {
   "cell_type": "code",
   "execution_count": 38,
   "metadata": {
    "scrolled": true
   },
   "outputs": [
    {
     "data": {
      "text/plain": [
       "['01Ant Financial',\n",
       " '02JD Finance',\n",
       " '03Grab',\n",
       " '04Du Xiaoman Financial',\n",
       " '05SoFi',\n",
       " '06Oscar Health',\n",
       " '07Nubank',\n",
       " '08Robinhood',\n",
       " '09Atom Bank',\n",
       " '10Lufax Holding',\n",
       " '11OneConnnect (PingAn Yi',\n",
       " '1251 Credit Card',\n",
       " '13Revolut',\n",
       " '14Compass',\n",
       " '15Stripe',\n",
       " '16Clover Health',\n",
       " '17Adyen',\n",
       " '18Policybazaar',\n",
       " '19Klarna',\n",
       " '20ACORN O',\n",
       " '21Kreditech Holding',\n",
       " '22Monzo',\n",
       " '23WeLab',\n",
       " '24Number26 (N26)',\n",
       " '25WealthSimple',\n",
       " '26AfterPay Touch',\n",
       " '27Dianrong',\n",
       " '28VivaRepublica (Toss)',\n",
       " '29QUOINE',\n",
       " '30Kabbage',\n",
       " '31Affirm',\n",
       " '32OurCrowd',\n",
       " '33SolarisBank',\n",
       " '34Future Finance',\n",
       " '35Neyber',\n",
       " '36ZhongAn',\n",
       " '37TransferWise',\n",
       " '38Pushpay',\n",
       " '39League Inc.',\n",
       " '40Circle',\n",
       " '41Lendingkart',\n",
       " '42Opendoor',\n",
       " '43Metromile',\n",
       " '44Folio',\n",
       " '45Lendix',\n",
       " '46GuiaBolso',\n",
       " '47Starling Bank',\n",
       " '48Coinbase',\n",
       " '49Airwallex',\n",
       " '50Lemonade',\n",
       " '\\ue801Agri Digital',\n",
       " '\\ue801Anyfin',\n",
       " '\\ue801Aqeed Technology',\n",
       " '\\ue801Bankera',\n",
       " '\\ue801Blackmoon Financial Gr',\n",
       " '\\ue801BlockFi Lending',\n",
       " '\\ue801Brex',\n",
       " '\\ue801Cashaa',\n",
       " '\\ue801Cellulant',\n",
       " '\\ue801Cleo',\n",
       " '\\ue801Coya',\n",
       " '\\ue801Crypterium',\n",
       " '\\ue801DAYLI Financial Group',\n",
       " '\\ue801Dreams',\n",
       " '\\ue801Funding Societies',\n",
       " '\\ue801Geru',\n",
       " '\\ue801InstaReM',\n",
       " '\\ue801Konfio',\n",
       " '\\ue801Kredivo',\n",
       " '\\ue801KyberNetwork',\n",
       " '\\ue801Liwwa',\n",
       " '\\ue801Look Who’s Charging',\n",
       " '\\ue801MoMo',\n",
       " '\\ue801Nod',\n",
       " '\\ue801Omise',\n",
       " '\\ue801Payr',\n",
       " '\\ue801PaySense',\n",
       " '\\ue801PayTabs',\n",
       " '\\ue801Pleo',\n",
       " '\\ue801Polymath',\n",
       " '\\ue801Plussimple (+Simple)',\n",
       " '\\ue801Power Ledger',\n",
       " '\\ue801Pundi X',\n",
       " '\\ue801Quantexa',\n",
       " '\\ue801Recordsure',\n",
       " '\\ue801Ripio Credit Network',\n",
       " '\\ue801Shift Technology',\n",
       " '\\ue801Singlife',\n",
       " '\\ue801Tala',\n",
       " '\\ue801Tally Technologies',\n",
       " '\\ue801TenX',\n",
       " '\\ue801ThisIsMe',\n",
       " '\\ue801Tide',\n",
       " '\\ue801Tiger Brokers',\n",
       " '\\ue801Tpaga',\n",
       " '\\ue801Trade Ledger',\n",
       " '\\ue801Varo Money',\n",
       " '\\ue801Wallet.ng',\n",
       " '\\ue801Wave Money',\n",
       " '\\ue801WeBank']"
      ]
     },
     "execution_count": 38,
     "metadata": {},
     "output_type": "execute_result"
    }
   ],
   "source": [
    "name"
   ]
  },
  {
   "cell_type": "code",
   "execution_count": 43,
   "metadata": {},
   "outputs": [],
   "source": [
    "glance = []\n",
    "a = 0\n",
    "while a <100:\n",
    "    page =doc.get_page(a)\n",
    "    glance.append(\"\".join(page.letterings.iter_in_bbox(glance_box)))\n",
    "    a += 1"
   ]
  },
  {
   "cell_type": "code",
   "execution_count": 44,
   "metadata": {},
   "outputs": [
    {
     "data": {
      "text/plain": [
       "['Tagline Bring small and beautiful changes to the worldLocated  ChinaYear Founded  2004Key People  Eric JingWebsite  antgroup.comCategory  MultiOwnership  PrivateRank Last Year  01Staff👤 👤 👤 👤 👤 At a Glance',\n",
       " 'Tagline Creating a Better Future with TechnologyLocated  ChinaYear Founded  2013Key People  Shengqiang ChenWebsite  jr.jd.comCategory  MultiOwnership  PrivateRank Last Year  09Staff👤 👤 👤 👤 👤 At a Glance',\n",
       " 'Tagline Go cashless. Pay seamlessly.Located  SingaporeYear Founded  2012Key People  Anthony TanWebsite  grab.comCategory  MultiOwnership  PrivateRank Last Year  New to the listStaff👤 👤 👤 👤 👤 At a Glance',\n",
       " 'Tagline Xiaoxiao Finance Located  ChinaYear Founded  2015Key People  Zhu Guang  Website  jinrong.baidu.comCategory  MultiOwnership  PrivateRank Last Year  New to the listStaff👤 👤 👤 👤 👤 At a Glance',\n",
       " 'Tagline A finance company that can help you get ahead Located  United StatesYear Founded  2011Key People  Anthony NotoWebsite  sofi.comCategory  LendingOwnership  PrivateRank Last Year  11Staff👤 👤 👤 👤 👤 At a Glance',\n",
       " 'Tagline Easy health insurance for you and your business.Located  United StatesYear Founded  2013Key People  Mario SchlosserJoshua KushnerWebsite  hioscar.comCategory  InsuranceOwnership  PrivateRank Last Year  04Staff👤 👤 👤 👤 👤 At a Glance',\n",
       " 'Tagline You control your finances.Located  BrazilYear Founded  2013Key People  David VélezWebsite  www.nubank.com.brCategory  Neo-BankOwnership  PrivateRank Last Year  12Staff👤 👤 👤 👤 👤 At a Glance',\n",
       " 'Tagline Invest for FreeLocated  United StatesYear Founded  2013Key People  Baiju BhattVladimir TenevNate RodlandWebsite  www.robinhood.comCategory  WealthOwnership  PrivateRank Last Year  50Staff👤 👤 👤 👤 👤 At a Glance',\n",
       " 'Tagline The future of banking, available todayLocated  United KingdomYear Founded  2014Key People  Anthony ThomsonMark MullenWebsite  www.atombank.co.ukCategory  Neo-BankOwnership  PrivateRank Last Year  08Staff👤 👤 👤 👤 👤 At a Glance',\n",
       " 'Tagline Wealth management platform, investment and financingLocated  ChinaYear Founded  2011Key People  Li Renjie  Gregory GibbJames ZhengWebsite  lu.comCategory  Multi/WealthOwnership  PrivateRank Last Year  06Staff👤 👤 👤 👤 👤 At a Glance',\n",
       " 'Tagline Technology Makes Finance EasierLocated  ChinaYear Founded  2015Key People  Ye WangchunWebsite  jryzt.comCategory  OtherOwnership  PrivateRank Last Year  New to the listStaff👤 👤 👤 👤 👤 At a Glance',\n",
       " 'TaglinePlatform focused on providing social network application services.Located  ChinaYear Founded  2012Key People  Sun HaitaoWebsite  u51.comCategory  WealthOwnership  PublicRank Last Year  27Staff👤 👤 👤 👤 👤 At a Glance',\n",
       " 'Tagline Your digital banking alternativeLocated  United KingdomYear Founded  2015Key People  Nikolay StoronskyWebsite  revolut.comCategory  PaymentsOwnership  PrivateRank Last Year  22Staff👤 👤 👤 👤 👤 At a Glance',\n",
       " 'Tagline Let us guide you homeLocated  United StatesYear Founded  2012Key People  Ori Allon, Robert Reffkin, Ugo Di GirolamoWebsite  compass.comCategory  PaymentsOwnership  PrivateRank Last Year  New to the listStaff👤 👤 👤 👤 👤 At a Glance',\n",
       " 'Tagline The new standard in online paymentsLocated  United StatesYear Founded  2011Key People  John CollisonPatrick CollisonWebsite  stripe.comCategory  PaymentsOwnership  PrivateRank Last Year  17Staff👤 👤 👤 👤 👤 At a Glance',\n",
       " 'Tagline Medicare done differentlyLocated  United StatesYear Founded  2013Key People  Vivek GaripalliKris GaleWebsite  cloverhealth.comCategory  InsuranceOwnership  PrivateRank Last Year  23Staff👤 👤 👤 👤 👤 At a Glance',\n",
       " 'Tagline Wherever people payLocated  NetherlandsYear Founded  2006Key People  Pieter van der DoesArnout SchuijffSam HalseWebsite  adyen.comCategory  PaymentsOwnership  PublicRank Last Year  20Staff👤 👤 👤 👤 👤 At a Glance',\n",
       " 'Tagline India’s Best Insurance DestinationLocated  IndiaYear Founded  2008Key People  Alok BansalYashish DahiyaWebsite  policybazaar.comCategory  InsuranceOwnership  PrivateRank Last Year  Did not rank in 2017Staff👤 👤 👤 👤 👤 At a Glance',\n",
       " 'Tagline Making buying and selling online simple.Located  SwedenYear Founded  2005Key People  Sebastian SiemiatkowskVictor Jacobsson Niklas AdalberthWebsite  klarna.comCategory  PaymentsOwnership  PrivateRank Last Year  14Staff👤 👤 👤 👤 👤 At a Glance',\n",
       " 'Tagline Debt finance to businesses.Located  United KingdomYear Founded  2015Key People  Joel PerlmanRishi KhoslaWebsite  oaknorth.comCategory  LendingOwnership  PrivateRank Last Year  New to the list Staff👤 👤 👤 👤 👤 At a Glance',\n",
       " 'Tagline We’re building better access to credit through technology.Located  GermanyYear Founded  2012Key People  Alexander MullerSebastian DiemerRene GriemensWebsite  kreditech.comCategory  LendingOwnership  PrivateRank Last Year  07Staff👤 👤 👤 👤 👤 At a Glance',\n",
       " 'Tagline The bank of futureLocated  United KingdomYear Founded  2015Key People  Jonas Huckestein Tom BlomfieldWebsite  monzo.comCategory  Neo-BankOwnership  PrivateRank Last Year  New to the listStaff👤 👤 👤 👤 👤 At a Glance',\n",
       " 'Tagline We’re decentralizing financeLocated  ChinaYear Founded  2013Key People  Simon LoongKelly Wong Frances Kang Tzu-pingWebsite  welab.coCategory  LendingOwnership  PrivateRank Last Year  36Staff👤 👤 👤 👤 👤 At a Glance',\n",
       " 'Tagline The simplest way to bankLocated  GermanyYear Founded  2013Key People  Maximilian Tayenthal Valentin StalfWebsite  number26.euCategory  Neo-BankOwnership  PrivateRank Last Year  New to the listStaff👤 👤 👤 👤 👤 At a Glance',\n",
       " 'Tagline Investing on AutopilotLocated  CanadaYear Founded  2014Key People  Michael Katchen Dave NugentWebsite  wealthsimple.comCategory  WealthOwnership  PrivateRank Last Year  29Staff👤 👤 👤 👤 👤 At a Glance',\n",
       " 'Tagline Shop Now. Pay Later. In 4 Simple Instalments.Located  AustraliaYear Founded  2014Key People  Nick MolnarAnthony EisenWebsite  afterpay.com.auCategory  PaymentsOwnership  PublicRank Last Year  44Staff👤 👤 👤 👤 👤 At a Glance',\n",
       " 'Tagline The New Finance. For borrowers. For lenders. For you.Located  ChinaYear Founded  2012Key People Yuhang GuoSoul HtiteWebsite  dianrong.comCategory  LendingOwnership  PrivateRank Last Year  31Staff👤 👤 👤 👤 👤 At a Glance',\n",
       " 'Tagline Mobile Finance As It Should Be.Located  KoreaYear Founded  2013Key People  Seung Geon LeeWebsite  toss.imCategory  PaymentsOwnership  PrivateRank Last Year  35Staff👤 👤 👤 👤 👤 At a Glance',\n",
       " 'Tagline Financial Services on the BlockchainLocated  JapanYear Founded  2014Key People  Mike KayamoriMario Gomez-LozadaWebsite  quoine.comCategory  WealthOwnership  PrivateRank Last Year  New to the listStaff👤 👤 👤 👤 👤 At a Glance',\n",
       " 'Tagline Small Business Funding for the Real WorldLocated  United StatesYear Founded  2008Key People  Rob FrohweinMarc GorlinKathryn PetraliaWebsite  kabbage.comCategory  LendingOwnership  PrivateRank Last Year  10Staff👤 👤 👤 👤 👤 At a Glance',\n",
       " 'Tagline Pay over time, on your termsLocated  United StatesYear Founded  2012Key People  Max LevchinWebsite  affirm.comCategory  LendingOwnership  PrivateRank Last Year  21Staff👤 👤 👤 👤 👤 At a Glance',\n",
       " 'Tagline A better way to invest in Israeli startupsLocated  IsraelYear Founded  2012Key People  John MedvedSteven BlumgartWebsite  ourcrowd.comCategory  WealthOwnership  PrivateRank Last Year  25Staff👤 👤 👤 👤 👤 At a Glance',\n",
       " 'Tagline Enabling your business to offer financial servicesLocated  GermanyYear Founded  2016Key People  Andreas BittnerMarko WenthinRoland FolzWebsite  solarisbank.deCategory  Neo-BankOwnership  PrivateRank Last Year  19Staff👤 👤 👤 👤 👤 At a Glance',\n",
       " 'Tagline Helping students achieve their dreamsLocated  IrelandYear Founded  2013Key People  Olga DolchenkoWebsite  futurefinance.comCategory  LendingOwnership  PrivateRank Last Year  39Staff👤 👤 👤 👤 👤 At a Glance',\n",
       " 'Tagline An Employee Benefit To Improve Financial WellbeingLocated  United KingdomYear Founded  2014Key People  Martin IjahaEzechi BrittonMonica KaliaWebsite  neyber.co.ukCategory  WealthOwnership  PrivateRank Last Year  Emerging CompanyStaff👤 👤 👤 👤 👤 At a Glance',\n",
       " 'Tagline Tailored InsuranceLocated  ChinaYear Founded  2013Key People  Chen JinXu Wei Jiang XingWebsite  zhongan.comCategory  InsuranceOwnership  PublicRank Last Year  02Staff👤 👤 👤 👤 👤 At a Glance',\n",
       " 'Tagline Banks charge a lot for overseas transfers. We don’t.Located  United KingdomYear Founded  2010Key People  Kristo KaarmanTaavet HirikusWebsite  transferwise.comCategory  PaymentsOwnership  PrivateRank Last Year  Did not rank in 2017Staff👤 👤 👤 👤 👤 At a Glance',\n",
       " 'Tagline Mobile giving and engagement solutionsLocated  New Zealand, United StatesYear Founded  2011Key People  Chris HeaslipWebsite  pushpay.comCategory  PaymentsOwnership  PublicRank Last Year  42Staff👤 👤 👤 👤 👤 At a Glance',\n",
       " 'Tagline Better Employee Benefits for Your BusinessLocated  CanadaYear Founded  2014Key People  Michael SerbinisDan LeibuTodd HumphreyDan GalperinWebsite  league.comCategory  InsuranceOwnership  PrivateRank Last Year  41Staff👤 👤 👤 👤 👤 At a Glance',\n",
       " 'Tagline The New Shape of MoneyLocated  United StatesYear Founded  2013Key People  Jeremy AllaireSean NevilleWebsite  circle.comCategory  PaymentsOwnership  PrivateRank Last Year  30Staff👤 👤 👤 👤 👤 At a Glance',\n",
       " 'Tagline Think Cash, Think Lendingkart Group!Located  IndiaYear Founded  2014Key People  Harshvardhan LuniaMukul SachanWebsite  lendingkart.comCategory  LendingOwnership  PrivateRank Last Year  33Staff👤 👤 👤 👤 👤 At a Glance',\n",
       " 'Tagline Get an offer on your home with the press of a button.Located  United StatesYear Founded  2014Key People  Eric WuIan Wong Justin Ross Website  opendoor.comCategory  PaymentsOwnership  PrivateRank Last Year  New to the listStaff👤 👤 👤 👤 👤 At a Glance',\n",
       " 'Tagline Pay-Per-Mile InsuranceLocated  United StatesYear Founded  2011Key People Dan Preston David FriedbergSteve PretreWebsite  metromile.comCategory  InsuranceOwnership  PrivateRank Last Year  New to the listStaff👤 👤 👤 👤 👤 At a Glance',\n",
       " 'Tagline A Next-Generation Investment ServiceLocated  JapanYear Founded  2015Key People  Shinichiro KaiShunichi KajiwaraHajime Hirono  Website  folio-sec.comCategory  WealthOwnership  PrivateRank Last Year  New to the listStaff👤 👤 👤 👤 👤 At a Glance',\n",
       " 'Tagline The #1 Lending Marketplace in FranceLocated  FranceYear Founded  2014Key People  Olivier Goy  Website  en.lendix.comCategory  LendingOwnership  PrivateRank Last Year  45Staff👤 👤 👤 👤 👤 At a Glance',\n",
       " 'Tagline You own your moneyLocated  BrazilYear Founded  2012Key People  Benjamin Gleason Thiago AlvarezWebsite  guiabolso.comCategory  LendingOwnership  PrivateRank Last Year  48Staff👤 👤 👤 👤 👤 At a Glance',\n",
       " 'Tagline See your money in a new wayLocated  United KingdomYear Founded  2014Key People  Anne Boden\\xa0 Website  starlingbank.comCategory  Neo-BankOwnership  PrivateRank Last Year  New to the listStaff👤 👤 👤 👤 👤 At a Glance',\n",
       " 'Tagline Buy and Sell Digital CurrencyLocated  United StatesYear Founded  2012Key People  Brian ArmstrongFred EhrsamWebsite  coinbase.comCategory  PaymentsOwnership  PrivateRank Last Year  40Staff👤 👤 👤 👤 👤 At a Glance',\n",
       " 'Tagline Forex and International Payments, Re-ImaginedLocated  AustraliaYear Founded  2015Key People  Lucy Yueting LiuJack Zhang Jacob DaiWebsite  airwallex.comCategory  PaymentsOwnership  PrivateRank Last Year  Emerging CompanyStaff👤 👤 👤 👤 👤 At a Glance',\n",
       " 'Tagline Protect The Stuff You LoveLocated  United StatesYear Founded  2015Key People  Daniel SchreiberShai WiningerWebsite  lemonade.comCategory  InsuranceOwnership  PrivateRank Last Year  Did not rank in 2017Staff👤 👤 👤 👤 👤 At a Glance',\n",
       " 'Tagline Transform the way you buy, sell and store grain.Located  AustraliaYear Founded  2015Key People  Emma WestonBob McKayBen ReidWebsite  agridigital.ioCategory  PaymentsOwnership  PrivateStaff👤 👤 👤 👤 👤 At a Glance',\n",
       " 'Tagline Picture. A better loan.Located  SwedenYear Founded  2017Key People  Mikael HussainSven PerkmannFilip PolhemWebsite  anyfin.comCategory  LendingOwnership  PrivateStaff👤 👤 👤 👤 👤 At a Glance',\n",
       " 'Tagline Insurance Made SimpleLocated  United Arab EmiratesYear Founded  2017Key People  Hadi RadwanAbi NaderWebsite  aqeed.comCategory  InsuranceOwnership  PrivateStaff👤 👤 👤 👤 👤 At a Glance',\n",
       " 'Tagline Banking for the blockchain era.Located  LithuaniaYear Founded  2017Key People  Vytautas KaraleviciusWebsite  bankera.comCategory  Neo-BankOwnership  PrivateStaff👤 👤 👤 👤 👤 At a Glance',\n",
       " 'Tagline Making innovative investments easily tradable for all Located  MaltaYear Founded  2015Key People  Ilya PerekopskyOleg SeydakWebsite  blackmoonplatform.comCategory  Financial ServicesOwnership  PrivateStaff👤 👤 👤 👤 👤 At a Glance',\n",
       " 'Tagline Loans backed by your cryptocurrencyLocated  United StatesYear Founded  2017Key People  Zac PrinceFlori MarquezWebsite  blockfi.comCategory  LendingOwnership  PrivateStaff👤 👤 👤 👤 👤 At a Glance',\n",
       " 'Tagline Corporate Cards for StartupsLocated  United StatesYear Founded  2017Key People  Henrique DubugrasPedro FranceschiWebsite  www.brex.comCategory  PaymentsOwnership  PrivateStaff👤 👤 👤 👤 👤 At a Glance',\n",
       " 'Tagline Next generation banking platform.  Located  United KingdomYear Founded  2016Key People  Celestine VetticalFelice CovelliJanina LowiskKumar GauravWebsite  cashaa.comCategory  Neo-BankOwnership  PrivateStaff👤 👤 👤 👤 👤 At a Glance',\n",
       " 'Tagline Life is MobileLocated  KenyaYear Founded  2004Key People  Bolaji AkinboroKen NjorogeWebsite  cellulant.comCategory  PaymentsOwnership  PrivateStaff👤 👤 👤 👤 👤 At a Glance',\n",
       " 'Tagline Your\\xa0AI pal, giving you a hand with your money.Located  United KingdomYear Founded  2015Key People  Aleksandra WozniakBarnaby Hussey-YeoWebsite  meetcleo.comCategory  WealthOwnership  PrivateStaff👤 👤 👤 👤 👤 At a Glance',\n",
       " 'Tagline Join the future of InsuranceLocated  GermanyYear Founded  2016Key People  Andrew ShawPeter HagenSebastian VillarroelWebsite  coya.comCategory  InsuranceOwnership  PrivateStaff👤 👤 👤 👤 👤 At a Glance',\n",
       " 'Tagline Pay with crypto anywhere in the worldLocated  EstoniaYear Founded  2017Key People  Austin KimmGleb MarkovMarc O’BrienSteven PolyakVladimir GorbunovWebsite  crypterium.comCategory  PaymentsOwnership  PrivateStaff👤 👤 👤 👤 👤 At a Glance',\n",
       " 'Tagline Finance to enrich everyday life.Located  KoreaYear Founded  2015Key People  Sean Seunghyun ShinKevin Kangmin ParkWebsite  daylifg.comCategory  WealthOwnership  PrivateStaff👤 👤 👤 👤 👤 At a Glance',\n",
       " 'Tagline Save to your dreamsLocated  SwedenYear Founded  2013Key People  Henrik RosvallJoel Broms BrosjoJohan HemmingerJohan StahleWebsite  getdreams.comCategory  WealthOwnership  PrivateStaff👤 👤 👤 👤 👤 At a Glance',\n",
       " 'Tagline Peer-to-Peer Financing & InvestmentsLocated  SingaporeYear Founded  2015Key People  Iwan KurniawanKelvin TeoReynold WijayaWebsite  fundingsocieties.comCategory  LendingOwnership  PrivateStaff👤 👤 👤 👤 👤 At a Glance',\n",
       " 'Tagline The smart way to get a loan.Located  BrazilYear Founded  2013Key People  Sandro ReissTomas CorreaKarin Thies  Website  geru.com.brCategory  LendingOwnership  PrivateStaff👤 👤 👤 👤 👤 At a Glance',\n",
       " 'Tagline Send & SaveLocated  SingaporeYear Founded  2014Key People  Michael BerminghamPrajit NanuWebsite  instarem.comCategory  PaymentsOwnership  PrivateStaff👤 👤 👤 👤 👤 At a Glance',\n",
       " 'Tagline A new financial service experience for SMEs.Located  MexicoYear Founded  2013Key People  David AranaFrancisco PadillaWebsite  konfio.mxCategory  LendingOwnership  PrivateStaff👤 👤 👤 👤 👤 At a Glance',\n",
       " 'Tagline Buy Now, Pay Later Located  IndonesiaYear Founded  2016Key People  Akshay GargWebsite  kredivo.comCategory  PaymentsOwnership  PrivateStaff👤 👤 👤 👤 👤 At a Glance',\n",
       " 'Tagline Enabling Atomic Token Swaps, EverywhereLocated  SingaporeYear Founded  2017Key People  Loi LuuVictor TranYaron Velner Website  kyber.networkCategory  PaymentsOwnership  PrivateStaff👤 👤 👤 👤 👤 At a Glance',\n",
       " 'Tagline Lend to Small BusinessesLocated  JordanYear Founded  2013Key People  Ahmed MoorSamer AtianiWebsite  liwwa.comCategory  WealthOwnership  PrivateStaff👤 👤 👤 👤 👤 At a Glance',\n",
       " 'Tagline Make transaction not recognised a thing of the past.Located  AustraliaYear Founded  2016Key People  Stuart GroverDavid WashbrookNicole Grover Website  lookwhoscharging.com.auCategory  OtherOwnership  PrivateStaff👤 👤 👤 👤 👤 At a Glance',\n",
       " 'Tagline Mobile MoneyLocated  VietnamYear Founded  2013Key People  Pham Thanh DucWebsite  www.momo.vnCategory  PaymentsOwnership  PrivateStaff👤 👤 👤 👤 👤 At a Glance',\n",
       " 'Tagline Advice about money from an expert on-demand.Located  AustraliaYear Founded  2015Key People  Joel RobbieWebsite  nod.moneyCategory  OtherOwnership  PrivateStaff👤 👤 👤 👤 👤 At a Glance',\n",
       " 'Tagline Payment Gateway for AsiaLocated  ThailandYear Founded  2013Key People  Ezra Don HarinsutJun HasegawaWebsite  www.omise.coCategory  PaymentsOwnership  PrivateStaff👤 👤 👤 👤 👤 At a Glance',\n",
       " 'Tagline A simple app for bill paymentLocated  NorwayYear Founded  2016Key People  Espen GrimstadWebsite  payr.noCategory  PaymentsOwnership  PrivateStaff👤 👤 👤 👤 👤 At a Glance',\n",
       " 'Tagline Easily get a personal loan of up to Rs.2 Lakhs within minutes.Located  IndiaYear Founded  2015Key People  Prashanth Ranganathan Sayli KaranjkarWebsite  gopaysense.comCategory  LendingOwnership  PrivateStaff👤 👤 👤 👤 👤 At a Glance',\n",
       " 'Tagline Accept Payments OnlineLocated  BahrainYear Founded  2014Key People  Abdulaziz Fahad Al JoufWebsite  paytabs.comCategory  PaymentsOwnership  PrivateStaff👤 👤 👤 👤 👤 At a Glance',\n",
       " 'Tagline Say goodbye to expense reportsLocated  DenmarkYear Founded  2015Key People  Jeppe RindomNiccolo PerraWebsite  pleo.ioCategory  PaymentsOwnership  PrivateStaff👤 👤 👤 👤 👤 At a Glance',\n",
       " 'Tagline The Future of SecuritiesLocated  BarbadosYear Founded  2017Key People  Chris HousserTrevor KoverkoWebsite  polymath.networkCategory  PaymentsOwnership  PrivateStaff👤 👤 👤 👤 👤 At a Glance',\n",
       " 'Tagline Insurance for all your business activity.Located  FranceYear Founded  2015Key People  Eric MignotAnthony JouannauSalah HamidaWebsite  plussimple.frCategory  InsuranceOwnership  PrivateStaff👤 👤 👤 👤 👤 At a Glance',\n",
       " 'Tagline Energy, reimagined.Located  AustraliaYear Founded  2016Key People  Dave MartinDr. Jemma GreenJenni ConroyJohn BulichWebsite  powerledger.ioCategory  PaymentsOwnership  PrivateStaff👤 👤 👤 👤 👤 At a Glance',\n",
       " 'Tagline Making cryptocurrency accessible to everyoneLocated  IndonesiaYear Founded  2017Key People  Constantin PapadimitriouDanny LimPitt HuangZi Bin (Zac) CheahWebsite  pundix.comCategory  PaymentsOwnership  PrivateStaff👤 👤 👤 👤 👤 At a Glance',\n",
       " 'Tagline Connecting data. Empowering decisions.Located  United KingdomYear Founded  2016Key People  Vishal MarriaImam HoqueWebsite  quantexa.comCategory  OtherOwnership  PrivateStaff👤 👤 👤 👤 👤 At a Glance',\n",
       " 'Tagline Meitculous  Detail. Unprecedented Scale.Located  United KingdomYear Founded  2012Key People  Joanne SmithWebsite  recordsure.comCategory  OtherOwnership  PrivateStaff👤 👤 👤 👤 👤 At a Glance',\n",
       " 'Tagline Buy bitcoins easily.Located  ArgentinaYear Founded  2013Key People  Luciana GruszeczkaMugur MarculescuSebastian SerranoWebsite  ripiocredit.networkCategory  PaymentsOwnership  PrivateStaff👤 👤 👤 👤 👤 At a Glance',\n",
       " 'Tagline Fight fraud with AILocated  FranceYear Founded  2014Key People  David DurrlemanEric SibonyJeremy JawishWebsite  shift-technology.comCategory  OtherOwnership  PrivateStaff👤 👤 👤 👤 👤 At a Glance',\n",
       " 'Tagline Good value life insurance that you actually needLocated  SingaporeYear Founded  2014Key People  Walter de OudeRay FergusonWebsite  singlife.comCategory  InsuranceOwnership  PrivateStaff👤 👤 👤 👤 👤 At a Glance',\n",
       " 'Tagline Giving credit where it’s dueLocated  United StatesYear Founded  2011Key People  Shivani SiroyaWebsite  tala.coCategory  OtherOwnership  PrivateStaff👤 👤 👤 👤 👤 At a Glance',\n",
       " 'Tagline Overcome credit card debtLocated  United StatesYear Founded  2015Key People  Jason BrownJasper PlatzWebsite  meettally.comCategory  PaymentsOwnership  PrivateStaff👤 👤 👤 👤 👤 At a Glance',\n",
       " 'Tagline Spend your cryptocurrencies anytime, anywhere.Located  SingaporeYear Founded  2015Key People  Dr. Julian HospToby HoenischPaul Kitti Michael SperkWebsite  tenx.techCategory  PaymentsOwnership  PrivateStaff👤 👤 👤 👤 👤 At a Glance',\n",
       " 'Tagline Verifying Identities On-LineLocated  South AfricaYear Founded  2013Key People  David ThomasJuan FurmieNadeem ShahidWebsite  thisisme.comCategory  OtherOwnership  PrivateStaff👤 👤 👤 👤 👤 At a Glance',\n",
       " 'Tagline Business banking re-designed.Located  United KingdomYear Founded  2015Key People  George BevisWebsite  tide.coCategory  WealthOwnership  PrivateStaff👤 👤 👤 👤 👤 At a Glance',\n",
       " 'Tagline Get ready to invest for real.Located  ChinaYear Founded  2014Key People  Wu TianhuaWebsite  itiger.comCategory  WealthOwnership  PrivateStaff👤 👤 👤 👤 👤 At a Glance',\n",
       " 'Tagline Pay your bills from your mobile phone in secondsLocated  ColombiaYear Founded  2015Key People  Andres Gutierrez, Juan Salcedo, Sebastian OrtizWebsite  tpaga.coCategory  PaymentsOwnership  PrivateStaff👤 👤 👤 👤 👤 At a Glance',\n",
       " 'Tagline End to End Lending AutomationLocated  AustraliaYear Founded  2016Key People  Martin McCannMatthias BornWebsite  tradeledger.ioCategory  LendingOwnership  PrivateStaff👤 👤 👤 👤 👤 At a Glance',\n",
       " 'Tagline Fee Free, the Only Way to BankLocated  United StatesYear Founded  2015Key People  Colin WalshKolya KlymenkoWebsite  varomoney.comCategory  Neo-BankOwnership  PrivateStaff👤 👤 👤 👤 👤 At a Glance',\n",
       " 'Tagline Send Money, Receive Money and make payments using a phone numberLocated  NigeriaYear Founded  2016Key People  John OkeWebsite  wallet.ngCategory  WealthOwnership  PrivateStaff👤 👤 👤 👤 👤 At a Glance',\n",
       " 'Tagline Easy and instant money transferLocated  MyanmarYear Founded  2015Key People  Brad JonesWebsite  wavemoney.com.mmCategory  PaymentsOwnership  PrivateStaff👤 👤 👤 👤 👤 At a Glance',\n",
       " 'Tagline TenCent’s bankLocated  ChinaYear Founded  2014Key People  Gu MinGary FangLi NanqingWebsite  webank.comCategory  Neo-BankOwnership  PrivateStaff👤 👤 👤 👤 👤 At a Glance']"
      ]
     },
     "execution_count": 44,
     "metadata": {},
     "output_type": "execute_result"
    }
   ],
   "source": [
    "glance"
   ]
  },
  {
   "cell_type": "code",
   "execution_count": 47,
   "metadata": {},
   "outputs": [],
   "source": [
    "description_investor = []\n",
    "a = 0\n",
    "while a <100:\n",
    "    page =doc.get_page(a)\n",
    "    description_investor.append(\"\".join(page.letterings.iter_in_bbox(description_investor_box)))\n",
    "    a += 1"
   ]
  },
  {
   "cell_type": "code",
   "execution_count": 126,
   "metadata": {},
   "outputs": [
    {
     "data": {
      "text/plain": [
       "'Company DescriptionMetromile is revolutionizing car insurance through technology with its pay-per-mile insurance model. The company offers a device called the Metromile Pulse that plugs into a car to monitor its hours on the road. Based on this data, Metromile offers drivers tailored insurance plans. Last July the company debuted Ava, an automated assistant that uses car sensor data to verify insurance claims on the spot. Using data derived from Pulse, Ava reconstructs the scene of the accident to establish what happened and can automatically approve payments in the matter of seconds.Notable InvestorsTokio Marine, Holdings, Intact Financial Corporation, Section 32, Index Ventures,\\xa0First Round Capital'"
      ]
     },
     "execution_count": 126,
     "metadata": {},
     "output_type": "execute_result"
    }
   ],
   "source": [
    "description_investor[42]"
   ]
  },
  {
   "cell_type": "code",
   "execution_count": 119,
   "metadata": {},
   "outputs": [
    {
     "data": {
      "text/plain": [
       "'Company DescriptionAnt Financial Services Group is dedicated to using technology to bring the world equal opportunities. Their technologies, including blockchain, artificial intelligence, sercurity, Internet of Things and computing, has helped Ant Financial and their ecosystem partners to serve the unbanked and underbanked. By the end of March 2018, together with their JV partners, Ant Financial served 870 million users worldwide. Brands under Ant Financial include Alipay, Ant Fortune, Yu’e Bao, Zhima Credit, MYbank and Ant Financial Cloud.Notable InvestorsTemasek Holdings, GIC, China Investment Corp (CIC), CCB Trust, China Life, China Post Group, China Development Bank Capital, Primavera Capital Group, National Social Security Fund (NSSF)'"
      ]
     },
     "execution_count": 119,
     "metadata": {},
     "output_type": "execute_result"
    }
   ],
   "source": [
    "description_investor[0]"
   ]
  },
  {
   "cell_type": "code",
   "execution_count": 120,
   "metadata": {},
   "outputs": [],
   "source": [
    "patternOfDescription = re.compile(r'Company Description([\\s\\S]+)  Notable investors')\n",
    "patternOfInvestors = re.compile(r'  Notable investors([\\s\\S]+)')"
   ]
  },
  {
   "cell_type": "code",
   "execution_count": 121,
   "metadata": {},
   "outputs": [],
   "source": [
    "try:\n",
    "    Description = patternOfDescription.findall(description_investor[1])[0]\n",
    "except:\n",
    "    Description = None"
   ]
  },
  {
   "cell_type": "code",
   "execution_count": 122,
   "metadata": {},
   "outputs": [
    {
     "data": {
      "text/plain": [
       "'JD Finance began operating as an independent company in October 2013. Positioned as a digital technology company serving financial institutions, JD Finance is dedicated to providing digital, online and offline all-scenario servicesaround three key points - data, user and connectivity, by means of such emerging technologies as big data, AI, cloud computing, blockchain and IoT. By so doing, it is aimed to empower financial institutions to improve efficiency, reduce costs and increase income in the core value sections like scenario expansion, customer acquisition, operation, risk control, and R&D, and propel the industry to comprehensively stride into the digital finance era.'"
      ]
     },
     "execution_count": 122,
     "metadata": {},
     "output_type": "execute_result"
    }
   ],
   "source": [
    "Description"
   ]
  },
  {
   "cell_type": "code",
   "execution_count": 123,
   "metadata": {},
   "outputs": [],
   "source": [
    "try:\n",
    "    Investors = patternOfInvestors.findall(description_investor[1])[0]\n",
    "except:\n",
    "    Investors = None"
   ]
  },
  {
   "cell_type": "code",
   "execution_count": 124,
   "metadata": {},
   "outputs": [
    {
     "data": {
      "text/plain": [
       "':CICC, BOCGI ,China Securities, CITIC Capital, Sequoia Capital China, China Harvest Investments and China Taiping Insurance.'"
      ]
     },
     "execution_count": 124,
     "metadata": {},
     "output_type": "execute_result"
    }
   ],
   "source": [
    "Investors"
   ]
  },
  {
   "cell_type": "code",
   "execution_count": 128,
   "metadata": {},
   "outputs": [
    {
     "data": {
      "text/plain": [
       "'Tagline The New Finance. For borrowers. For lenders. For you.Located  ChinaYear Founded  2012Key People Yuhang GuoSoul HtiteWebsite  dianrong.comCategory  LendingOwnership  PrivateRank Last Year  31Staff👤 👤 👤 👤 👤 At a Glance'"
      ]
     },
     "execution_count": 128,
     "metadata": {},
     "output_type": "execute_result"
    }
   ],
   "source": [
    "glance[26]"
   ]
  },
  {
   "cell_type": "code",
   "execution_count": 100,
   "metadata": {},
   "outputs": [],
   "source": [
    "patternOfYear = re.compile(r'Year Founded  (.+)Key People')\n",
    "patternOfLocation = re.compile(r'Located  (.+)Year Founded')\n",
    "patternOfWebsite = re.compile(r'Website  (.+)Category')\n",
    "patternOfCategory = re.compile(r'Category  (.+)Ownership')\n",
    "patternOfOwnership  = re.compile(r'Ownership  (.+)Rank')\n",
    "patternOfOwnershipafter = re.compile(r'Ownership  (.+)Staff')\n",
    "patternOfKeyPeople = re.compile(r'Key People  ([\\s\\S]+)Website')\n",
    "#rex = /([A-Z])([A-Z])([a-z])|([a-z])([A-Z])/g"
   ]
  },
  {
   "cell_type": "code",
   "execution_count": 106,
   "metadata": {},
   "outputs": [],
   "source": [
    "    try:\n",
    "        Year = patternOfYear.findall(glance[51])[0]\n",
    "    except:\n",
    "        Year = None\n",
    "    try:\n",
    "        Location = patternOfLocation.findall(glance[51])[0]\n",
    "    except:\n",
    "        Location = None\n",
    "    try:\n",
    "        Website = patternOfWebsite.findall(glance[51])[0]\n",
    "    except:\n",
    "        Website = None\n",
    "    try:\n",
    "        Category = patternOfCategory.findall(glance[51])[0]\n",
    "    except:\n",
    "        Category = None\n",
    "    try:\n",
    "        Ownership = patternOfOwnership.findall(glance[51])[0]\n",
    "    except:\n",
    "        if patternOfOwnershipafter.findall(glance[51]):#[0] != '':\n",
    "            Ownership = patternOfOwnershipafter.findall(glance[51])[0]\n",
    "        else:\n",
    "            Ownership = None\n",
    "    try:\n",
    "        Keypeople = ','.join(re.split(r'(?<=[a-z])(?=[A-Z])', patternOfKeyPeople.findall(glance[51])[0]))\n",
    "    except:\n",
    "        Keypeople = None"
   ]
  },
  {
   "cell_type": "code",
   "execution_count": 91,
   "metadata": {},
   "outputs": [
    {
     "data": {
      "text/plain": [
       "'2013'"
      ]
     },
     "execution_count": 91,
     "metadata": {},
     "output_type": "execute_result"
    }
   ],
   "source": [
    "Year"
   ]
  },
  {
   "cell_type": "code",
   "execution_count": 92,
   "metadata": {},
   "outputs": [
    {
     "data": {
      "text/plain": [
       "'United States'"
      ]
     },
     "execution_count": 92,
     "metadata": {},
     "output_type": "execute_result"
    }
   ],
   "source": [
    "Location"
   ]
  },
  {
   "cell_type": "code",
   "execution_count": 93,
   "metadata": {},
   "outputs": [
    {
     "data": {
      "text/plain": [
       "'www.robinhood.com'"
      ]
     },
     "execution_count": 93,
     "metadata": {},
     "output_type": "execute_result"
    }
   ],
   "source": [
    "Website"
   ]
  },
  {
   "cell_type": "code",
   "execution_count": 94,
   "metadata": {},
   "outputs": [
    {
     "data": {
      "text/plain": [
       "'Wealth'"
      ]
     },
     "execution_count": 94,
     "metadata": {},
     "output_type": "execute_result"
    }
   ],
   "source": [
    "Category"
   ]
  },
  {
   "cell_type": "code",
   "execution_count": 107,
   "metadata": {},
   "outputs": [
    {
     "data": {
      "text/plain": [
       "'Private'"
      ]
     },
     "execution_count": 107,
     "metadata": {},
     "output_type": "execute_result"
    }
   ],
   "source": [
    "Ownership"
   ]
  },
  {
   "cell_type": "code",
   "execution_count": 98,
   "metadata": {},
   "outputs": [
    {
     "data": {
      "text/plain": [
       "'Baiju Bhatt,Vladimir Tenev,Nate Rodland'"
      ]
     },
     "execution_count": 98,
     "metadata": {},
     "output_type": "execute_result"
    }
   ],
   "source": [
    "Keypeople"
   ]
  },
  {
   "cell_type": "code",
   "execution_count": 87,
   "metadata": {},
   "outputs": [
    {
     "data": {
      "text/plain": [
       "'Mario Schlosser Joshua Kushner'"
      ]
     },
     "execution_count": 87,
     "metadata": {},
     "output_type": "execute_result"
    }
   ],
   "source": [
    "''.join(re.split(r'(?<=[a-z])(?=[A-Z])', 'Mario SchlosserJoshua Kushner'))"
   ]
  },
  {
   "cell_type": "code",
   "execution_count": null,
   "metadata": {},
   "outputs": [],
   "source": []
  }
 ],
 "metadata": {
  "kernelspec": {
   "display_name": "Python 3",
   "language": "python",
   "name": "python3"
  },
  "language_info": {
   "codemirror_mode": {
    "name": "ipython",
    "version": 3
   },
   "file_extension": ".py",
   "mimetype": "text/x-python",
   "name": "python",
   "nbconvert_exporter": "python",
   "pygments_lexer": "ipython3",
   "version": "3.7.1"
  },
  "toc": {
   "base_numbering": 1,
   "nav_menu": {},
   "number_sections": true,
   "sideBar": true,
   "skip_h1_title": false,
   "title_cell": "Table of Contents",
   "title_sidebar": "Contents",
   "toc_cell": false,
   "toc_position": {},
   "toc_section_display": true,
   "toc_window_display": false
  }
 },
 "nbformat": 4,
 "nbformat_minor": 2
}
