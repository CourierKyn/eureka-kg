{
 "cells": [
  {
   "cell_type": "code",
   "execution_count": 1,
   "metadata": {},
   "outputs": [],
   "source": [
    "import importlib\n",
    "import sys\n",
    "import random\n",
    "from urllib.request import urlopen\n",
    "from urllib.request import Request\n",
    "\n",
    "from pdfminer.converter import PDFPageAggregator\n",
    "from pdfminer.layout import LTTextBoxHorizontal, LAParams\n",
    "from pdfminer.pdfinterp import PDFResourceManager, PDFPageInterpreter\n",
    "from pdfminer.pdfinterp import PDFTextExtractionNotAllowed\n",
    "from pdfminer.pdfparser import PDFParser, PDFDocument"
   ]
  },
  {
   "cell_type": "code",
   "execution_count": 14,
   "metadata": {},
   "outputs": [],
   "source": [
    "def parse(_path,text):\n",
    "    with open(_path,'rb')as fp:# rb以二进制读模式打开本地pdf文件\n",
    "\n",
    "        # 用文件对象来创建一个pdf文档分析器\n",
    "        praser_pdf = PDFParser(fp)\n",
    "\n",
    "        # 创建一个PDF文档\n",
    "        doc = PDFDocument()\n",
    "\n",
    "        # 连接分析器 与文档对象\n",
    "        praser_pdf.set_document(doc)\n",
    "        doc.set_parser(praser_pdf)\n",
    "\n",
    "        # 提供初始化密码doc.initialize(\"123456\")\n",
    "        # 如果没有密码 就创建一个空的字符串\n",
    "        doc.initialize()\n",
    "\n",
    "        # 检测文档是否提供txt转换，不提供就忽略\n",
    "        if not doc.is_extractable:\n",
    "            raise PDFTextExtractionNotAllowed\n",
    "        else:\n",
    "            # 创建PDf资源管理器 来管理共享资源\n",
    "            rsrcmgr = PDFResourceManager()\n",
    "\n",
    "            # 创建一个PDF参数分析器  创建一个PDF设备对象\n",
    "            laparams = LAParams()\n",
    "\n",
    "            # 创建聚合器\n",
    "            device = PDFPageAggregator(rsrcmgr, laparams=laparams)\n",
    "\n",
    "            # 创建一个PDF页面解释器对象\n",
    "            interpreter = PDFPageInterpreter(rsrcmgr, device)\n",
    "\n",
    "            # 循环遍历列表，每次处理一页的内容\n",
    "            # doc.get_pages() 获取page列表\n",
    "            for page in doc.get_pages():\n",
    "                # 使用页面解释器来读取\n",
    "                interpreter.process_page(page)\n",
    "\n",
    "                # 使用聚合器获取内容\n",
    "                layout = device.get_result()\n",
    "\n",
    "                # 这里layout是一个LTPage对象 里面存放着 这个page解析出的各种对象 一般包括LTTextBox, LTFigure, LTImage, LTTextBoxHorizontal 等等 想要获取文本就获得对象的text属性，\n",
    "                for out in layout:\n",
    "                    # 判断是否含有get_text()方法，图片之类的就没有\n",
    "                    # if hasattr(out,\"get_text\"):\n",
    "                    if isinstance(out, LTTextBoxHorizontal):\n",
    "                        results = out.get_text()\n",
    "                        text.write(results)\n"
   ]
  },
  {
   "cell_type": "code",
   "execution_count": 18,
   "metadata": {},
   "outputs": [],
   "source": [
    "_path = r\"Fintech100-2018-Report_Final_22-11-18sm.pdf\""
   ]
  },
  {
   "cell_type": "code",
   "execution_count": 15,
   "metadata": {},
   "outputs": [
    {
     "name": "stderr",
     "output_type": "stream",
     "text": [
      "WARNING:root:Cannot locate objid=11053\n",
      "WARNING:pdfminer.layout:Too many boxes (104) to group, skipping.\n",
      "WARNING:pdfminer.layout:Too many boxes (106) to group, skipping.\n"
     ]
    }
   ],
   "source": [
    "with open('text.txt','a',encoding='utf-8') as text:\n",
    "    parse(_path,text)"
   ]
  },
  {
   "cell_type": "markdown",
   "metadata": {},
   "source": [
    "## 截取特定的pdf页"
   ]
  },
  {
   "cell_type": "code",
   "execution_count": 21,
   "metadata": {},
   "outputs": [],
   "source": [
    "from PyPDF2 import PdfFileWriter, PdfFileReader"
   ]
  },
  {
   "cell_type": "code",
   "execution_count": 22,
   "metadata": {},
   "outputs": [],
   "source": [
    "def  pdfCrap(path,start_page,i,save_path):\n",
    "    \"\"\"\n",
    "    从pdf文件中截取几页，并保存在对应pdf文件中\n",
    "    \"\"\"\n",
    "    # 开始页\n",
    "    start_page = start_page - 1\n",
    "    # 截止页\n",
    "    end_page = start_page +  i  # 这里设定截取几页\n",
    "    output = PdfFileWriter()\n",
    "    pdf_file = PdfFileReader(open(path, \"rb\"), strict=False)\n",
    "    pdf_pages_len = pdf_file.getNumPages()\n",
    "    for i  in  range(start_page, end_page):\n",
    "        output.addPage(pdf_file.getPage(i)) # 在输出流中添加页\n",
    "    outputStream =  open(save_path, \"wb\")\n",
    "    output.write(outputStream)"
   ]
  },
  {
   "cell_type": "code",
   "execution_count": 23,
   "metadata": {},
   "outputs": [],
   "source": [
    "save_path = r\"F:\\project\\ML_project\\Fintech100-10-11.pdf\"\n",
    "pdfCrap(_path,10,2,save_path)"
   ]
  },
  {
   "cell_type": "markdown",
   "metadata": {},
   "source": [
    "## PyPDF2不适合读取"
   ]
  },
  {
   "cell_type": "code",
   "execution_count": 24,
   "metadata": {},
   "outputs": [],
   "source": [
    "def getPdfContent(filename):\n",
    "    pdf = PdfFileReader(open(filename, \"rb\"))\n",
    "    content = \"\"\n",
    "    for i in range(0, pdf.getNumPages()):\n",
    "        pageObj = pdf.getPage(i)\n",
    "\n",
    "        extractedText = pageObj.extractText()\n",
    "        content += extractedText + \"\\n\"\n",
    "        # return content.encode(\"ascii\", \"ignore\")\n",
    "    return content"
   ]
  },
  {
   "cell_type": "code",
   "execution_count": 25,
   "metadata": {},
   "outputs": [
    {
     "data": {
      "text/plain": [
       "'10\\npage#0112#02JD Finance\\n13#03\\n14#0415#05\\n16#0617#0718#08\\n19#09\\n20#10\\n21#11\\n\\n22#12\\n23#13\\n24#14\\n25#15\\n26#1627#17\\n28#18\\n29#1930#20\\n \\n31#21\\n32#22\\n33#23\\n34#2435#25\\n36#26\\n37#27\\n38#28\\n39#2940#30\\n41#3142#32\\n43#33\\n44#34\\n45#35\\n46#3647#37\\n48#38\\n49#3950#40\\n51#41\\n52#4253#43\\n54#44Folio55#4556#4657#47\\n58#48\\n59#49\\n60#5061\\n11\\npage\\n62\\n63\\n64\\n65\\n6667\\n68697071\\n72\\n73\\n74\\n75\\n7677\\n78\\n79\\n80\\n81\\n82\\n83848586\\n87\\n88\\n899091\\n92\\n9394\\n95\\n96\\n97\\n98\\n99Tala\\n100\\n101TenX\\n102\\n103\\n104\\n105106\\n107\\n108\\n109\\n110\\n111presented in alphabetical order\\n\\n˜  \\n  \\n\\n'"
      ]
     },
     "execution_count": 25,
     "metadata": {},
     "output_type": "execute_result"
    }
   ],
   "source": [
    "getPdfContent(save_path)"
   ]
  },
  {
   "cell_type": "markdown",
   "metadata": {},
   "source": [
    "## 用定义的parse函数来解析pdf"
   ]
  },
  {
   "cell_type": "code",
   "execution_count": 27,
   "metadata": {},
   "outputs": [
    {
     "name": "stderr",
     "output_type": "stream",
     "text": [
      "WARNING:pdfminer.layout:Too many boxes (104) to group, skipping.\n",
      "WARNING:pdfminer.layout:Too many boxes (106) to group, skipping.\n"
     ]
    }
   ],
   "source": [
    "with open('texe_10_11.txt','a',encoding='utf-8') as texe_10_11:\n",
    "    parse(save_path,texe_10_11)"
   ]
  },
  {
   "cell_type": "code",
   "execution_count": null,
   "metadata": {},
   "outputs": [],
   "source": []
  }
 ],
 "metadata": {
  "kernelspec": {
   "display_name": "Python 3",
   "language": "python",
   "name": "python3"
  },
  "language_info": {
   "codemirror_mode": {
    "name": "ipython",
    "version": 3
   },
   "file_extension": ".py",
   "mimetype": "text/x-python",
   "name": "python",
   "nbconvert_exporter": "python",
   "pygments_lexer": "ipython3",
   "version": "3.7.1"
  },
  "toc": {
   "base_numbering": 1,
   "nav_menu": {},
   "number_sections": true,
   "sideBar": true,
   "skip_h1_title": false,
   "title_cell": "Table of Contents",
   "title_sidebar": "Contents",
   "toc_cell": false,
   "toc_position": {},
   "toc_section_display": true,
   "toc_window_display": false
  }
 },
 "nbformat": 4,
 "nbformat_minor": 2
}
