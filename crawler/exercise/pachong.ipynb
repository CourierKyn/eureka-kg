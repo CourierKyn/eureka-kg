{
 "cells": [
  {
   "cell_type": "code",
   "execution_count": 1,
   "metadata": {},
   "outputs": [],
   "source": [
    "import requests\n",
    "import json\n",
    "from bs4 import BeautifulSoup\n",
    "import re\n",
    "import pandas as pd"
   ]
  },
  {
   "cell_type": "code",
   "execution_count": 2,
   "metadata": {},
   "outputs": [],
   "source": [
    "headers = {'User-Agent': 'Mozilla/5.0 (Macintosh; Intel Mac OS X 10_13_3) AppleWebKit/604.5.6 (KHTML, like Gecko) Version/11.0.3 Safari/604.5.6'}"
   ]
  },
  {
   "cell_type": "code",
   "execution_count": 3,
   "metadata": {},
   "outputs": [],
   "source": [
    "url='http://quotes.toscrape.com/'"
   ]
  },
  {
   "cell_type": "code",
   "execution_count": 8,
   "metadata": {},
   "outputs": [],
   "source": [
    "def get_page(url):\n",
    "    try:\n",
    "        html=get_text(url)\n",
    "    except:\n",
    "        list_error.append('error')#需要在函数外面定义\n",
    "        html = urlopen('http://quotes.toscrape.com/')\n",
    "    return html"
   ]
  },
  {
   "cell_type": "code",
   "execution_count": 5,
   "metadata": {},
   "outputs": [],
   "source": [
    "def get_data(html):\n",
    "    data=pd.DataFrame(columns=['text','author','tags'])\n",
    "    \n",
    "    pattern_text=r'\"text\">“(.*?)”</span>'\n",
    "    pattern_author=r'\"author\">(.*?)</small>'\n",
    "    pattern_tags=r'content=\"(.*?)\"'\n",
    "\n",
    "    txt=str(html)\n",
    "    text=re.findall(pattern_text,txt)\n",
    "    author=re.findall(pattern_author,txt)\n",
    "    tags=re.findall(pattern_tags,txt)\n",
    "\n",
    "    data['text']=pd.Series(text)\n",
    "    data['author']=pd.Series(author)\n",
    "    data['tags']=pd.Series(tags)\n",
    "    \n",
    "    return data"
   ]
  },
  {
   "cell_type": "code",
   "execution_count": 6,
   "metadata": {},
   "outputs": [],
   "source": [
    "def find_nextpage(html):\n",
    "    pattern_page=r'href=\"(.*?)\">Next'\n",
    "    page=re.findall(pattern_page,html)\n",
    "    if len(page):\n",
    "        state='run'\n",
    "    else:\n",
    "        state='end'\n",
    "        page=['sign']\n",
    "    return str(url[:26]+page[0]),state"
   ]
  },
  {
   "cell_type": "code",
   "execution_count": 9,
   "metadata": {},
   "outputs": [
    {
     "ename": "NameError",
     "evalue": "name 'urlopen' is not defined",
     "output_type": "error",
     "traceback": [
      "\u001b[1;31m---------------------------------------------------------------------------\u001b[0m",
      "\u001b[1;31mNameError\u001b[0m                                 Traceback (most recent call last)",
      "\u001b[1;32m<ipython-input-8-685b10726663>\u001b[0m in \u001b[0;36mget_page\u001b[1;34m(url)\u001b[0m\n\u001b[0;32m      2\u001b[0m     \u001b[1;32mtry\u001b[0m\u001b[1;33m:\u001b[0m\u001b[1;33m\u001b[0m\u001b[0m\n\u001b[1;32m----> 3\u001b[1;33m         \u001b[0mhtml\u001b[0m\u001b[1;33m=\u001b[0m\u001b[0mget_text\u001b[0m\u001b[1;33m(\u001b[0m\u001b[0murl\u001b[0m\u001b[1;33m)\u001b[0m\u001b[1;33m\u001b[0m\u001b[0m\n\u001b[0m\u001b[0;32m      4\u001b[0m     \u001b[1;32mexcept\u001b[0m\u001b[1;33m:\u001b[0m\u001b[1;33m\u001b[0m\u001b[0m\n",
      "\u001b[1;31mNameError\u001b[0m: name 'get_text' is not defined",
      "\nDuring handling of the above exception, another exception occurred:\n",
      "\u001b[1;31mNameError\u001b[0m                                 Traceback (most recent call last)",
      "\u001b[1;32m<ipython-input-9-ab0638d01c01>\u001b[0m in \u001b[0;36m<module>\u001b[1;34m()\u001b[0m\n\u001b[0;32m      4\u001b[0m \u001b[1;32mwhile\u001b[0m \u001b[1;32mTrue\u001b[0m\u001b[1;33m:\u001b[0m\u001b[1;33m\u001b[0m\u001b[0m\n\u001b[0;32m      5\u001b[0m \u001b[1;33m\u001b[0m\u001b[0m\n\u001b[1;32m----> 6\u001b[1;33m     \u001b[0mhtml\u001b[0m\u001b[1;33m=\u001b[0m\u001b[0mget_page\u001b[0m\u001b[1;33m(\u001b[0m\u001b[0murl\u001b[0m\u001b[1;33m)\u001b[0m\u001b[1;33m\u001b[0m\u001b[0m\n\u001b[0m\u001b[0;32m      7\u001b[0m \u001b[1;33m\u001b[0m\u001b[0m\n\u001b[0;32m      8\u001b[0m     \u001b[0mdata\u001b[0m\u001b[1;33m=\u001b[0m\u001b[0mget_data\u001b[0m\u001b[1;33m(\u001b[0m\u001b[0mhtml\u001b[0m\u001b[1;33m)\u001b[0m\u001b[1;33m\u001b[0m\u001b[0m\n",
      "\u001b[1;32m<ipython-input-8-685b10726663>\u001b[0m in \u001b[0;36mget_page\u001b[1;34m(url)\u001b[0m\n\u001b[0;32m      4\u001b[0m     \u001b[1;32mexcept\u001b[0m\u001b[1;33m:\u001b[0m\u001b[1;33m\u001b[0m\u001b[0m\n\u001b[0;32m      5\u001b[0m         \u001b[0mlist_error\u001b[0m\u001b[1;33m.\u001b[0m\u001b[0mappend\u001b[0m\u001b[1;33m(\u001b[0m\u001b[1;34m'error'\u001b[0m\u001b[1;33m)\u001b[0m\u001b[1;31m#需要在函数外面定义\u001b[0m\u001b[1;33m\u001b[0m\u001b[0m\n\u001b[1;32m----> 6\u001b[1;33m         \u001b[0mhtml\u001b[0m \u001b[1;33m=\u001b[0m \u001b[0murlopen\u001b[0m\u001b[1;33m(\u001b[0m\u001b[1;34m'http://quotes.toscrape.com/'\u001b[0m\u001b[1;33m)\u001b[0m\u001b[1;33m\u001b[0m\u001b[0m\n\u001b[0m\u001b[0;32m      7\u001b[0m     \u001b[1;32mreturn\u001b[0m \u001b[0mhtml\u001b[0m\u001b[1;33m\u001b[0m\u001b[0m\n",
      "\u001b[1;31mNameError\u001b[0m: name 'urlopen' is not defined"
     ]
    }
   ],
   "source": [
    "data_all=pd.DataFrame()\n",
    "list_error=[]\n",
    "i=0\n",
    "while True:\n",
    "\n",
    "    html=get_page(url)\n",
    "    \n",
    "    data=get_data(html)\n",
    "    data_all=pd.concat([data_all,data],ignore_index=True)\n",
    "    \n",
    "    url,state=find_nextpage(html)\n",
    "    if state=='end':\n",
    "        break\n",
    "    print('loop'+str(i))\n",
    "    i+=1"
   ]
  },
  {
   "cell_type": "code",
   "execution_count": null,
   "metadata": {
    "scrolled": true
   },
   "outputs": [],
   "source": [
    "#本行是第一版本代码，随后再拆分为各类函数，不需要运行\n",
    "data_all=pd.DataFrame()\n",
    "i=0\n",
    "while i<2:\n",
    "    list_error=[]\n",
    "    try:\n",
    "        html=get_text(url)\n",
    "    except:\n",
    "        list_error.append('error')\n",
    "\n",
    "    data=pd.DataFrame(columns=['text','author','tags'])\n",
    "\n",
    "    pattern_text=r'\"text\">“(.*?)”</span>'\n",
    "    pattern_author=r'\"author\">(.*?)</small>'\n",
    "    pattern_tags=r'content=\"(.*?)\"'\n",
    "\n",
    "    txt=str(html)\n",
    "    text=re.findall(pattern_text,txt)\n",
    "    author=re.findall(pattern_author,txt)\n",
    "    tags=re.findall(pattern_tags,txt)\n",
    "\n",
    "    data['text']=pd.Series(text)\n",
    "    data['author']=pd.Series(author)\n",
    "    data['tags']=pd.Series(tags)\n",
    "    data_all=pd.concat([data_all,data],ignore_index=True)\n",
    "    \n",
    "    pattern_page=r'href=\"(.*?)\">Next'\n",
    "\n",
    "    page=re.findall(pattern_page,html)\n",
    "    url=str(url+page[0])\n",
    "    i+=1"
   ]
  },
  {
   "cell_type": "code",
   "execution_count": null,
   "metadata": {
    "scrolled": true
   },
   "outputs": [],
   "source": [
    "data_all"
   ]
  },
  {
   "cell_type": "code",
   "execution_count": null,
   "metadata": {},
   "outputs": [],
   "source": [
    "data_all.to_excel('homework.xlsx')"
   ]
  },
  {
   "cell_type": "code",
   "execution_count": null,
   "metadata": {},
   "outputs": [],
   "source": []
  }
 ],
 "metadata": {
  "kernelspec": {
   "display_name": "Python 3",
   "language": "python",
   "name": "python3"
  },
  "language_info": {
   "codemirror_mode": {
    "name": "ipython",
    "version": 3
   },
   "file_extension": ".py",
   "mimetype": "text/x-python",
   "name": "python",
   "nbconvert_exporter": "python",
   "pygments_lexer": "ipython3",
   "version": "3.6.4"
  }
 },
 "nbformat": 4,
 "nbformat_minor": 2
}
